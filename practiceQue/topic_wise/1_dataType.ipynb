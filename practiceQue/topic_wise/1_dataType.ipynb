{
 "cells": [
  {
   "cell_type": "markdown",
   "metadata": {},
   "source": [
    "### 🔹 **Basic Level**\n",
    "\n",
    "\n",
    "\n"
   ]
  },
  {
   "cell_type": "markdown",
   "metadata": {},
   "source": [
    "1. Declare variables of these data types and print their values and types:\n",
    "   * `int`, `float`, `str`, `bool`, `NoneType`"
   ]
  },
  {
   "cell_type": "code",
   "execution_count": 8,
   "metadata": {},
   "outputs": [
    {
     "name": "stdout",
     "output_type": "stream",
     "text": [
      "<class 'int'>\n",
      "2\n",
      "2.09\n",
      "<class 'float'>\n",
      "string\n",
      "<class 'str'>\n",
      "True\n",
      "<class 'bool'>\n",
      "None\n",
      "<class 'NoneType'>\n"
     ]
    }
   ],
   "source": [
    "x = 2\n",
    "y = 2.09\n",
    "z = \"string\"\n",
    "p = True\n",
    "q = None\n",
    "print(type(x))\n",
    "print(x)\n",
    "print(y)\n",
    "print(type(y))\n",
    "print(z)\n",
    "print(type(z))\n",
    "print(p)\n",
    "print(type(p))\n",
    "print(q)\n",
    "print(type(q))\n"
   ]
  },
  {
   "cell_type": "markdown",
   "metadata": {},
   "source": [
    "2. Convert a string to an integer using `int()`."
   ]
  },
  {
   "cell_type": "code",
   "execution_count": 13,
   "metadata": {},
   "outputs": [
    {
     "name": "stdout",
     "output_type": "stream",
     "text": [
      "3\n",
      "<class 'int'>\n"
     ]
    }
   ],
   "source": [
    "x = \"3\"\n",
    "convert = int(x)\n",
    "print(convert)\n",
    "print(type(convert))"
   ]
  },
  {
   "cell_type": "markdown",
   "metadata": {},
   "source": [
    "3. Convert an integer to a string using `str()`."
   ]
  },
  {
   "cell_type": "code",
   "execution_count": null,
   "metadata": {},
   "outputs": [],
   "source": [
    "x = 3 \n",
    "convert = str(x)\n",
    "print(convert)\n",
    "print(type(convert))"
   ]
  },
  {
   "cell_type": "markdown",
   "metadata": {},
   "source": [
    "4. Convert a float to an integer using `int()` (observe what happens)."
   ]
  },
  {
   "cell_type": "code",
   "execution_count": 14,
   "metadata": {},
   "outputs": [
    {
     "name": "stdout",
     "output_type": "stream",
     "text": [
      "3\n",
      "<class 'int'>\n"
     ]
    }
   ],
   "source": [
    "x = 3.14\n",
    "convert = int(x)\n",
    "print(convert)\n",
    "print(type(convert))"
   ]
  },
  {
   "cell_type": "markdown",
   "metadata": {},
   "source": [
    "5. Create a boolean variable and print its value and type."
   ]
  },
  {
   "cell_type": "code",
   "execution_count": 15,
   "metadata": {},
   "outputs": [
    {
     "name": "stdout",
     "output_type": "stream",
     "text": [
      "True\n",
      "<class 'bool'>\n"
     ]
    }
   ],
   "source": [
    "x = True\n",
    "print(x)\n",
    "print(type(x))"
   ]
  },
  {
   "cell_type": "markdown",
   "metadata": {},
   "source": [
    "6. Create a variable with value `None` and print its type."
   ]
  },
  {
   "cell_type": "code",
   "execution_count": 16,
   "metadata": {},
   "outputs": [
    {
     "name": "stdout",
     "output_type": "stream",
     "text": [
      "None\n",
      "<class 'NoneType'>\n"
     ]
    }
   ],
   "source": [
    "x = None\n",
    "print(x)\n",
    "print(type(x))"
   ]
  },
  {
   "cell_type": "markdown",
   "metadata": {},
   "source": [
    "7. Demonstrate implicit type conversion in Python (e.g., `a = 10 + 3.5`)."
   ]
  },
  {
   "cell_type": "code",
   "execution_count": 17,
   "metadata": {},
   "outputs": [
    {
     "name": "stdout",
     "output_type": "stream",
     "text": [
      "<class 'int'>\n",
      "<class 'float'>\n",
      "13.5\n"
     ]
    }
   ],
   "source": [
    "x = 10\n",
    "y = 3.5\n",
    "print(type(x))\n",
    "print(type(y))\n",
    "print(x+y)"
   ]
  },
  {
   "cell_type": "markdown",
   "metadata": {},
   "source": [
    "8. Get input from user and convert:\n",
    "\n",
    "   * to int using `int()`\n",
    "   * to float using `float()`\n",
    "   * to bool using `bool()`"
   ]
  },
  {
   "cell_type": "code",
   "execution_count": 20,
   "metadata": {},
   "outputs": [
    {
     "name": "stdout",
     "output_type": "stream",
     "text": [
      "45\n",
      "45.0\n",
      "True\n"
     ]
    }
   ],
   "source": [
    "x = input(\"enter something\")\n",
    "convert1 = int(x)\n",
    "convert2 = float(x)\n",
    "convert3 = bool(x)\n",
    "print(convert1)\n",
    "print(convert2)\n",
    "print(convert3)\n"
   ]
  },
  {
   "cell_type": "markdown",
   "metadata": {},
   "source": [
    "9. Add an integer and float and print the result and its type."
   ]
  },
  {
   "cell_type": "code",
   "execution_count": 24,
   "metadata": {},
   "outputs": [
    {
     "name": "stdout",
     "output_type": "stream",
     "text": [
      "36.9\n",
      "<class 'float'>\n"
     ]
    }
   ],
   "source": [
    "x = 34\n",
    "y = 2.9\n",
    "result = x + y\n",
    "print(result)\n",
    "print(type(result))"
   ]
  },
  {
   "cell_type": "markdown",
   "metadata": {},
   "source": [
    "10. Multiply a string with an integer and print the result."
   ]
  },
  {
   "cell_type": "code",
   "execution_count": 33,
   "metadata": {},
   "outputs": [
    {
     "name": "stdout",
     "output_type": "stream",
     "text": [
      "<class 'int'>\n",
      "45\n"
     ]
    }
   ],
   "source": [
    "x = \"9\"\n",
    "con = int(x)\n",
    "print(type(con))\n",
    "y = 5\n",
    "print(con * y)"
   ]
  },
  {
   "cell_type": "markdown",
   "metadata": {},
   "source": [
    "### 🔹 **Intermediate Level**\n",
    "\n"
   ]
  },
  {
   "cell_type": "markdown",
   "metadata": {},
   "source": [
    "11. Take two inputs and print whether they are of the same data type."
   ]
  },
  {
   "cell_type": "code",
   "execution_count": 1,
   "metadata": {},
   "outputs": [
    {
     "name": "stdout",
     "output_type": "stream",
     "text": [
      "yes it is same data type\n"
     ]
    }
   ],
   "source": [
    "x = input(\"enter first\")\n",
    "y = input(\"enter second\")\n",
    "\n",
    "if type(x) == type(y):\n",
    "    print(\"yes it is same data type\")\n",
    "else:\n",
    "    print(\"not it is not\")\n",
    "    "
   ]
  },
  {
   "cell_type": "markdown",
   "metadata": {},
   "source": [
    "12. Perform addition of two numbers only if both are of type `int` (use `type()`)."
   ]
  },
  {
   "cell_type": "code",
   "execution_count": 6,
   "metadata": {},
   "outputs": [
    {
     "name": "stdout",
     "output_type": "stream",
     "text": [
      "Yes, it is same data type\n",
      "Result of x + y: 10\n"
     ]
    }
   ],
   "source": [
    "x = eval(input(\"Enter first: \"))\n",
    "y = eval(input(\"Enter second: \"))\n",
    "\n",
    "if type(x) == type(y):\n",
    "    print(\"Yes, it is same data type\")\n",
    "    print(\"Result of x + y:\", x + y)\n",
    "else:\n",
    "    print(\"No, it is not the same data type\")\n"
   ]
  },
  {
   "cell_type": "markdown",
   "metadata": {},
   "source": [
    "13. Write a program to check whether a given input is numeric (`int` or `float`) using `isinstance()`."
   ]
  },
  {
   "cell_type": "markdown",
   "metadata": {},
   "source": [
    "-  What is isinstance()?\n",
    "\n",
    "isinstance() is a built-in function in Python that is used to check if an object belongs to a specific data type (or class).\n",
    " \n",
    "``` isinstance(object, type) ```"
   ]
  },
  {
   "cell_type": "code",
   "execution_count": 17,
   "metadata": {},
   "outputs": [
    {
     "name": "stdout",
     "output_type": "stream",
     "text": [
      "True\n"
     ]
    }
   ],
   "source": [
    "x = eval(input(\"Enter something: \"))\n",
    "print(isinstance(x, int))  # Now will return True if you enter integer value\n",
    "\n",
    "\n"
   ]
  },
  {
   "cell_type": "markdown",
   "metadata": {},
   "source": [
    "- #### What is eval() in Python?\n",
    "\n",
    "eval() is a built-in Python function that takes a string and evaluates it as a Python expression, then returns the result.\n",
    "\n",
    "```eval(expression, globals=None, locals=None) ```\n",
    "\n",
    "  - expression: A string containing a valid Python expression\n",
    "\n",
    "  - globals (optional): A dictionary of global variables\n",
    "\n",
    "  - locals (optional): A dictionary of local variables"
   ]
  },
  {
   "cell_type": "code",
   "execution_count": 19,
   "metadata": {},
   "outputs": [
    {
     "name": "stdout",
     "output_type": "stream",
     "text": [
      "17\n",
      "15\n",
      "<class 'int'>\n"
     ]
    }
   ],
   "source": [
    "eval(\"2 + 3\")  \n",
    "\n",
    "# example 1 - basic matha evaluation\n",
    "print(eval(\"2 + 3 * 5\"))  \n",
    "# example 2 - evaluate a variable \n",
    "x = 10\n",
    "print(eval(\"x + 5\"))  # ➝ 15\n",
    "# example 3 - input auto type detection \n",
    "x = eval(input(\"Enter something: \"))  \n",
    "# If user types: 10 ➝ int\n",
    "# If user types: 'hello' ➝ str\n",
    "# If user types: [1, 2, 3] ➝ list\n",
    "\n",
    "print(type(x))  # Will print actual type\n",
    "\n"
   ]
  },
  {
   "cell_type": "markdown",
   "metadata": {},
   "source": [
    "-  Dangers of eval(): (Very Important)\n",
    "\n",
    "eval() executes any Python code — so if the input is unsafe, it can be very dangerous.\n",
    "\n",
    "``` eval(\"__import__('os').system('rm -rf /')\")  # Can delete all files! ```"
   ]
  },
  {
   "cell_type": "markdown",
   "metadata": {},
   "source": [
    "14. Convert a number to binary, octal, and hexadecimal using `bin()`, `oct()`, `hex()`."
   ]
  },
  {
   "cell_type": "code",
   "execution_count": 21,
   "metadata": {},
   "outputs": [
    {
     "name": "stdout",
     "output_type": "stream",
     "text": [
      "0b1010\n",
      "0o12\n",
      "0xa\n"
     ]
    }
   ],
   "source": [
    "x = 10\n",
    "convert = bin(x)\n",
    "print(convert)\n",
    "convert1 =  oct(x)\n",
    "print(convert1)\n",
    "convert2 = hex(x)\n",
    "print(convert2)"
   ]
  },
  {
   "cell_type": "markdown",
   "metadata": {},
   "source": [
    "15. Take user input and detect whether it’s a string, int, float, or bool using `eval()` and `type()`."
   ]
  },
  {
   "cell_type": "code",
   "execution_count": 27,
   "metadata": {},
   "outputs": [
    {
     "name": "stdout",
     "output_type": "stream",
     "text": [
      "<class 'str'>\n"
     ]
    }
   ],
   "source": [
    "x = eval(input(\"Enter something: \")) \n",
    "print(type(x))\n",
    "# to put the string value in the output  You must wrap the string in quotes, like:"
   ]
  },
  {
   "cell_type": "markdown",
   "metadata": {},
   "source": [
    "16. Create a list of variables with different data types and print their types using a loop."
   ]
  },
  {
   "cell_type": "code",
   "execution_count": 28,
   "metadata": {},
   "outputs": [
    {
     "name": "stdout",
     "output_type": "stream",
     "text": [
      "<class 'int'>\n",
      "<class 'str'>\n",
      "<class 'bool'>\n"
     ]
    }
   ],
   "source": [
    "x = [12,'helllo',True]\n",
    "for x in x:\n",
    "    print(type(x))"
   ]
  },
  {
   "cell_type": "markdown",
   "metadata": {},
   "source": [
    "17. Use `type()` to create a function that tells the data type of any variable."
   ]
  },
  {
   "cell_type": "code",
   "execution_count": 1,
   "metadata": {},
   "outputs": [
    {
     "name": "stdout",
     "output_type": "stream",
     "text": [
      "It is an integer type\n"
     ]
    }
   ],
   "source": [
    "def data_type(x):\n",
    "    if type(x) == int:\n",
    "        print(\"It is an integer type\")\n",
    "    elif type(x) == float:\n",
    "        print(\"It is a float type\")\n",
    "    elif type(x) == bool:\n",
    "        print(\"It is a boolean type\")\n",
    "    elif type(x) == str:\n",
    "        print(\"It is a string type\")\n",
    "    else:\n",
    "        print(\"It is some other type\")\n",
    "\n",
    "# Take input and evaluate it, then pass to function\n",
    "x = eval(input(\"Enter anything: \"))\n",
    "data_type(x)\n",
    "\n"
   ]
  },
  {
   "cell_type": "markdown",
   "metadata": {},
   "source": [
    "18. Write a program to compare float precision using different values (`0.1 + 0.2 == 0.3`)."
   ]
  },
  {
   "cell_type": "code",
   "execution_count": 4,
   "metadata": {},
   "outputs": [
    {
     "name": "stdout",
     "output_type": "stream",
     "text": [
      "a + b == c: False\n",
      "a + b: 0.30000000000000004\n",
      "c: 0.3\n",
      "Using round(): True\n",
      "Using math.isclose(): True\n"
     ]
    }
   ],
   "source": [
    "# Comparing float values\n",
    "a = 0.1\n",
    "b = 0.2\n",
    "c = 0.3\n",
    "\n",
    "print(\"a + b == c:\", a + b == c)  # Direct comparison\n",
    "print(\"a + b:\", a + b)            # Print the actual result\n",
    "print(\"c:\", c)                    # Print the target value\n",
    "# to fix this question\n",
    "print(\"Using round():\", round(a + b, 2) == round(c, 2))\n",
    "import math\n",
    "print(\"Using math.isclose():\", math.isclose(a + b, c))\n",
    "\n"
   ]
  },
  {
   "cell_type": "markdown",
   "metadata": {},
   "source": [
    "19. Write a calculator that performs different operations based on the type of input (string for concat, int/float for arithmetic)."
   ]
  },
  {
   "cell_type": "code",
   "execution_count": 10,
   "metadata": {},
   "outputs": [
    {
     "name": "stdout",
     "output_type": "stream",
     "text": [
      "String Concatenation Result: vdssdsvs\n"
     ]
    }
   ],
   "source": [
    "# Get inputs from user\n",
    "input1 = eval(input(\"Enter first value: \"))\n",
    "input2 = eval(input(\"Enter second value: \"))\n",
    "\n",
    "# Check types and perform operation\n",
    "if isinstance(input1, str) and isinstance(input2, str):\n",
    "    result = input1 + input2\n",
    "    print(\"String Concatenation Result:\", result)\n",
    "elif (isinstance(input1, (int, float)) and isinstance(input2, (int, float))):\n",
    "    print(\"Choose operation: +, -, *, /\")\n",
    "    op = input(\"Enter operator: \")\n",
    "    \n",
    "    if op == \"+\":\n",
    "        result = input1 + input2\n",
    "    elif op == \"-\":\n",
    "        result = input1 - input2\n",
    "    elif op == \"*\":\n",
    "        result = input1 * input2\n",
    "    elif op == \"/\":\n",
    "        if input2 != 0:\n",
    "            result = input1 / input2\n",
    "        else:\n",
    "            result = \"Error: Division by zero\"\n",
    "    else:\n",
    "        result = \"Invalid operator\"\n",
    "    \n",
    "    print(\"Arithmetic Result:\", result)\n",
    "else:\n",
    "    print(\"Unsupported input types. Both should be either numbers or strings.\")\n"
   ]
  },
  {
   "cell_type": "code",
   "execution_count": 11,
   "metadata": {},
   "outputs": [
    {
     "name": "stdout",
     "output_type": "stream",
     "text": [
      "Choose operation: +, -, *, /\n",
      "Arithmetic Result: Invalid operator\n"
     ]
    }
   ],
   "source": [
    "# Get user inputs using eval (automatically converts str -> int/float/str)\n",
    "input1 = eval(input(\"Enter first value: \"))\n",
    "input2 = eval(input(\"Enter second value: \"))\n",
    "\n",
    "# Check types using type()\n",
    "if type(input1) == str and type(input2) == str:\n",
    "    result = input1 + input2\n",
    "    print(\"String Concatenation Result:\", result)\n",
    "\n",
    "elif (type(input1) == int or type(input1) == float) and (type(input2) == int or type(input2) == float):\n",
    "    print(\"Choose operation: +, -, *, /\")\n",
    "    op = input(\"Enter operator: \")\n",
    "\n",
    "    if op == \"+\":\n",
    "        result = input1 + input2\n",
    "    elif op == \"-\":\n",
    "        result = input1 - input2\n",
    "    elif op == \"*\":\n",
    "        result = input1 * input2\n",
    "    elif op == \"/\":\n",
    "        if input2 != 0:\n",
    "            result = input1 / input2\n",
    "        else:\n",
    "            result = \"Error: Division by zero\"\n",
    "    else:\n",
    "        result = \"Invalid operator\"\n",
    "\n",
    "    print(\"Arithmetic Result:\", result)\n",
    "\n",
    "else:\n",
    "    print(\"Unsupported input types. Both should be either strings or numbers.\")\n"
   ]
  },
  {
   "cell_type": "markdown",
   "metadata": {},
   "source": [
    "20. Create a small quiz where user inputs are compared with correct answers and appropriate type conversions are applied for checking."
   ]
  },
  {
   "cell_type": "code",
   "execution_count": 12,
   "metadata": {},
   "outputs": [
    {
     "name": "stdout",
     "output_type": "stream",
     "text": [
      "🧠 Welcome to the Python Quiz!\n",
      "-----------------------------\n",
      "✅ Correct!\n",
      "✅ Correct!\n",
      "✅ Correct!\n",
      "\n",
      "-----------------------------\n",
      "🎉 You scored 3 out of 3\n",
      "-----------------------------\n"
     ]
    }
   ],
   "source": [
    "score = 0\n",
    "total_questions = 3\n",
    "\n",
    "print(\"🧠 Welcome to the Python Quiz!\")\n",
    "print(\"-----------------------------\")\n",
    "\n",
    "# Question 1: Integer answer\n",
    "ans1 = input(\"1. What is 5 + 3? \")\n",
    "if int(ans1) == 8:\n",
    "    print(\"✅ Correct!\")\n",
    "    score += 1\n",
    "else:\n",
    "    print(\"❌ Wrong. Correct answer is 8.\")\n",
    "\n",
    "# Question 2: Float answer\n",
    "ans2 = input(\"2. What is the value of 3.5 + 1.5? \")\n",
    "if float(ans2) == 5.0:\n",
    "    print(\"✅ Correct!\")\n",
    "    score += 1\n",
    "else:\n",
    "    print(\"❌ Wrong. Correct answer is 5.0.\")\n",
    "\n",
    "# Question 3: String answer (case insensitive)\n",
    "ans3 = input(\"3. What is the capital of India? \")\n",
    "if ans3.strip().lower() == \"delhi\":\n",
    "    print(\"✅ Correct!\")\n",
    "    score += 1\n",
    "else:\n",
    "    print(\"❌ Wrong. Correct answer is Delhi.\")\n",
    "\n",
    "# Final Result\n",
    "print(\"\\n-----------------------------\")\n",
    "print(f\"🎉 You scored {score} out of {total_questions}\")\n",
    "print(\"-----------------------------\")\n"
   ]
  }
 ],
 "metadata": {
  "kernelspec": {
   "display_name": "Python 3",
   "language": "python",
   "name": "python3"
  },
  "language_info": {
   "codemirror_mode": {
    "name": "ipython",
    "version": 3
   },
   "file_extension": ".py",
   "mimetype": "text/x-python",
   "name": "python",
   "nbconvert_exporter": "python",
   "pygments_lexer": "ipython3",
   "version": "3.13.3"
  }
 },
 "nbformat": 4,
 "nbformat_minor": 2
}
