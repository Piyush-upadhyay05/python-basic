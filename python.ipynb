{
  "nbformat": 4,
  "nbformat_minor": 0,
  "metadata": {
    "colab": {
      "provenance": [],
      "authorship_tag": "ABX9TyNYNJ26PYUsu7+bpehdi20k",
      "include_colab_link": true
    },
    "kernelspec": {
      "name": "python3",
      "display_name": "Python 3"
    },
    "language_info": {
      "name": "python"
    }
  },
  "cells": [
    {
      "cell_type": "markdown",
      "metadata": {
        "id": "view-in-github",
        "colab_type": "text"
      },
      "source": [
        "<a href=\"https://colab.research.google.com/github/Piyush-upadhyay05/python-basic/blob/main/python.ipynb\" target=\"_parent\"><img src=\"https://colab.research.google.com/assets/colab-badge.svg\" alt=\"Open In Colab\"/></a>"
      ]
    },
    {
      "cell_type": "code",
      "source": [
        "print(\"hello world\")"
      ],
      "metadata": {
        "colab": {
          "base_uri": "https://localhost:8080/"
        },
        "id": "zM-EvmZXJSdj",
        "outputId": "46b645b4-1316-4203-cd5a-e83cee3225d0"
      },
      "execution_count": null,
      "outputs": [
        {
          "output_type": "stream",
          "name": "stdout",
          "text": [
            "hello world\n"
          ]
        }
      ]
    },
    {
      "cell_type": "markdown",
      "source": [
        "unpack a collection"
      ],
      "metadata": {
        "id": "Qp2sOkjjcA-x"
      }
    },
    {
      "cell_type": "code",
      "source": [
        "fruits = ['orange' , \"mango\" ,'apple']\n",
        "x , y , z = fruits\n",
        "print(x)\n",
        "print(y)\n",
        "print(z)"
      ],
      "metadata": {
        "colab": {
          "base_uri": "https://localhost:8080/"
        },
        "id": "Xjw6UQOHcEyo",
        "outputId": "97986baa-eaf5-4b58-c300-03b756eea1bf"
      },
      "execution_count": null,
      "outputs": [
        {
          "output_type": "stream",
          "name": "stdout",
          "text": [
            "orange\n",
            "mango\n",
            "apple\n"
          ]
        }
      ]
    },
    {
      "cell_type": "markdown",
      "source": [
        "global varivable"
      ],
      "metadata": {
        "id": "EYKF3g5fc4Cs"
      }
    },
    {
      "cell_type": "code",
      "source": [
        "\n",
        "x = \"hello\"\n",
        "print(\"python is \" + x)\n",
        "def myfunc():\n",
        "  global x\n",
        "  x = \"fantastic\"\n",
        "  print(\"Python is \" + x)\n",
        "myfunc()\n",
        "print(\"python is \" + x)"
      ],
      "metadata": {
        "colab": {
          "base_uri": "https://localhost:8080/"
        },
        "id": "Pj-y5y6_ezBI",
        "outputId": "01a5191a-e29c-4611-985c-b840dd62ea8e"
      },
      "execution_count": null,
      "outputs": [
        {
          "output_type": "stream",
          "name": "stdout",
          "text": [
            "python is hello\n",
            "Python is fantastic\n",
            "python is fantastic\n"
          ]
        }
      ]
    },
    {
      "cell_type": "markdown",
      "source": [
        "range data type (type of sequence data type)"
      ],
      "metadata": {
        "id": "aAC4WCfOftQy"
      }
    },
    {
      "cell_type": "code",
      "source": [
        "x = range(10)\n",
        "print(x)\n",
        "print(type(x))"
      ],
      "metadata": {
        "colab": {
          "base_uri": "https://localhost:8080/"
        },
        "id": "T1k95Y_lgCTJ",
        "outputId": "533f6b91-d910-4666-d4a8-003bda519294"
      },
      "execution_count": null,
      "outputs": [
        {
          "output_type": "stream",
          "name": "stdout",
          "text": [
            "range(0, 10)\n",
            "<class 'range'>\n"
          ]
        }
      ]
    },
    {
      "cell_type": "markdown",
      "source": [
        "to print element 1 to 10"
      ],
      "metadata": {
        "id": "Ohtii9pdg-4w"
      }
    },
    {
      "cell_type": "code",
      "source": [
        "for i in range(10):\n",
        "     print(i)"
      ],
      "metadata": {
        "colab": {
          "base_uri": "https://localhost:8080/"
        },
        "id": "2cr06l34gheS",
        "outputId": "be3181bb-7235-494d-ee4c-45c497df1a94"
      },
      "execution_count": null,
      "outputs": [
        {
          "output_type": "stream",
          "name": "stdout",
          "text": [
            "0\n",
            "1\n",
            "2\n",
            "3\n",
            "4\n",
            "5\n",
            "6\n",
            "7\n",
            "8\n",
            "9\n"
          ]
        }
      ]
    },
    {
      "cell_type": "markdown",
      "source": [
        "# binary type\n",
        "1. byte - immutable(cannot change)"
      ],
      "metadata": {
        "id": "NKIBwzgnhG2F"
      }
    },
    {
      "cell_type": "code",
      "source": [
        "b = bytes([65 , 66 , 67 ,68])\n",
        "print(b)"
      ],
      "metadata": {
        "colab": {
          "base_uri": "https://localhost:8080/"
        },
        "id": "LDnou4kCuKtC",
        "outputId": "ce4fdab6-d329-4c9b-842e-fa2c9b385577"
      },
      "execution_count": null,
      "outputs": [
        {
          "output_type": "stream",
          "name": "stdout",
          "text": [
            "b'ABCD'\n"
          ]
        }
      ]
    },
    {
      "cell_type": "code",
      "source": [
        "# converting string to bytes\n",
        "txt = 'hello'\n",
        "b = txt.encode('utf-8')\n",
        "print(b)"
      ],
      "metadata": {
        "colab": {
          "base_uri": "https://localhost:8080/"
        },
        "id": "wQZZ8JLtwlNs",
        "outputId": "1a27cee5-d08d-407b-f4bd-eaad768f48a2"
      },
      "execution_count": null,
      "outputs": [
        {
          "output_type": "stream",
          "name": "stdout",
          "text": [
            "b'hello'\n"
          ]
        }
      ]
    },
    {
      "cell_type": "code",
      "source": [
        "#accessing element\n",
        "b = b'python'\n",
        "print(b[0])"
      ],
      "metadata": {
        "colab": {
          "base_uri": "https://localhost:8080/"
        },
        "id": "Jq76wJ4Zw9kr",
        "outputId": "e19abd38-db02-46d6-fe0c-c83c2e0a0685"
      },
      "execution_count": null,
      "outputs": [
        {
          "output_type": "stream",
          "name": "stdout",
          "text": [
            "112\n"
          ]
        }
      ]
    },
    {
      "cell_type": "markdown",
      "source": [
        "2. bytearray - mutuable(u can change)"
      ],
      "metadata": {
        "id": "FcwapyRcxlQR"
      }
    },
    {
      "cell_type": "code",
      "source": [
        "code = bytearray([65 , 66, 67, 68,69])\n",
        "print(code)\n",
        "code[0] = 90\n",
        "print(code)"
      ],
      "metadata": {
        "colab": {
          "base_uri": "https://localhost:8080/"
        },
        "id": "P1ohFZvqxoU9",
        "outputId": "3f091024-e49b-4b4d-d71f-82304768fa5b"
      },
      "execution_count": null,
      "outputs": [
        {
          "output_type": "stream",
          "name": "stdout",
          "text": [
            "bytearray(b'ABCDE')\n",
            "bytearray(b'ZBCDE')\n"
          ]
        }
      ]
    },
    {
      "cell_type": "markdown",
      "source": [
        "**STRINGS**\n",
        "\n",
        "---\n",
        "\n"
      ],
      "metadata": {
        "id": "ltJbReOSy907"
      }
    },
    {
      "cell_type": "code",
      "source": [
        "# LOOP THROUGH STRING\n",
        "for x in \"pandey\":\n",
        "   print(x)\n",
        "y = 'hello world'\n",
        "print(len(y))"
      ],
      "metadata": {
        "colab": {
          "base_uri": "https://localhost:8080/"
        },
        "id": "4dQ8g78IzXFD",
        "outputId": "39cc98eb-ccef-4a8e-ec0b-3008e2c5d5d0"
      },
      "execution_count": null,
      "outputs": [
        {
          "output_type": "stream",
          "name": "stdout",
          "text": [
            "p\n",
            "a\n",
            "n\n",
            "d\n",
            "e\n",
            "y\n",
            "11\n"
          ]
        }
      ]
    },
    {
      "cell_type": "markdown",
      "source": [
        "check string"
      ],
      "metadata": {
        "id": "8r-DIYLS2ccr"
      }
    },
    {
      "cell_type": "code",
      "source": [
        "txt = \"i am a good boy\"\n",
        "print(\"good\" in txt)\n",
        "if \"good\" in txt:\n",
        "  print(\"yes , it is present\")\n",
        "print(\"good\" not in txt)\n",
        "if \"bad\" not in txt:\n",
        "  print(\"no its not\")"
      ],
      "metadata": {
        "colab": {
          "base_uri": "https://localhost:8080/"
        },
        "id": "Y0WqHBF02fYE",
        "outputId": "021b5f9c-e79d-4cb7-86e5-15d0d36570d7"
      },
      "execution_count": null,
      "outputs": [
        {
          "output_type": "stream",
          "name": "stdout",
          "text": [
            "True\n",
            "yes , it is present\n",
            "False\n",
            "no its not\n"
          ]
        }
      ]
    },
    {
      "cell_type": "markdown",
      "source": [
        "slicing"
      ],
      "metadata": {
        "id": "RkSuOLMz0rJ-"
      }
    },
    {
      "cell_type": "code",
      "source": [
        "x = 'hello,i,am,piyush,upadhyay'\n",
        "y = \"mangoes\"\n",
        "print(y[2:6])\n",
        "print(len(x))\n",
        "print(x[-8:])\n",
        "print(x[6:-8])\n",
        "for i in range(len(x)):\n",
        " print(f\"index {i}: {x[i]}\")\n",
        "print(x+\" \"+y)"
      ],
      "metadata": {
        "colab": {
          "base_uri": "https://localhost:8080/"
        },
        "id": "RZKACMOC0wJs",
        "outputId": "d3050a3a-32f4-4663-c489-23f8329f85ca"
      },
      "execution_count": null,
      "outputs": [
        {
          "output_type": "stream",
          "name": "stdout",
          "text": [
            "ngoe\n",
            "26\n",
            "upadhyay\n",
            "i,am,piyush,\n",
            "index 0: h\n",
            "index 1: e\n",
            "index 2: l\n",
            "index 3: l\n",
            "index 4: o\n",
            "index 5: ,\n",
            "index 6: i\n",
            "index 7: ,\n",
            "index 8: a\n",
            "index 9: m\n",
            "index 10: ,\n",
            "index 11: p\n",
            "index 12: i\n",
            "index 13: y\n",
            "index 14: u\n",
            "index 15: s\n",
            "index 16: h\n",
            "index 17: ,\n",
            "index 18: u\n",
            "index 19: p\n",
            "index 20: a\n",
            "index 21: d\n",
            "index 22: h\n",
            "index 23: y\n",
            "index 24: a\n",
            "index 25: y\n",
            "hello,i,am,piyush,upadhyay mangoes\n"
          ]
        }
      ]
    },
    {
      "cell_type": "markdown",
      "source": [
        "modifying string"
      ],
      "metadata": {
        "id": "wva3lm9a2mOD"
      }
    },
    {
      "cell_type": "code",
      "source": [
        "a = ' hello, world'\n",
        "print(a.upper())\n",
        "print(a.lower())\n",
        "print(a.strip()) # strip is used to remove unsufficient whitespaace\n",
        "print(a.replace(\"h\" , \"j\"))# replce is used to replace a letter with someone letter\n",
        "print(a.split(\",\")) # splits the string into substrings if it finds instances of the separator"
      ],
      "metadata": {
        "colab": {
          "base_uri": "https://localhost:8080/"
        },
        "id": "H0AXhmiw2qCQ",
        "outputId": "ad2eee9b-2063-4c48-a61b-15365f340d4f"
      },
      "execution_count": null,
      "outputs": [
        {
          "output_type": "stream",
          "name": "stdout",
          "text": [
            " HELLO, WORLD\n",
            " hello, world\n",
            "hello, world\n",
            " jello, world\n",
            "[' hello', ' world']\n"
          ]
        }
      ]
    },
    {
      "cell_type": "markdown",
      "source": [
        "format strings"
      ],
      "metadata": {
        "id": "sc4utST04i1m"
      }
    },
    {
      "cell_type": "code",
      "source": [
        "age = 30\n",
        "txt = f\"my name is piyush , and i am {age}\"\n",
        "print(age)\n"
      ],
      "metadata": {
        "colab": {
          "base_uri": "https://localhost:8080/"
        },
        "id": "pQI8eRT84mCl",
        "outputId": "65f1c7a6-be84-4540-f1db-ee33af42df4c"
      },
      "execution_count": null,
      "outputs": [
        {
          "output_type": "stream",
          "name": "stdout",
          "text": [
            "30\n",
            "3.14\n"
          ]
        }
      ]
    },
    {
      "cell_type": "markdown",
      "source": [
        "placeholder"
      ],
      "metadata": {
        "id": "oBtpw4HN6Rx6"
      }
    },
    {
      "cell_type": "code",
      "source": [
        "age = 30\n",
        "txt = f\"my name is piyush , and i am {age}\" # age is placeholder in this code\n",
        "print(age)"
      ],
      "metadata": {
        "id": "VAefHXq66UlV"
      },
      "execution_count": null,
      "outputs": []
    },
    {
      "cell_type": "markdown",
      "source": [
        "modifier"
      ],
      "metadata": {
        "id": "rYki4nzG7n3b"
      }
    },
    {
      "cell_type": "code",
      "source": [
        "num = 3.14159\n",
        "formatted = \"{:.2f}\".format(num) # in this (:.2f) is modifier\n",
        "print(formatted)"
      ],
      "metadata": {
        "id": "mExIvxxw7qGN"
      },
      "execution_count": null,
      "outputs": []
    },
    {
      "cell_type": "markdown",
      "source": [
        "string method to modifying"
      ],
      "metadata": {
        "id": "YcLCEwZp4hUx"
      }
    },
    {
      "cell_type": "code",
      "source": [
        "z = 'hello who is the Prime minister of india '\n",
        "print(z)\n",
        "print(z.capitalize())\n",
        "print(z.casefold()) # convert string into lower case\n",
        "print(len(z))\n",
        "a = z.center(100 , \"-\") # center is used to allign the string to the center\n",
        "print(a)\n",
        "print(z.count(\"o\")) # return the number of times the word or string is used\n",
        "print(z.count(\"o\" , 3 , 25))\n",
        "for i in range(len(z)):\n",
        "   print(f\"index {i} : {z[i]}\")"
      ],
      "metadata": {
        "colab": {
          "base_uri": "https://localhost:8080/"
        },
        "id": "m_Wa4iCU4lHQ",
        "outputId": "36b3457a-86ee-4dfe-9996-30a29cb6e104"
      },
      "execution_count": null,
      "outputs": [
        {
          "output_type": "stream",
          "name": "stdout",
          "text": [
            "hello who is the Prime minister of india \n",
            "Hello who is the prime minister of india \n",
            "hello who is the prime minister of india \n",
            "41\n",
            "-----------------------------hello who is the Prime minister of india ------------------------------\n",
            "3\n",
            "2\n",
            "index 0 : h\n",
            "index 1 : e\n",
            "index 2 : l\n",
            "index 3 : l\n",
            "index 4 : o\n",
            "index 5 :  \n",
            "index 6 : w\n",
            "index 7 : h\n",
            "index 8 : o\n",
            "index 9 :  \n",
            "index 10 : i\n",
            "index 11 : s\n",
            "index 12 :  \n",
            "index 13 : t\n",
            "index 14 : h\n",
            "index 15 : e\n",
            "index 16 :  \n",
            "index 17 : P\n",
            "index 18 : r\n",
            "index 19 : i\n",
            "index 20 : m\n",
            "index 21 : e\n",
            "index 22 :  \n",
            "index 23 : m\n",
            "index 24 : i\n",
            "index 25 : n\n",
            "index 26 : i\n",
            "index 27 : s\n",
            "index 28 : t\n",
            "index 29 : e\n",
            "index 30 : r\n",
            "index 31 :  \n",
            "index 32 : o\n",
            "index 33 : f\n",
            "index 34 :  \n",
            "index 35 : i\n",
            "index 36 : n\n",
            "index 37 : d\n",
            "index 38 : i\n",
            "index 39 : a\n",
            "index 40 :  \n"
          ]
        }
      ]
    },
    {
      "cell_type": "markdown",
      "source": [
        "more modification method"
      ],
      "metadata": {
        "id": "adJSAVTC8Xc2"
      }
    },
    {
      "cell_type": "code",
      "source": [
        "q = \" you are my queen\"\n",
        "x = q.encode()\n",
        "print(x)\n",
        "y = q.endswith(\"n\") # endswith return true if the string end with written value\n",
        "print(y)\n",
        "y = q.endswith(\"een\" , 5 , 13)\n",
        "print(y)\n",
        "r = \"hel\\tlo\\twor\\tld\"\n",
        "print(r.expandtabs()) # used to remove tab character in a string with spaces by default it changes with 8 spaces\n",
        "print(r.expandtabs(4)) # replace tab with 4 spaces\n"
      ],
      "metadata": {
        "colab": {
          "base_uri": "https://localhost:8080/"
        },
        "id": "Ufpb_LBQ8b-L",
        "outputId": "1228317b-90f8-44cd-f003-71e68f178115"
      },
      "execution_count": null,
      "outputs": [
        {
          "output_type": "stream",
          "name": "stdout",
          "text": [
            "b' you are my queen'\n",
            "True\n",
            "False\n",
            "hel     lo      wor     ld\n",
            "hel lo  wor ld\n"
          ]
        }
      ]
    },
    {
      "cell_type": "code",
      "source": [
        "txt = ' hello to the world king'\n",
        "x = txt.find(\"to\" , 3 , 10) # searches a string for a specified value\n",
        "print(x)\n",
        "for i in range(len(txt)):\n",
        "  print(f\"index {i} : {txt[i]}\")"
      ],
      "metadata": {
        "colab": {
          "base_uri": "https://localhost:8080/"
        },
        "id": "uR_5uY71vF97",
        "outputId": "423292af-8d79-4de5-bb78-6510313d9065"
      },
      "execution_count": null,
      "outputs": [
        {
          "output_type": "stream",
          "name": "stdout",
          "text": [
            "7\n",
            "index 0 :  \n",
            "index 1 : h\n",
            "index 2 : e\n",
            "index 3 : l\n",
            "index 4 : l\n",
            "index 5 : o\n",
            "index 6 :  \n",
            "index 7 : t\n",
            "index 8 : o\n",
            "index 9 :  \n",
            "index 10 : t\n",
            "index 11 : h\n",
            "index 12 : e\n",
            "index 13 :  \n",
            "index 14 : w\n",
            "index 15 : o\n",
            "index 16 : r\n",
            "index 17 : l\n",
            "index 18 : d\n",
            "index 19 :  \n",
            "index 20 : k\n",
            "index 21 : i\n",
            "index 22 : n\n",
            "index 23 : g\n"
          ]
        }
      ]
    },
    {
      "cell_type": "markdown",
      "source": [
        "format() method -\n",
        "\n",
        "*   return formated string\n",
        "*   format values and insert them inside the string placeholder\n",
        "\n",
        "*   defined using curly brackets ({})\n",
        "\n",
        "\n",
        "\n"
      ],
      "metadata": {
        "id": "VJsX7WfZ-Wy4"
      }
    },
    {
      "cell_type": "code",
      "source": [
        "txt = \"my name is {fname} , i am {age}\".format(fname = \"john\" , age = 36)\n",
        "txt1 = \"my name is {} , i am {}\".format(\"john\" , 19)\n",
        "print(txt1)\n",
        "print(txt)\n",
        "# left allign the value using format\n",
        "txt2 = \"we have {:<8} chickens.\"\n",
        "# right allign the value using format\n",
        "txt3 = \"we have {:>8} chicken\"\n",
        "# center-align the value using format\n",
        "txt4 = \"we have {:^} chicken\"\n",
        "print(txt2.format(49))\n",
        "print(txt3.format(49))\n",
        "print(txt4.format(49))"
      ],
      "metadata": {
        "colab": {
          "base_uri": "https://localhost:8080/"
        },
        "id": "WfRdGfpoACWU",
        "outputId": "ffbdbc07-f64f-43e4-9e82-8cd32ca63428"
      },
      "execution_count": null,
      "outputs": [
        {
          "output_type": "stream",
          "name": "stdout",
          "text": [
            "my name is john , i am 19\n",
            "my name is john , i am 36\n",
            "we have 49       chickens.\n",
            "we have       49 chicken\n",
            "we have 49 chicken\n"
          ]
        }
      ]
    },
    {
      "cell_type": "markdown",
      "source": [
        "index method -  find the first occurance of the specified value"
      ],
      "metadata": {
        "id": "ZNKrnxIQH6c4"
      }
    },
    {
      "cell_type": "code",
      "source": [
        "txt = \"hello my dear friends welcome\"\n",
        "x = txt.index(\"welcome\")\n",
        "y = txt.index(\"h\")\n",
        "z = txt.index(\"o\")\n",
        "print(x)\n",
        "print(y)\n",
        "print(z)\n"
      ],
      "metadata": {
        "colab": {
          "base_uri": "https://localhost:8080/"
        },
        "id": "HgROGjC5J9tE",
        "outputId": "ab25e7d8-76c7-4bb9-928c-960beb836d26"
      },
      "execution_count": null,
      "outputs": [
        {
          "output_type": "stream",
          "name": "stdout",
          "text": [
            "22\n",
            "0\n",
            "4\n"
          ]
        }
      ]
    },
    {
      "cell_type": "code",
      "source": [
        "txt = \"hello welcome to my world\"\n",
        "y = txt.index(\"e\",5,10)\n",
        "print(y)"
      ],
      "metadata": {
        "colab": {
          "base_uri": "https://localhost:8080/"
        },
        "id": "FssgxXm7LyF2",
        "outputId": "00ca04bd-0c3b-4a6c-adc0-ab4e7f89d795"
      },
      "execution_count": null,
      "outputs": [
        {
          "output_type": "stream",
          "name": "stdout",
          "text": [
            "7\n"
          ]
        }
      ]
    },
    {
      "cell_type": "markdown",
      "source": [
        "ISALNUM() - return true if all the character in the string is alphanumeric"
      ],
      "metadata": {
        "id": "D9rAARytMOzL"
      }
    },
    {
      "cell_type": "code",
      "source": [
        "txt = \"Company12\"\n",
        "\n",
        "x = txt.isalnum()\n",
        "\n",
        "print(x)"
      ],
      "metadata": {
        "colab": {
          "base_uri": "https://localhost:8080/"
        },
        "id": "YMszl3x9MiGQ",
        "outputId": "1da43df7-9465-4046-c51f-019cb8d1f810"
      },
      "execution_count": null,
      "outputs": [
        {
          "output_type": "stream",
          "name": "stdout",
          "text": [
            "True\n"
          ]
        }
      ]
    },
    {
      "cell_type": "markdown",
      "source": [
        "ISALPHA() - return true if all the character in string is alphabet"
      ],
      "metadata": {
        "id": "vuOhFX9BNDNj"
      }
    },
    {
      "cell_type": "code",
      "source": [
        "x = \"hello wrold\"\n",
        "print(x.isalpha()) # return false because space is not alphabet character"
      ],
      "metadata": {
        "colab": {
          "base_uri": "https://localhost:8080/"
        },
        "id": "0RAO5qASNfNX",
        "outputId": "72422875-836b-4939-e6ff-5339389c45d6"
      },
      "execution_count": null,
      "outputs": [
        {
          "output_type": "stream",
          "name": "stdout",
          "text": [
            "False\n"
          ]
        }
      ]
    },
    {
      "cell_type": "markdown",
      "source": [
        "isascii - return true if all the character is ascii character"
      ],
      "metadata": {
        "id": "nBOaJBrVIumB"
      }
    },
    {
      "cell_type": "code",
      "source": [
        "txt = \"hello world\"\n",
        "x = txt.isascii()\n",
        "print(x)"
      ],
      "metadata": {
        "colab": {
          "base_uri": "https://localhost:8080/"
        },
        "id": "aMHAE8ukI-zW",
        "outputId": "47cea8c3-e5b3-4b4d-b46a-2a6f2633da35"
      },
      "execution_count": null,
      "outputs": [
        {
          "output_type": "stream",
          "name": "stdout",
          "text": [
            "True\n"
          ]
        }
      ]
    },
    {
      "cell_type": "markdown",
      "source": [
        "isidentifier() - return true if the string is a valid identifier(An identifier in Python is the name used to identify variables, functions, classes, modules, or other objects.) otherwise false"
      ],
      "metadata": {
        "id": "qxqRci0RJWzZ"
      }
    },
    {
      "cell_type": "code",
      "source": [
        "txt = \"hello\"\n",
        "x = txt.isidentifier()\n",
        "print(x)"
      ],
      "metadata": {
        "colab": {
          "base_uri": "https://localhost:8080/"
        },
        "id": "qG_tZ3iXJr7Q",
        "outputId": "130eb182-7f5b-43a8-b93d-03ffa1e881d4"
      },
      "execution_count": null,
      "outputs": [
        {
          "output_type": "stream",
          "name": "stdout",
          "text": [
            "True\n"
          ]
        }
      ]
    },
    {
      "cell_type": "markdown",
      "source": [
        "isprintable() - return true if all the character are printable , otherwise false"
      ],
      "metadata": {
        "id": "HpXuvGyXKptD"
      }
    },
    {
      "cell_type": "code",
      "source": [
        "txt = \"hello how are you\"\n",
        "x = txt.isprintable()\n",
        "print(x)"
      ],
      "metadata": {
        "colab": {
          "base_uri": "https://localhost:8080/"
        },
        "id": "8zLNuTFzl3oQ",
        "outputId": "2085dc8c-b82d-4e4c-9f0c-731e1fc06761"
      },
      "execution_count": null,
      "outputs": [
        {
          "output_type": "stream",
          "name": "stdout",
          "text": [
            "True\n"
          ]
        }
      ]
    },
    {
      "cell_type": "markdown",
      "source": [
        "isspace() - is there only spaces are present in the string then its return true otherwise false"
      ],
      "metadata": {
        "id": "-02xIXIkmZFg"
      }
    },
    {
      "cell_type": "code",
      "source": [
        "txt = \"        \"\n",
        "x = txt.isspace()\n",
        "print(x)\n",
        "txt1 = \"    u     \"\n",
        "y = txt1.isspace()\n",
        "print(y)"
      ],
      "metadata": {
        "colab": {
          "base_uri": "https://localhost:8080/"
        },
        "id": "ftkvXORqmph-",
        "outputId": "91f17055-150a-4edc-9c50-b7a397f2f87b"
      },
      "execution_count": null,
      "outputs": [
        {
          "output_type": "stream",
          "name": "stdout",
          "text": [
            "True\n",
            "False\n"
          ]
        }
      ]
    },
    {
      "cell_type": "markdown",
      "source": [
        "istitle() - return true if all  in a text start with a upper case letter and rest of the letter is in lower case ,other wise it gives false\n",
        "\n",
        "*  symbols and number are ignored\n",
        "\n"
      ],
      "metadata": {
        "id": "euzA1bdBntQU"
      }
    },
    {
      "cell_type": "code",
      "source": [
        "txt = \"Hello, And Welcome To My World!\"\n",
        "\n",
        "x = txt.istitle()\n",
        "\n",
        "print(x)"
      ],
      "metadata": {
        "colab": {
          "base_uri": "https://localhost:8080/"
        },
        "id": "aOtnK-bPoTuo",
        "outputId": "8f775f00-c477-45fb-b14c-461ef97dbd7c"
      },
      "execution_count": null,
      "outputs": [
        {
          "output_type": "stream",
          "name": "stdout",
          "text": [
            "True\n"
          ]
        }
      ]
    },
    {
      "cell_type": "markdown",
      "source": [
        "isupper() - isupper return true if all the chaar in the string is capital otherwise it return false"
      ],
      "metadata": {
        "id": "SNDAZ6L8_FAU"
      }
    },
    {
      "cell_type": "code",
      "source": [
        "txt = \" HELLO HOW ARE YOOU\"\n",
        "x = txt.isupper()\n",
        "print(x)"
      ],
      "metadata": {
        "colab": {
          "base_uri": "https://localhost:8080/"
        },
        "id": "tCRI0WuLpTTX",
        "outputId": "36b8c408-b358-4e9b-b4d9-b9ca61f1c9cd"
      },
      "execution_count": null,
      "outputs": [
        {
          "output_type": "stream",
          "name": "stdout",
          "text": [
            "True\n"
          ]
        }
      ]
    },
    {
      "cell_type": "markdown",
      "source": [
        "join() - method takes all items in an iterable and joins them into one string\n",
        "\n",
        "*   string must be specified as the separator"
      ],
      "metadata": {
        "id": "9ul1q27_rSdE"
      }
    },
    {
      "cell_type": "code",
      "source": [
        "myDict = { \"name\":\"john\" ,\"country\": \"norway\"}\n",
        "myseprator = \"test\"\n",
        "\n",
        "x = myseprator.join(myDict)\n",
        "print(x)"
      ],
      "metadata": {
        "colab": {
          "base_uri": "https://localhost:8080/"
        },
        "id": "2XI_0opVrxFG",
        "outputId": "8551636d-44e1-468a-f752-ed1a414a2c76"
      },
      "execution_count": null,
      "outputs": [
        {
          "output_type": "stream",
          "name": "stdout",
          "text": [
            "nametestcountry\n"
          ]
        }
      ]
    },
    {
      "cell_type": "markdown",
      "source": [
        "* When using a dictionary as an iterable, the returned values are the keys, not the values.\n",
        "\n"
      ],
      "metadata": {
        "id": "2Xm6FbLZsc51"
      }
    },
    {
      "cell_type": "markdown",
      "source": [
        "ljust() method - method will left align the string using a specified character as the fill character"
      ],
      "metadata": {
        "id": "bub9X5qK1UUu"
      }
    },
    {
      "cell_type": "code",
      "source": [
        "txt = \"banana\"\n",
        "x = txt.ljust(20)\n",
        "print(x , \"is my favourite fruite\")"
      ],
      "metadata": {
        "colab": {
          "base_uri": "https://localhost:8080/"
        },
        "id": "mFdrh5xI1rVu",
        "outputId": "24437812-9290-4b92-9b82-b919dce8cac8"
      },
      "execution_count": null,
      "outputs": [
        {
          "output_type": "stream",
          "name": "stdout",
          "text": [
            "banana               is my favourite fruite\n"
          ]
        }
      ]
    },
    {
      "cell_type": "code",
      "source": [
        "txt = \"banana\"\n",
        "\n",
        "x = txt.ljust(20, \"O\")\n",
        "\n",
        "print(x)\n",
        "print(len(x))"
      ],
      "metadata": {
        "colab": {
          "base_uri": "https://localhost:8080/"
        },
        "id": "kwi0S2je2RYY",
        "outputId": "a6d1d28d-32a6-42f6-fee7-6640df39540e"
      },
      "execution_count": null,
      "outputs": [
        {
          "output_type": "stream",
          "name": "stdout",
          "text": [
            "bananaOOOOOOOOOOOOOO\n",
            "20\n"
          ]
        }
      ]
    },
    {
      "cell_type": "markdown",
      "source": [
        "maketrans() - it is used to replace one character to the other character"
      ],
      "metadata": {
        "id": "8MQGdeGxU5zD"
      }
    },
    {
      "cell_type": "code",
      "source": [
        "txt = \"hello sam!\"\n",
        "mytable = str.maketrans(\"s\" , \"R\")\n",
        "print(txt.translate(mytable))"
      ],
      "metadata": {
        "colab": {
          "base_uri": "https://localhost:8080/"
        },
        "id": "_7kqjs3vVI2m",
        "outputId": "3a9130d5-ce51-4330-e9e5-ae743ba051e3"
      },
      "execution_count": null,
      "outputs": [
        {
          "output_type": "stream",
          "name": "stdout",
          "text": [
            "hello Ram!\n"
          ]
        }
      ]
    },
    {
      "cell_type": "code",
      "source": [
        "txt = \"hello sam! how are you \"\n",
        "print(txt)\n",
        "x = \"hello sam! how are you\"\n",
        "y = \"hello ram! i.. am. fin\"\n",
        "mytable = str.maketrans(x , y)\n",
        "print(txt.translate(mytable))"
      ],
      "metadata": {
        "colab": {
          "base_uri": "https://localhost:8080/"
        },
        "id": "Ys5qSgzbWdds",
        "outputId": "5744aa33-a566-4636-81f0-9aea16b9e073"
      },
      "execution_count": null,
      "outputs": [
        {
          "output_type": "stream",
          "name": "stdout",
          "text": [
            "hello sam! how are you \n",
            "i.lli ram! ii. am. fin \n"
          ]
        }
      ]
    },
    {
      "cell_type": "code",
      "source": [
        "txt = \"good night sam!\"\n",
        "x = \"mSa\"\n",
        "y = \"eJo\"\n",
        "z =\"odnght\"\n",
        "print(str.maketrans(x,y,z))"
      ],
      "metadata": {
        "colab": {
          "base_uri": "https://localhost:8080/"
        },
        "id": "Knyqz85pXkZb",
        "outputId": "844bff16-3d59-4999-94f9-f1cb2b471e2d"
      },
      "execution_count": null,
      "outputs": [
        {
          "output_type": "stream",
          "name": "stdout",
          "text": [
            "{109: 101, 83: 74, 97: 111, 111: None, 100: None, 110: None, 103: None, 104: None, 116: None}\n"
          ]
        }
      ]
    },
    {
      "cell_type": "markdown",
      "source": [
        "partition() - searches for a specified string and splits the string into a tuple containing three elements"
      ],
      "metadata": {
        "id": "rKJ5QXeVYv51"
      }
    },
    {
      "cell_type": "code",
      "source": [
        "txt = \"I could eat bananas all day\"\n",
        "\n",
        "x = txt.partition(\"banana\")\n",
        "\n",
        "print(x)"
      ],
      "metadata": {
        "colab": {
          "base_uri": "https://localhost:8080/"
        },
        "id": "eAhzBZJsZOEX",
        "outputId": "73e6050b-a7ff-4e91-81a3-1fd88708483b"
      },
      "execution_count": null,
      "outputs": [
        {
          "output_type": "stream",
          "name": "stdout",
          "text": [
            "('I could eat ', 'banana', 's all day')\n"
          ]
        }
      ]
    },
    {
      "cell_type": "code",
      "source": [
        "txt = \"I could eat bananas all day\"\n",
        "\n",
        "x = txt.partition(\"apples\")\n",
        "\n",
        "print(x)"
      ],
      "metadata": {
        "colab": {
          "base_uri": "https://localhost:8080/"
        },
        "id": "bTrCSEXKZTN2",
        "outputId": "cf5fb836-ef3c-4ba7-a457-3dc3b164331d"
      },
      "execution_count": null,
      "outputs": [
        {
          "output_type": "stream",
          "name": "stdout",
          "text": [
            "('I could eat bananas all day', '', '')\n"
          ]
        }
      ]
    },
    {
      "cell_type": "markdown",
      "source": [
        "rsplit() - split a string into a list starting from right"
      ],
      "metadata": {
        "id": "oL-ROWbpdx04"
      }
    },
    {
      "cell_type": "code",
      "source": [
        "txt = \"apple, banana, cherry\"\n",
        "\n",
        "x = txt.rsplit(\", \", 1) # return a list with two element\n",
        "\n",
        "print(x)"
      ],
      "metadata": {
        "colab": {
          "base_uri": "https://localhost:8080/"
        },
        "id": "aYrGJdMLfns5",
        "outputId": "d4c3e454-fcc5-4666-e117-e33ae806b3aa"
      },
      "execution_count": null,
      "outputs": [
        {
          "output_type": "stream",
          "name": "stdout",
          "text": [
            "['apple, banana', 'cherry']\n"
          ]
        }
      ]
    },
    {
      "cell_type": "markdown",
      "source": [
        "split() - split a string into a list\n",
        "\n",
        "*   u can specify the seprarator , default seprator is any whitespace\n",
        "*   when maxsplit is specified the list will contain the specified number of element plus one .\n",
        "\n"
      ],
      "metadata": {
        "id": "4qBarknwgKXm"
      }
    },
    {
      "cell_type": "code",
      "source": [
        "txt = \"apple#banana#cherry#orange\"\n",
        "\n",
        "x = txt.split(\"#\")\n",
        "\n",
        "print(x)\n"
      ],
      "metadata": {
        "colab": {
          "base_uri": "https://localhost:8080/"
        },
        "id": "PXICKxitg0fd",
        "outputId": "4b91cdec-8cfa-4817-acb2-10f8578f475e"
      },
      "execution_count": null,
      "outputs": [
        {
          "output_type": "stream",
          "name": "stdout",
          "text": [
            "['apple', 'banana', 'cherry', 'orange']\n"
          ]
        }
      ]
    },
    {
      "cell_type": "code",
      "source": [
        "text = \"a b c d e\"\n",
        "print(text.split(\" \", 2))   # Split twice from left\n",
        "print(text.rsplit(\" \", 2))  # Split twice from right\n"
      ],
      "metadata": {
        "colab": {
          "base_uri": "https://localhost:8080/"
        },
        "id": "6HzlxGUNfIDK",
        "outputId": "08db07b6-68aa-43de-9aa9-e550a397b46b"
      },
      "execution_count": null,
      "outputs": [
        {
          "output_type": "stream",
          "name": "stdout",
          "text": [
            "['a', 'b', 'c d e']\n",
            "['a b c', 'd', 'e']\n"
          ]
        }
      ]
    },
    {
      "cell_type": "markdown",
      "source": [
        "splitline() - split a string into a list . the splitting is done at line breaks."
      ],
      "metadata": {
        "id": "XfIj9rW8hX_1"
      }
    },
    {
      "cell_type": "code",
      "source": [
        "# string.splitlines(keeplinebreaks)\n",
        "# keeplinebreakes - Optional. Specifies if the line breaks should be included (True),\n",
        "# or not (False). Default value is False\n",
        "txt = \"Thank you for the music\\nWelcome to the jungle\"\n",
        "\n",
        "x = txt.splitlines(True)\n",
        "\n",
        "print(x)\n",
        "txt1 = \"thank you for the music\\nWelcome to the jungle\"\n",
        "y = txt1.splitlines(False)\n",
        "print(y)"
      ],
      "metadata": {
        "colab": {
          "base_uri": "https://localhost:8080/"
        },
        "id": "3HWUv_1ahmEA",
        "outputId": "46f951f5-6782-4f6a-ee30-a7c47bd41f27"
      },
      "execution_count": null,
      "outputs": [
        {
          "output_type": "stream",
          "name": "stdout",
          "text": [
            "['Thank you for the music\\n', 'Welcome to the jungle']\n",
            "['thank you for the music', 'Welcome to the jungle']\n"
          ]
        }
      ]
    },
    {
      "cell_type": "markdown",
      "source": [
        "startswith() - return true if the strings starts with specified value"
      ],
      "metadata": {
        "id": "en4vhbBrjCzb"
      }
    },
    {
      "cell_type": "code",
      "source": [
        "txt = \"Hello, welcome to my world.\"\n",
        "\n",
        "x = txt.startswith(\"wel\", 7, 20) # 7 is start , 20 is end\n",
        "\n",
        "print(x)"
      ],
      "metadata": {
        "colab": {
          "base_uri": "https://localhost:8080/"
        },
        "id": "IHr5yj_EjV-X",
        "outputId": "d4241254-7adf-4d33-8167-62f242116182"
      },
      "execution_count": null,
      "outputs": [
        {
          "output_type": "stream",
          "name": "stdout",
          "text": [
            "True\n"
          ]
        }
      ]
    },
    {
      "cell_type": "markdown",
      "source": [
        "strip() -"
      ],
      "metadata": {
        "id": "qHEKyiTtjrG_"
      }
    },
    {
      "cell_type": "code",
      "source": [
        "txt = \"    banana     \"\n",
        "x = txt.strip()\n",
        "print(txt.strip())\n",
        "print(x)\n",
        "print(\"of all the fruits\",x, \"is my favourite\")"
      ],
      "metadata": {
        "colab": {
          "base_uri": "https://localhost:8080/"
        },
        "id": "IAc8vDoujt8m",
        "outputId": "9339f937-ecd0-4f77-b96c-339e0bb055ae"
      },
      "execution_count": null,
      "outputs": [
        {
          "output_type": "stream",
          "name": "stdout",
          "text": [
            "banana\n",
            "banana\n",
            "of all the fruits banana is my favourite\n"
          ]
        }
      ]
    },
    {
      "cell_type": "code",
      "source": [
        "txt = \",,,,,rrttgg.....banana....rrr\"\n",
        "\n",
        "x = txt.strip(\",.grt\")\n",
        "\n",
        "print(x)"
      ],
      "metadata": {
        "colab": {
          "base_uri": "https://localhost:8080/"
        },
        "id": "Sbk0XDBbkiOO",
        "outputId": "554035f6-02a4-4fb8-9e1c-7e409285ee17"
      },
      "execution_count": null,
      "outputs": [
        {
          "output_type": "stream",
          "name": "stdout",
          "text": [
            "banana\n"
          ]
        }
      ]
    },
    {
      "cell_type": "markdown",
      "source": [
        "swapcase() - returns a string where all the upper case letters are lower case and vice versa.\n",
        "\n"
      ],
      "metadata": {
        "id": "Kvb2f6TtlIJX"
      }
    },
    {
      "cell_type": "code",
      "source": [
        "txt = \"Hello My Name Is PETER\"\n",
        "\n",
        "x = txt.swapcase()\n",
        "\n",
        "print(x)"
      ],
      "metadata": {
        "id": "ln_k9cmClK8d"
      },
      "execution_count": null,
      "outputs": []
    },
    {
      "cell_type": "markdown",
      "source": [
        "title() - returns a string where the first character in every word is upper case. Like a header, or a title.\n",
        "\n",
        "\n",
        "\n",
        "*   If the word contains a number or a symbol, the first letter after that will be converted to upper case.\n",
        "\n",
        "\n"
      ],
      "metadata": {
        "id": "c6YpQfDXlX6F"
      }
    },
    {
      "cell_type": "code",
      "source": [
        "txt = \" welcome to my second 3world\"\n",
        "x = txt.title()\n",
        "print(x)"
      ],
      "metadata": {
        "colab": {
          "base_uri": "https://localhost:8080/"
        },
        "id": "OfkU-gdbl3W7",
        "outputId": "f026655c-fa8e-4b2b-a15a-6570e9728e94"
      },
      "execution_count": null,
      "outputs": [
        {
          "output_type": "stream",
          "name": "stdout",
          "text": [
            " Welcome To My Second 3World\n"
          ]
        }
      ]
    },
    {
      "cell_type": "code",
      "source": [
        "txt = \"hello b2b2b2 and 3g3g3g\"\n",
        "\n",
        "x = txt.title()\n",
        "\n",
        "print(x)"
      ],
      "metadata": {
        "colab": {
          "base_uri": "https://localhost:8080/"
        },
        "id": "CIOqb7FemLo4",
        "outputId": "7a9e19dd-9339-49b0-9a1d-d28e6f4be358"
      },
      "execution_count": null,
      "outputs": [
        {
          "output_type": "stream",
          "name": "stdout",
          "text": [
            "Hello B2B2B2 And 3G3G3G\n"
          ]
        }
      ]
    },
    {
      "cell_type": "markdown",
      "source": [
        "translate() - returns a string where some specified characters are replaced with the character described in a dictionary, or in a mapping table."
      ],
      "metadata": {
        "id": "W9aLh2CAmuvq"
      }
    },
    {
      "cell_type": "code",
      "source": [
        "#use a dictionary with ascii codes to replace 83 (S) with 80 (P):\n",
        "mydict = {83:  80}\n",
        "txt = \"Hello Sam!\"\n",
        "print(txt.translate(mydict))"
      ],
      "metadata": {
        "colab": {
          "base_uri": "https://localhost:8080/"
        },
        "id": "w4beWmVCm1Hl",
        "outputId": "53c74e98-dff5-44ba-c927-69c1b2d86f80"
      },
      "execution_count": null,
      "outputs": [
        {
          "output_type": "stream",
          "name": "stdout",
          "text": [
            "Hello Pam!\n"
          ]
        }
      ]
    },
    {
      "cell_type": "markdown",
      "source": [
        "upper - convert string into upper case"
      ],
      "metadata": {
        "id": "jd1qPG0lnBjZ"
      }
    },
    {
      "cell_type": "code",
      "source": [
        "txt = \"Hello my friends\"\n",
        "\n",
        "x = txt.upper()\n",
        "\n",
        "print(x)"
      ],
      "metadata": {
        "colab": {
          "base_uri": "https://localhost:8080/"
        },
        "id": "XhdhBeVXnM3e",
        "outputId": "649a5122-0c26-4983-b1ab-ff7193a12181"
      },
      "execution_count": null,
      "outputs": [
        {
          "output_type": "stream",
          "name": "stdout",
          "text": [
            "HELLO MY FRIENDS\n"
          ]
        }
      ]
    },
    {
      "cell_type": "markdown",
      "source": [
        "zfill() - zfill() method adds zeros (0) at the beginning of the string, until it reaches the specified length.\n",
        "\n",
        "*  f the value of the len parameter is less than the length of the string, no filling is done.\n",
        "\n"
      ],
      "metadata": {
        "id": "L0h1bhf_nX87"
      }
    },
    {
      "cell_type": "code",
      "source": [
        "a = \"hello\"\n",
        "b = \"welcome to the jungle\"\n",
        "c = \"10.000\"\n",
        "\n",
        "print(a.zfill(10))\n",
        "print(b.zfill(10))\n",
        "print(c.zfill(10))"
      ],
      "metadata": {
        "id": "Rl7QcZuEnj59",
        "outputId": "df34781b-8423-47f5-c964-4077923558b9",
        "colab": {
          "base_uri": "https://localhost:8080/"
        }
      },
      "execution_count": null,
      "outputs": [
        {
          "output_type": "stream",
          "name": "stdout",
          "text": [
            "00000hello\n",
            "welcome to the jungle\n",
            "000010.000\n"
          ]
        }
      ]
    },
    {
      "cell_type": "markdown",
      "source": [
        "# Python booleans"
      ],
      "metadata": {
        "id": "aOBhPro5AcKd"
      }
    },
    {
      "cell_type": "markdown",
      "source": [
        "Python also has many built-in functions that return a boolean value, like the isinstance() function, which can be used to determine if an object is of a certain data type:"
      ],
      "metadata": {
        "id": "R-MGqmtEBaau"
      }
    },
    {
      "cell_type": "code",
      "source": [
        "x = 300\n",
        "print(isinstance(x , int))"
      ],
      "metadata": {
        "colab": {
          "base_uri": "https://localhost:8080/"
        },
        "id": "by7biC2qBbfF",
        "outputId": "40ec1779-ad39-42a0-c8c8-d05363e95e2b"
      },
      "execution_count": null,
      "outputs": [
        {
          "output_type": "stream",
          "name": "stdout",
          "text": [
            "True\n"
          ]
        }
      ]
    },
    {
      "cell_type": "markdown",
      "source": [
        "# Python operator -"
      ],
      "metadata": {
        "id": "kuV4g7t6B4Ba"
      }
    },
    {
      "cell_type": "markdown",
      "source": [
        "1 . arithmetic operator :"
      ],
      "metadata": {
        "id": "--YxL4aZB_OD"
      }
    },
    {
      "cell_type": "code",
      "source": [
        "# modulus\n",
        "x = 5\n",
        "y = 2\n",
        "print(x%y) # remainder\n",
        "\n",
        "# exponentiation\n",
        "p = 2\n",
        "q = 6\n",
        "print(p**q)\n",
        "# floor division\n",
        "x = 15\n",
        "y = 2\n",
        "print(x//y)"
      ],
      "metadata": {
        "colab": {
          "base_uri": "https://localhost:8080/"
        },
        "id": "92yF0dOUCE4a",
        "outputId": "ad79379f-02e2-402f-f94a-fd424071cc71"
      },
      "execution_count": null,
      "outputs": [
        {
          "output_type": "stream",
          "name": "stdout",
          "text": [
            "1\n",
            "64\n",
            "7\n"
          ]
        }
      ]
    },
    {
      "cell_type": "markdown",
      "source": [
        "2 . assignment operator :"
      ],
      "metadata": {
        "id": "1jKxoUxDD3Zd"
      }
    },
    {
      "cell_type": "code",
      "source": [
        "# and operator\n",
        "x = 5\n",
        "x &= 4\n",
        "print(x)\n",
        "# or operator\n",
        "y = 5\n",
        "y |= 3\n",
        "print(y)\n",
        "# bitwise xor assignment operator\n",
        "z = 5\n",
        "z ^=3\n",
        "print(z)\n",
        "# right shift assignment operator\n",
        "x = 5\n",
        "\n",
        "x >>= 3\n",
        "\n",
        "print(x)\n",
        "print(p:=3) # assiing a value 3 to the variable p"
      ],
      "metadata": {
        "colab": {
          "base_uri": "https://localhost:8080/"
        },
        "id": "GpY6Q7WdD8dN",
        "outputId": "ff8037bb-dcaf-466d-c754-6c2791d91a00"
      },
      "execution_count": null,
      "outputs": [
        {
          "output_type": "stream",
          "name": "stdout",
          "text": [
            "4\n",
            "7\n",
            "6\n"
          ]
        }
      ]
    },
    {
      "cell_type": "markdown",
      "source": [
        "3 . comparision operator"
      ],
      "metadata": {
        "id": "sAUn-B6b-TUm"
      }
    },
    {
      "cell_type": "code",
      "source": [
        "x = 5\n",
        "y = 4\n",
        "print(x==y) # equal\n",
        "print(x!=y) # not equal\n",
        "print(x>y) # greter than\n",
        "print(x<y) # smaller than\n",
        "print(x>=y) # greater than or equal to\n",
        "print(x<=y) # less than or equal to\n",
        "\n"
      ],
      "metadata": {
        "colab": {
          "base_uri": "https://localhost:8080/"
        },
        "id": "wjOPBE33-X1Q",
        "outputId": "82dea164-f1d4-46fc-bab0-f809f170af83"
      },
      "execution_count": null,
      "outputs": [
        {
          "output_type": "stream",
          "name": "stdout",
          "text": [
            "False\n",
            "True\n",
            "True\n",
            "False\n",
            "True\n",
            "False\n"
          ]
        }
      ]
    },
    {
      "cell_type": "markdown",
      "source": [
        "4 . logical operator"
      ],
      "metadata": {
        "id": "jCtfxIbj_ymG"
      }
    },
    {
      "cell_type": "code",
      "source": [
        "x = 5\n",
        "print(x>3 and x<2)\n",
        "print(x>3 and x>2)\n",
        "print(x<3 or x<4)\n",
        "print(not)"
      ],
      "metadata": {
        "colab": {
          "base_uri": "https://localhost:8080/"
        },
        "id": "ERfOAq1P_2ft",
        "outputId": "07e12048-1097-4c83-f9f0-e77a1d04a1aa"
      },
      "execution_count": null,
      "outputs": [
        {
          "output_type": "stream",
          "name": "stdout",
          "text": [
            "False\n",
            "True\n",
            "False\n"
          ]
        }
      ]
    },
    {
      "cell_type": "markdown",
      "source": [
        "5 . identity operator"
      ],
      "metadata": {
        "id": "FPaE-ezzhAY9"
      }
    },
    {
      "cell_type": "code",
      "source": [
        "a = [1, 2, 3]\n",
        "b = a\n",
        "c = [1, 2, 3]\n",
        "print(a is b)\n",
        "print(a is c)\n",
        "print(a == c)\n",
        "print(a is not c)\n"
      ],
      "metadata": {
        "colab": {
          "base_uri": "https://localhost:8080/"
        },
        "id": "YTI3UcC9hGnK",
        "outputId": "a19ac5bc-41b3-4120-ac0a-db79c9512569"
      },
      "execution_count": null,
      "outputs": [
        {
          "output_type": "stream",
          "name": "stdout",
          "text": [
            "True\n",
            "False\n",
            "True\n",
            "True\n"
          ]
        }
      ]
    },
    {
      "cell_type": "code",
      "source": [
        "x = 10\n",
        "y = 10\n",
        "print(x is y)  # True, because small integers (-5 to 256) are cached\n",
        "\n",
        "x = 500\n",
        "y = 500\n",
        "print(x is y)  # False, because large integers are not cached\n"
      ],
      "metadata": {
        "colab": {
          "base_uri": "https://localhost:8080/"
        },
        "id": "A5UF4wYhh3jj",
        "outputId": "f4d32b5f-b3a0-4c75-950e-dade6dd62bc3"
      },
      "execution_count": null,
      "outputs": [
        {
          "output_type": "stream",
          "name": "stdout",
          "text": [
            "True\n",
            "False\n"
          ]
        }
      ]
    },
    {
      "cell_type": "markdown",
      "source": [
        "6 . membership operator - Membership operators in Python are used to check if a value exists in a sequence (like a list, tuple, string, or dictionary).\n",
        "\n",
        "There are two membership operators:\n",
        "\n",
        "1 . in → Returns True if a value is present in the sequence.\n",
        "\n",
        "\n",
        "2 . not in → Returns True if a value is not present in the sequence"
      ],
      "metadata": {
        "id": "g8082a-fh7UM"
      }
    },
    {
      "cell_type": "code",
      "source": [
        "# using in or not in list\n",
        "my_list = ['mango' , 'guava' , 'orange']\n",
        "print('mango' in my_list)\n",
        "print('grape' in my_list)\n",
        "print('grape' not in my_list)\n",
        "print('guava' in my_list)\n",
        "\n",
        "# using string\n",
        "x = \"hello i am using python\"\n",
        "print(\"python\" in x )\n",
        "print(\"java\" in x)"
      ],
      "metadata": {
        "colab": {
          "base_uri": "https://localhost:8080/"
        },
        "id": "wtGaNLF2ijjz",
        "outputId": "bdfdc9e2-1318-4eee-a99f-0581b4141d7a"
      },
      "execution_count": null,
      "outputs": [
        {
          "output_type": "stream",
          "name": "stdout",
          "text": [
            "True\n",
            "False\n",
            "True\n",
            "True\n",
            "True\n",
            "False\n"
          ]
        }
      ]
    },
    {
      "cell_type": "markdown",
      "source": [
        "6. bitwise operator - Bitwise operators in Python operate at the binary level (bit-by-bit). These operators are used to perform operations on individual bits of integers."
      ],
      "metadata": {
        "id": "lo74E70Uljdw"
      }
    },
    {
      "cell_type": "code",
      "source": [
        "# 1 . and bitwise operator\n",
        "a = 5 # (0101 in binary)\n",
        "b = 3 # (0011 in binary)\n",
        "print(a &b) # 0101 & 0011 = 0001 (1 in decimal)\n",
        "# 2. bitwise OR\n",
        "print(a | b)\n",
        "# 3. bitwise XOR\n",
        "print(a ^ b)\n",
        "# 4. bitwise not\n",
        "print(~ b)\n",
        "# 5. bitwise left shift\n",
        "print(a<<2)\n",
        "print(a>>2)\n"
      ],
      "metadata": {
        "colab": {
          "base_uri": "https://localhost:8080/"
        },
        "id": "1V12HzQIlxhj",
        "outputId": "4b4bfa4b-2293-4369-9905-eef1b7e711c2"
      },
      "execution_count": null,
      "outputs": [
        {
          "output_type": "stream",
          "name": "stdout",
          "text": [
            "1\n",
            "7\n",
            "6\n",
            "-4\n",
            "20\n",
            "1\n"
          ]
        }
      ]
    },
    {
      "cell_type": "markdown",
      "source": [
        "\n",
        "# list :-\n",
        "\n",
        "1. use to store multiples items in a single variable\n",
        "\n",
        "2. created using square bracket[]\n",
        "\n",
        "3. ordered , changeable , allow duplicates , indexed (first letter at index 0 , and second at 1)\n",
        "\n"
      ],
      "metadata": {
        "id": "CcKL1RIiuxT-"
      }
    },
    {
      "cell_type": "markdown",
      "source": [
        "1. ordered - When we say that lists are ordered, it means that the items have a defined order, and that order will not change.\n",
        "\n",
        "- If you add new items to a list, the new items will be placed at the end of the list."
      ],
      "metadata": {
        "id": "yzCjS6CX4X9u"
      }
    },
    {
      "cell_type": "markdown",
      "source": [
        "2. changeable - The list is changeable, meaning that we can change, add, and remove items in a list after it has been created"
      ],
      "metadata": {
        "id": "2QBBeBM248UK"
      }
    },
    {
      "cell_type": "code",
      "source": [
        "# to find the length if the list\n",
        "my_list = ['helooo' , 'my' , 'friend', 'helooo']\n",
        "print(len(my_list))\n",
        "# to print thr type of the list\n",
        "print(type(my_list))"
      ],
      "metadata": {
        "colab": {
          "base_uri": "https://localhost:8080/"
        },
        "id": "QFB7MdLT5iew",
        "outputId": "e089aeef-0f5b-4659-80b1-b45fab2e0a17"
      },
      "execution_count": null,
      "outputs": [
        {
          "output_type": "stream",
          "name": "stdout",
          "text": [
            "4\n",
            "<class 'list'>\n"
          ]
        }
      ]
    },
    {
      "cell_type": "code",
      "source": [
        "# creating list using list() constructor\n",
        "thislist = list(('apple','mango','cherry'))\n",
        "print(len(thislist))\n",
        "print(type(thislist))\n",
        "print(thislist)"
      ],
      "metadata": {
        "colab": {
          "base_uri": "https://localhost:8080/"
        },
        "id": "0nl409Pc6VXL",
        "outputId": "27b94bda-a2d5-4607-d193-b5cdd6e1d766"
      },
      "execution_count": null,
      "outputs": [
        {
          "output_type": "stream",
          "name": "stdout",
          "text": [
            "3\n",
            "<class 'list'>\n",
            "['apple', 'mango', 'cherry']\n"
          ]
        }
      ]
    },
    {
      "cell_type": "code",
      "source": [
        "thislist = ['app','zoo','tv']\n",
        "print(thislist[1]) # using indexing you can access list element"
      ],
      "metadata": {
        "colab": {
          "base_uri": "https://localhost:8080/"
        },
        "id": "0bqskzrU7HK8",
        "outputId": "8b1ab3c1-d58a-4cc7-f7b2-3b790f72ef0d"
      },
      "execution_count": null,
      "outputs": [
        {
          "output_type": "stream",
          "name": "stdout",
          "text": [
            "zoo\n"
          ]
        }
      ]
    },
    {
      "cell_type": "markdown",
      "source": [
        "negative indexing - means start from end"
      ],
      "metadata": {
        "id": "HEM2W8RNYt-5"
      }
    },
    {
      "cell_type": "code",
      "source": [
        "thislist = ['mango' , 'go', 'run','meet' , 'hate' , 'ego' , 'man']\n",
        "print(thislist[-1])\n",
        "print(thislist[2:5])\n",
        "print(thislist[:4])\n",
        "print(thislist[5:])\n",
        "print(thislist[-4:-1])\n",
        "if \"runout\" in thislist:\n",
        "  print(\"yes, it is present\")\n",
        "elif \"runout\" not in thislist:\n",
        "  print(\"noo it is not present\")"
      ],
      "metadata": {
        "colab": {
          "base_uri": "https://localhost:8080/"
        },
        "id": "3X-Dvs75Y5VF",
        "outputId": "17ce9b2f-ce56-4704-dd17-242244600f2d"
      },
      "execution_count": null,
      "outputs": [
        {
          "output_type": "stream",
          "name": "stdout",
          "text": [
            "man\n",
            "['run', 'meet', 'hate']\n",
            "['mango', 'go', 'run', 'meet']\n",
            "['ego', 'man']\n",
            "['meet', 'hate', 'ego']\n",
            "noo it is not present\n"
          ]
        }
      ]
    },
    {
      "cell_type": "markdown",
      "source": [
        "adding items into list"
      ],
      "metadata": {
        "id": "xLZIeykCaqK0"
      }
    },
    {
      "cell_type": "code",
      "source": [
        "thislist = ['hello' , 'world' , 'india' , 'indian' , 'knowledge']\n",
        "thislist.append(\"orange\")\n",
        "print(thislist)\n",
        "thislist.insert(1 , \"red\") # insert is used to add item into specifc position\n",
        "thatlist = ['i' , 'am' , 'amazing' , 'boy']\n",
        "thislist.extend(thatlist) # extend is use to add to different list or it is also add list tupple or other data type\n",
        "print(thislist)\n"
      ],
      "metadata": {
        "colab": {
          "base_uri": "https://localhost:8080/"
        },
        "id": "ROdTnVBda09s",
        "outputId": "17ebcb53-5420-40a4-c8cf-2de374b037a4"
      },
      "execution_count": null,
      "outputs": [
        {
          "output_type": "stream",
          "name": "stdout",
          "text": [
            "['hello', 'world', 'india', 'indian', 'knowledge', 'orange']\n",
            "['hello', 'red', 'world', 'india', 'indian', 'knowledge', 'orange', 'i', 'am', 'amazing', 'boy']\n"
          ]
        }
      ]
    },
    {
      "cell_type": "markdown",
      "source": [
        "remove element"
      ],
      "metadata": {
        "id": "RjQmbGz7cp9K"
      }
    },
    {
      "cell_type": "code",
      "source": [
        "thislist = ['hello' , 'world' , 'india' , 'indian' , 'knowledge']\n",
        "thislist.remove(\"world\")\n",
        "print(thislist)\n",
        "thislist.pop(2)\n",
        "print(thislist)\n",
        "del thislist[0]\n",
        "print(thislist)\n",
        "del thislist\n",
        "thatlist = ['i' , 'am' , 'amazing' , 'boy']\n",
        "thatlist.clear()\n",
        "print(thatlist)"
      ],
      "metadata": {
        "colab": {
          "base_uri": "https://localhost:8080/"
        },
        "id": "R2ONWR5DcsI3",
        "outputId": "16780cab-52ec-467e-883c-7d6731a2365b"
      },
      "execution_count": null,
      "outputs": [
        {
          "output_type": "stream",
          "name": "stdout",
          "text": [
            "['hello', 'india', 'indian', 'knowledge']\n",
            "['hello', 'india', 'knowledge']\n",
            "['india', 'knowledge']\n",
            "[]\n"
          ]
        }
      ]
    },
    {
      "cell_type": "markdown",
      "source": [
        "loop through list"
      ],
      "metadata": {
        "id": "oEy7lU_VeFdw"
      }
    },
    {
      "cell_type": "code",
      "source": [
        "thislist = [\"apple\" ,\"mango\" , \"cherry\"]\n",
        "for x in thislist:\n",
        "  print(x)\n",
        "for i in range(len(thislist)):\n",
        "  print(thislist[i])\n",
        "i = 0\n",
        "while i< len(thislist):\n",
        "  print(thislist[i])\n",
        "  i = i+1\n"
      ],
      "metadata": {
        "colab": {
          "base_uri": "https://localhost:8080/"
        },
        "id": "sgSAeBLdeI4d",
        "outputId": "46bd638c-8640-4f04-b653-259d67d175c2"
      },
      "execution_count": null,
      "outputs": [
        {
          "output_type": "stream",
          "name": "stdout",
          "text": [
            "apple\n",
            "mango\n",
            "cherry\n",
            "apple\n",
            "mango\n",
            "cherry\n",
            "apple\n",
            "mango\n",
            "cherry\n",
            "apple\n",
            "mango\n",
            "cherry\n"
          ]
        },
        {
          "output_type": "execute_result",
          "data": {
            "text/plain": [
              "[None, None, None]"
            ]
          },
          "metadata": {},
          "execution_count": 27
        }
      ]
    },
    {
      "cell_type": "code",
      "source": [
        "thatlist = [\"apple\" ,\"mango\" , \"cherry\"]\n",
        "[print(x) for x in thatlist]"
      ],
      "metadata": {
        "colab": {
          "base_uri": "https://localhost:8080/"
        },
        "id": "WHxdeu6YgIuc",
        "outputId": "55954bf0-93fa-4a03-ef35-8670b4dd1805"
      },
      "execution_count": null,
      "outputs": [
        {
          "output_type": "stream",
          "name": "stdout",
          "text": [
            "apple\n",
            "mango\n",
            "cherry\n"
          ]
        },
        {
          "output_type": "execute_result",
          "data": {
            "text/plain": [
              "[None, None, None]"
            ]
          },
          "metadata": {},
          "execution_count": 28
        }
      ]
    },
    {
      "cell_type": "markdown",
      "source": [
        "list comprehension - it is easy and short way to create a list"
      ],
      "metadata": {
        "id": "fQSq0W15FlSl"
      }
    },
    {
      "cell_type": "code",
      "source": [
        "fruits = ['mango' , 'apple' ,'pea','carrot','grapes','cherry',]\n",
        "newlist = []\n",
        "thislist = [x for x in fruits if \"a\" in x]  # short way to create list\n",
        "for x in fruits:\n",
        "  if \"a\" in x:\n",
        "    newlist.append(x)\n",
        "print(newlist)\n",
        "print(thislist)\n",
        "newlist = [x for x in fruits if x != \"apple\"]#Only accept items that are not \"apple\"\n",
        "print(newlist)\n"
      ],
      "metadata": {
        "colab": {
          "base_uri": "https://localhost:8080/"
        },
        "id": "vXLIkECLFsUZ",
        "outputId": "16e8409e-28e4-44a2-ff6a-44f253929bb7"
      },
      "execution_count": null,
      "outputs": [
        {
          "output_type": "stream",
          "name": "stdout",
          "text": [
            "['mango', 'apple', 'pea', 'carrot', 'grapes']\n",
            "['mango', 'apple', 'pea', 'carrot', 'grapes']\n",
            "['mango', 'pea', 'carrot', 'grapes', 'cherry']\n"
          ]
        }
      ]
    },
    {
      "cell_type": "markdown",
      "source": [
        "The syntax :\n",
        "```\n",
        "# newlist = [expression for item in iterable if condition == True]\n",
        "```\n",
        "\n"
      ],
      "metadata": {
        "id": "r1tJGC2zTcfm"
      }
    },
    {
      "cell_type": "code",
      "source": [
        "# you can use the range() function to create an iterable\n",
        "newlist = [x for x in range(10)]\n",
        "print(newlist)\n",
        "# Accept only numbers lower than 5:\n",
        "newlist = [x for x in range(10) if x < 5]\n",
        "print(newlist)\n",
        "# Set the values in the new list to upper case:\n",
        "newlist = [x.upper() for x in fruits]\n",
        "print(newlist)\n",
        "# Set all values in the new list to 'hello'\n",
        "newlist = ['hello' for x in fruits]\n",
        "print(newlist)\n",
        "#return orange instead of apple\n",
        "newlist = [x if x != \"apple\" else \"orange\" for x in fruits]\n",
        "print(newlist)"
      ],
      "metadata": {
        "colab": {
          "base_uri": "https://localhost:8080/"
        },
        "id": "Nj2juJvqVQNd",
        "outputId": "547c9dc1-855e-4a92-b3c9-8cb39242b68c"
      },
      "execution_count": null,
      "outputs": [
        {
          "output_type": "stream",
          "name": "stdout",
          "text": [
            "[0, 1, 2, 3, 4, 5, 6, 7, 8, 9]\n",
            "[0, 1, 2, 3, 4]\n",
            "['MANGO', 'APPLE', 'PEA', 'CARROT', 'GRAPES', 'CHERRY']\n",
            "['hello', 'hello', 'hello', 'hello', 'hello', 'hello']\n",
            "['mango', 'orange', 'pea', 'carrot', 'grapes', 'cherry']\n"
          ]
        }
      ]
    },
    {
      "cell_type": "markdown",
      "source": [
        "sort list:-\n",
        "\n",
        "1. sorting in ascending order"
      ],
      "metadata": {
        "id": "2knC5VvRJRe4"
      }
    },
    {
      "cell_type": "code",
      "source": [
        "thislist = [\"orange\" , \"mango\", \"kiwi\",\"apple\", \"pineapple\" , \"banana\"]\n",
        "thislist.sort()\n",
        "print(thislist)"
      ],
      "metadata": {
        "colab": {
          "base_uri": "https://localhost:8080/"
        },
        "id": "4mFNAhsoJTqg",
        "outputId": "01900bb1-b39f-473f-a50f-9523a48f3816"
      },
      "execution_count": null,
      "outputs": [
        {
          "output_type": "stream",
          "name": "stdout",
          "text": [
            "['apple', 'banana', 'kiwi', 'mango', 'orange', 'pineapple']\n"
          ]
        }
      ]
    },
    {
      "cell_type": "code",
      "source": [
        "thislist = [100, 50, 65, 82, 23]\n",
        "thislist.sort()\n",
        "print(thislist)"
      ],
      "metadata": {
        "colab": {
          "base_uri": "https://localhost:8080/"
        },
        "id": "VoJTBrnhKHfc",
        "outputId": "93630f18-1547-41f0-99d7-1ebff0ae226b"
      },
      "execution_count": null,
      "outputs": [
        {
          "output_type": "stream",
          "name": "stdout",
          "text": [
            "[23, 50, 65, 82, 100]\n"
          ]
        }
      ]
    },
    {
      "cell_type": "markdown",
      "source": [
        "2. sorting in descending order"
      ],
      "metadata": {
        "id": "_qQFHzQ5KSzk"
      }
    },
    {
      "cell_type": "code",
      "source": [
        "thislist = [\"orange\", \"mango\", \"kiwi\", \"pineapple\", \"banana\"]\n",
        "thislist.sort(reverse = True)\n",
        "print(thislist)"
      ],
      "metadata": {
        "colab": {
          "base_uri": "https://localhost:8080/"
        },
        "id": "TdeKxZtWKXhp",
        "outputId": "772487b8-8a4f-49d5-c3ff-576292e735ee"
      },
      "execution_count": null,
      "outputs": [
        {
          "output_type": "stream",
          "name": "stdout",
          "text": [
            "['pineapple', 'orange', 'mango', 'kiwi', 'banana']\n"
          ]
        }
      ]
    },
    {
      "cell_type": "code",
      "source": [
        "thislist = [100, 50, 65, 82, 23]\n",
        "thislist.sort(reverse = True)\n",
        "print(thislist)"
      ],
      "metadata": {
        "colab": {
          "base_uri": "https://localhost:8080/"
        },
        "id": "hvFmHE0cKend",
        "outputId": "498e397e-1b8b-4eaa-87bb-bea03ed1a163"
      },
      "execution_count": null,
      "outputs": [
        {
          "output_type": "stream",
          "name": "stdout",
          "text": [
            "[100, 82, 65, 50, 23]\n"
          ]
        }
      ]
    },
    {
      "cell_type": "markdown",
      "source": [
        "customize sort function -\n",
        "\n",
        "You can also customize your own function by using the keyword argument (key = function.)\n",
        "\n",
        "The function will return a number that will be used to sort the list (the lowest number first):"
      ],
      "metadata": {
        "id": "DMNhSFEIKmBl"
      }
    },
    {
      "cell_type": "code",
      "source": [
        "def myfunc(n):\n",
        "  return abs(n - 50)\n",
        "\n",
        "thislist = [100, 50, 65, 82, 23]\n",
        "thislist.sort(key = myfunc)\n",
        "print(thislist)"
      ],
      "metadata": {
        "colab": {
          "base_uri": "https://localhost:8080/"
        },
        "id": "KEi1GUbRKqWI",
        "outputId": "781c0fa0-a041-4199-fb25-0139e38af205"
      },
      "execution_count": null,
      "outputs": [
        {
          "output_type": "stream",
          "name": "stdout",
          "text": [
            "[50, 65, 23, 82, 100]\n"
          ]
        }
      ]
    },
    {
      "cell_type": "code",
      "source": [
        "def myfunc(c):\n",
        "  return abs(ord(c) - ord('M'))\n",
        "\n",
        "thislist = ['A', 'Z', 'G', 'M', 'T']\n",
        "thislist.sort(key = myfunc)\n",
        "print(thislist)\n",
        "#The function myfunc calculates the absolute difference between the ASCII value of each character and the ASCII value of 'M'.\n",
        "#The list is then sorted based on this difference."
      ],
      "metadata": {
        "colab": {
          "base_uri": "https://localhost:8080/"
        },
        "id": "OQ1C1cxoLxdv",
        "outputId": "4cf5d98f-d03c-4aba-883c-e1bac8e73ff2"
      },
      "execution_count": null,
      "outputs": [
        {
          "output_type": "stream",
          "name": "stdout",
          "text": [
            "['M', 'G', 'T', 'A', 'Z']\n"
          ]
        }
      ]
    },
    {
      "cell_type": "markdown",
      "source": [
        "Case Insensitive Sort - by default sort method is case sensitive"
      ],
      "metadata": {
        "id": "o9jOqrBvMwt5"
      }
    },
    {
      "cell_type": "code",
      "source": [
        "thislist = [\"banana\", \"Orange\", \"Kiwi\", \"cherry\",\"Zebra\"]\n",
        "thislist.sort()\n",
        "print(thislist)\n",
        "# capital letter is consider first"
      ],
      "metadata": {
        "colab": {
          "base_uri": "https://localhost:8080/"
        },
        "id": "zDu5mNMeNIqg",
        "outputId": "759914f4-f37b-4ad9-b6a7-6c402372f89a"
      },
      "execution_count": null,
      "outputs": [
        {
          "output_type": "stream",
          "name": "stdout",
          "text": [
            "['Kiwi', 'Orange', 'Zebra', 'banana', 'cherry']\n"
          ]
        }
      ]
    },
    {
      "cell_type": "markdown",
      "source": [
        "Luckily we can use built-in functions as key functions when sorting a list.\n",
        "\n"
      ],
      "metadata": {
        "id": "lsFS9HjhNehs"
      }
    },
    {
      "cell_type": "code",
      "source": [
        "thislist = [\"banana\", \"Orange\", \"Kiwi\", \"cherry\"]\n",
        "thislist.sort(key = str.lower)\n",
        "print(thislist)\n",
        "# in this Kiwi capital K is consider like small k"
      ],
      "metadata": {
        "colab": {
          "base_uri": "https://localhost:8080/"
        },
        "id": "i9NkUEzFNfk0",
        "outputId": "078fcc0c-bc4b-44e0-d82e-3dc778b6e245"
      },
      "execution_count": null,
      "outputs": [
        {
          "output_type": "stream",
          "name": "stdout",
          "text": [
            "['banana', 'cherry', 'Kiwi', 'Orange']\n"
          ]
        }
      ]
    },
    {
      "cell_type": "markdown",
      "source": [
        "Reverse Order-\n",
        "\n",
        "What if you want to reverse the order of a list, regardless of the alphabet?\n",
        "\n",
        "The reverse() method reverses the current sorting order of the elements."
      ],
      "metadata": {
        "id": "M25qKY35NyA8"
      }
    },
    {
      "cell_type": "code",
      "source": [
        "thislist = [\"banana\", \"Orange\", \"Kiwi\", \"cherry\"]\n",
        "thislist.reverse()\n",
        "print(thislist)"
      ],
      "metadata": {
        "colab": {
          "base_uri": "https://localhost:8080/"
        },
        "id": "AWosNPr3N877",
        "outputId": "d0bd5913-9275-480f-fbce-bfa5a9d33e84"
      },
      "execution_count": null,
      "outputs": [
        {
          "output_type": "stream",
          "name": "stdout",
          "text": [
            "['cherry', 'Kiwi', 'Orange', 'banana']\n"
          ]
        }
      ]
    },
    {
      "cell_type": "markdown",
      "source": [
        "Copy Lists"
      ],
      "metadata": {
        "id": "_gnA3PR6Uq2Y"
      }
    },
    {
      "cell_type": "code",
      "source": [
        "thislist = ['apple' , 'kiwi' , 'mango','pineapple']\n",
        "thatlist = ['carrot' , 'grapes','cherry']\n",
        "thislist = thatlist.copy() # first copy method\n",
        "mylist= list(thislist) # list method\n",
        "print(thislist)\n",
        "print(mylist)\n",
        "# using slicing\n",
        "thislist = thatlist[:]\n",
        "print(thislist)\n",
        "result = thislist + thatlist\n",
        "print(result)\n",
        "thislist.extend(thatlist)\n",
        "print(thislist)"
      ],
      "metadata": {
        "colab": {
          "base_uri": "https://localhost:8080/"
        },
        "id": "E4r8gfl0UwzI",
        "outputId": "a1b6bdc9-aa12-4028-83cb-a9fd29be1fcc"
      },
      "execution_count": null,
      "outputs": [
        {
          "output_type": "stream",
          "name": "stdout",
          "text": [
            "['carrot', 'grapes', 'cherry']\n",
            "['carrot', 'grapes', 'cherry']\n",
            "['carrot', 'grapes', 'cherry']\n",
            "['carrot', 'grapes', 'cherry', 'carrot', 'grapes', 'cherry']\n",
            "['carrot', 'grapes', 'cherry', 'carrot', 'grapes', 'cherry']\n"
          ]
        }
      ]
    },
    {
      "cell_type": "markdown",
      "source": [
        "join or add  two list"
      ],
      "metadata": {
        "id": "DvTJjoXzW2zl"
      }
    },
    {
      "cell_type": "code",
      "source": [
        "list1 = [\"apple\" , \"mango\" , \"1\"]\n",
        "list2 = [\"1\" , \"2\",\"3\"]\n",
        "list3 = [\"a\",\"b\",\"c\"]\n",
        "list3 = list1 +list2 # add method first\n",
        "print(list3)\n",
        "for x in list2: # add method second\n",
        "  list1.append(x)\n",
        "  print(list1)"
      ],
      "metadata": {
        "id": "D04MVCLfW6Sj",
        "colab": {
          "base_uri": "https://localhost:8080/"
        },
        "outputId": "85adc740-208e-4e5d-ca3f-3da46595b3ec"
      },
      "execution_count": null,
      "outputs": [
        {
          "output_type": "stream",
          "name": "stdout",
          "text": [
            "['apple', 'mango', '1', '1', '2', '3']\n",
            "['apple', 'mango', '1', '1']\n",
            "['apple', 'mango', '1', '1', '2']\n",
            "['apple', 'mango', '1', '1', '2', '3']\n",
            "['1', '2', '3', 'apple', 'mango', '1', '1', '2', '3']\n"
          ]
        }
      ]
    },
    {
      "cell_type": "code",
      "source": [
        "# add method 3\n",
        "list2 = [\"1\" , \"2\",\"3\"]\n",
        "list3 = [\"a\",\"b\",\"c\"]\n",
        "list2.extend(list3)\n",
        "print(list2)"
      ],
      "metadata": {
        "colab": {
          "base_uri": "https://localhost:8080/"
        },
        "id": "oBx6dNNIz3ZU",
        "outputId": "1548d0d3-097f-41c2-a8df-8d07104466f3"
      },
      "execution_count": null,
      "outputs": [
        {
          "output_type": "stream",
          "name": "stdout",
          "text": [
            "['1', '2', '3', 'a', 'b', 'c']\n"
          ]
        }
      ]
    },
    {
      "cell_type": "markdown",
      "source": [
        "list method"
      ],
      "metadata": {
        "id": "EUFxxsUO2Mfs"
      }
    },
    {
      "cell_type": "markdown",
      "source": [
        "1. clear() - remove all the element from the list"
      ],
      "metadata": {
        "id": "qeMcmpwu2XmB"
      }
    },
    {
      "cell_type": "code",
      "source": [
        "list2 = [\"1\" , \"2\",\"3\"]\n",
        "list2.clear()\n",
        "print(list2)"
      ],
      "metadata": {
        "colab": {
          "base_uri": "https://localhost:8080/"
        },
        "id": "yD6Ap7m92O2U",
        "outputId": "367f5d95-61a6-458d-90c2-9d037c21dc27"
      },
      "execution_count": null,
      "outputs": [
        {
          "output_type": "stream",
          "name": "stdout",
          "text": [
            "[]\n"
          ]
        }
      ]
    },
    {
      "cell_type": "markdown",
      "source": [
        "2. count() - return the count of the number of the list  with the specified value"
      ],
      "metadata": {
        "id": "OtCJhJvf2qOO"
      }
    },
    {
      "cell_type": "code",
      "source": [
        "list2 = [\"1\" , \"2\",\"3\", \"1\",\"1\"]\n",
        "list3 = [\"a\",\"b\",\"c\"]\n",
        "x = list2.count(\"1\")\n",
        "print(x)"
      ],
      "metadata": {
        "colab": {
          "base_uri": "https://localhost:8080/"
        },
        "id": "0pn3J-RO283m",
        "outputId": "3dc98e67-424a-4c38-8322-fdb375121111"
      },
      "execution_count": null,
      "outputs": [
        {
          "output_type": "stream",
          "name": "stdout",
          "text": [
            "3\n"
          ]
        }
      ]
    },
    {
      "cell_type": "markdown",
      "source": [
        "3. index() - Returns the index of the first element with the specified value"
      ],
      "metadata": {
        "id": "W6Ipg-x23XdZ"
      }
    },
    {
      "cell_type": "code",
      "source": [
        "list = [\"1\" ,\"2\",\"3\",\"4\"]\n",
        "x = list.index(\"4\")\n",
        "print(x)"
      ],
      "metadata": {
        "colab": {
          "base_uri": "https://localhost:8080/"
        },
        "id": "xTbJMbn731bE",
        "outputId": "533ddeda-e83c-4ac4-a5e5-d68768770be6"
      },
      "execution_count": null,
      "outputs": [
        {
          "output_type": "stream",
          "name": "stdout",
          "text": [
            "3\n"
          ]
        }
      ]
    },
    {
      "cell_type": "markdown",
      "source": [
        "4. insert() - insert a value to a list at a specified value"
      ],
      "metadata": {
        "id": "0JDHVW204Qw5"
      }
    },
    {
      "cell_type": "code",
      "source": [
        "list = [\"1\" ,\"2\",\"3\",\"4\"]\n",
        "list.insert(4 ,\"5\")\n",
        "print(list)\n",
        "# pop is used to remove the element at a specified value\n",
        "list.pop(1)\n",
        "print(list)\n",
        "# remove() is used Removes the item with the specified value\n",
        "list.remove(\"4\")\n",
        "print(list)"
      ],
      "metadata": {
        "colab": {
          "base_uri": "https://localhost:8080/"
        },
        "id": "gYdYm37n4ano",
        "outputId": "715294e8-3f74-44a3-be0b-1430010d4caf"
      },
      "execution_count": null,
      "outputs": [
        {
          "output_type": "stream",
          "name": "stdout",
          "text": [
            "['1', '2', '3', '4', '5']\n",
            "['1', '3', '4', '5']\n",
            "['1', '3', '5']\n"
          ]
        }
      ]
    },
    {
      "cell_type": "markdown",
      "source": [
        "5.sort() - used to sort the list"
      ],
      "metadata": {
        "id": "NWkgv0o25-j-"
      }
    },
    {
      "cell_type": "code",
      "source": [
        "cars = [ 'Ford', 'BMW', 'Volvo']\n",
        "cars.sort()\n",
        "print(cars)"
      ],
      "metadata": {
        "colab": {
          "base_uri": "https://localhost:8080/"
        },
        "id": "eYaSSgX16EBO",
        "outputId": "2db5acb1-b2b7-4107-8968-6e5617d03609"
      },
      "execution_count": null,
      "outputs": [
        {
          "output_type": "stream",
          "name": "stdout",
          "text": [
            "['BMW', 'Ford', 'Volvo']\n"
          ]
        }
      ]
    },
    {
      "cell_type": "markdown",
      "source": [
        "tuple"
      ],
      "metadata": {
        "id": "Vy9BTGZoH14l"
      }
    },
    {
      "cell_type": "code",
      "source": [
        "# creating a tupple with one element\n",
        "thistuple = (\"apple\",)\n",
        "print(type(thistuple))\n",
        "thattuple = (\"apple\")\n",
        "print(type(thattuple))"
      ],
      "metadata": {
        "colab": {
          "base_uri": "https://localhost:8080/"
        },
        "id": "h9Ep2iOFH9Ut",
        "outputId": "9c19442a-23d6-49f3-d36e-c7baac8fbe66"
      },
      "execution_count": null,
      "outputs": [
        {
          "output_type": "stream",
          "name": "stdout",
          "text": [
            "<class 'tuple'>\n",
            "<class 'str'>\n"
          ]
        }
      ]
    },
    {
      "cell_type": "code",
      "source": [
        "# creating tuple using tuple constructor\n",
        "thistuple = tuple((\"apple\",\"mango\",\"pineapple\"))\n",
        "print(thistuple)"
      ],
      "metadata": {
        "colab": {
          "base_uri": "https://localhost:8080/"
        },
        "id": "P6rPAdgtIoHJ",
        "outputId": "898dc579-c41c-4baf-cc48-c4ae4f34a8c4"
      },
      "execution_count": null,
      "outputs": [
        {
          "output_type": "stream",
          "name": "stdout",
          "text": [
            "('apple', 'mango', 'pineapple')\n"
          ]
        }
      ]
    },
    {
      "cell_type": "markdown",
      "source": [
        "you can not add or remove item in tuple but you can update tuple like this\n",
        "\n",
        "update method:"
      ],
      "metadata": {
        "id": "IwOR4TEqJRzA"
      }
    },
    {
      "cell_type": "code",
      "source": [
        "# first method\n",
        "del list  # Only needed if 'list' was redefined\n",
        "x = (\"apple\", \"banana\", \"cherry\")\n",
        "y = list(x)\n",
        "y[1] = \"kiwi\"\n",
        "x = tuple(y)\n",
        "\n",
        "print(x)\n",
        "# here after converting a tuple into list then you can use the all list\n",
        "#                                   adding and removing method in tuple\n"
      ],
      "metadata": {
        "colab": {
          "base_uri": "https://localhost:8080/"
        },
        "id": "29_TCcYjJcmD",
        "outputId": "d91ab489-c92f-46fa-d2a6-f7c9e6565baa"
      },
      "execution_count": null,
      "outputs": [
        {
          "output_type": "stream",
          "name": "stdout",
          "text": [
            "('apple', 'kiwi', 'cherry')\n"
          ]
        }
      ]
    },
    {
      "cell_type": "code",
      "source": [
        "# second method - without converting to list\n",
        "thistuple = (\"apple\", \"banana\", \"cherry\")\n",
        "y = (\"orange\",)\n",
        "thistuple += y\n",
        "\n",
        "print(thistuple)"
      ],
      "metadata": {
        "colab": {
          "base_uri": "https://localhost:8080/"
        },
        "id": "HCEDThWnLz0m",
        "outputId": "18150b5f-d4ff-4ba1-86de-ee03078ddb77"
      },
      "execution_count": null,
      "outputs": [
        {
          "output_type": "stream",
          "name": "stdout",
          "text": [
            "('apple', 'banana', 'cherry', 'orange')\n"
          ]
        }
      ]
    },
    {
      "cell_type": "markdown",
      "source": [
        "delete a tuple"
      ],
      "metadata": {
        "id": "eq9Ky_ukM8Qc"
      }
    },
    {
      "cell_type": "code",
      "source": [
        "thistuple = (\"apple\", \"banana\", \"cherry\")\n",
        "del thistuple # del is used to delete the tuple completely\n",
        "print(thistuple) #this will raise an error because the tuple no longer exists"
      ],
      "metadata": {
        "colab": {
          "base_uri": "https://localhost:8080/",
          "height": 184
        },
        "id": "yEk__KoBM-OB",
        "outputId": "5bdc2dd9-27f0-4c57-be8d-af1aa75a7e9a"
      },
      "execution_count": null,
      "outputs": [
        {
          "output_type": "error",
          "ename": "NameError",
          "evalue": "name 'thistuple' is not defined",
          "traceback": [
            "\u001b[0;31m---------------------------------------------------------------------------\u001b[0m",
            "\u001b[0;31mNameError\u001b[0m                                 Traceback (most recent call last)",
            "\u001b[0;32m<ipython-input-38-8a57ed92fc5d>\u001b[0m in \u001b[0;36m<cell line: 0>\u001b[0;34m()\u001b[0m\n\u001b[1;32m      1\u001b[0m \u001b[0mthistuple\u001b[0m \u001b[0;34m=\u001b[0m \u001b[0;34m(\u001b[0m\u001b[0;34m\"apple\"\u001b[0m\u001b[0;34m,\u001b[0m \u001b[0;34m\"banana\"\u001b[0m\u001b[0;34m,\u001b[0m \u001b[0;34m\"cherry\"\u001b[0m\u001b[0;34m)\u001b[0m\u001b[0;34m\u001b[0m\u001b[0;34m\u001b[0m\u001b[0m\n\u001b[1;32m      2\u001b[0m \u001b[0;32mdel\u001b[0m \u001b[0mthistuple\u001b[0m\u001b[0;34m\u001b[0m\u001b[0;34m\u001b[0m\u001b[0m\n\u001b[0;32m----> 3\u001b[0;31m \u001b[0mprint\u001b[0m\u001b[0;34m(\u001b[0m\u001b[0mthistuple\u001b[0m\u001b[0;34m)\u001b[0m \u001b[0;31m#this will raise an error because the tuple no longer exists\u001b[0m\u001b[0;34m\u001b[0m\u001b[0;34m\u001b[0m\u001b[0m\n\u001b[0m",
            "\u001b[0;31mNameError\u001b[0m: name 'thistuple' is not defined"
          ]
        }
      ]
    },
    {
      "cell_type": "markdown",
      "source": [
        "unpack a tuple - When we create a tuple, we normally assign values to it. This is called \"packing\" a tuple\n",
        "\n",
        "But, in Python, we are also allowed to extract the values back into variables. This is called \"unpacking\""
      ],
      "metadata": {
        "id": "oznkrYPnPSci"
      }
    },
    {
      "cell_type": "code",
      "source": [
        "fruits = (\"apple\", \"banana\", \"cherry\")\n",
        "\n",
        "(green, yellow, red) = fruits\n",
        "\n",
        "print(green)\n",
        "print(yellow)\n",
        "print(red)"
      ],
      "metadata": {
        "colab": {
          "base_uri": "https://localhost:8080/"
        },
        "id": "dDR9rILePhkf",
        "outputId": "8ad7fa6a-4cd3-427e-895f-e3715e8b92f1"
      },
      "execution_count": null,
      "outputs": [
        {
          "output_type": "stream",
          "name": "stdout",
          "text": [
            "apple\n",
            "banana\n",
            "cherry\n"
          ]
        }
      ]
    },
    {
      "cell_type": "markdown",
      "source": [
        " Using Asterisk* - If the number of variables is less than the number of values, you can add an * to the variable name and the values will be assigned to the variable as a list:"
      ],
      "metadata": {
        "id": "ECuGHQhW3Bkx"
      }
    },
    {
      "cell_type": "code",
      "source": [
        "fruits = (\"apple\", \"banana\", \"cherry\", \"strawberry\", \"raspberry\")\n",
        "\n",
        "(green, yellow, *red) = fruits\n",
        "\n",
        "print(green)\n",
        "print(yellow)\n",
        "print(red)"
      ],
      "metadata": {
        "colab": {
          "base_uri": "https://localhost:8080/"
        },
        "id": "f5tGBe2-PywV",
        "outputId": "1409df10-0c20-4034-98e6-8aba9608d9c8"
      },
      "execution_count": null,
      "outputs": [
        {
          "output_type": "stream",
          "name": "stdout",
          "text": [
            "apple\n",
            "banana\n",
            "['cherry', 'strawberry', 'raspberry']\n"
          ]
        }
      ]
    },
    {
      "cell_type": "code",
      "source": [
        "fruits = (\"apple\", \"mango\", \"papaya\", \"pineapple\", \"cherry\")\n",
        "\n",
        "(green, *tropic, red) = fruits\n",
        "\n",
        "print(green)\n",
        "print(tropic)\n",
        "print(red)"
      ],
      "metadata": {
        "id": "U2ScqhyHP5E1",
        "outputId": "82f7988e-ca3a-4a31-bfe0-fd9bf1f8fc3a",
        "colab": {
          "base_uri": "https://localhost:8080/"
        }
      },
      "execution_count": null,
      "outputs": [
        {
          "output_type": "stream",
          "name": "stdout",
          "text": [
            "apple\n",
            "['mango', 'papaya', 'pineapple']\n",
            "cherry\n"
          ]
        }
      ]
    },
    {
      "cell_type": "markdown",
      "source": [
        "looping through a tuple\n"
      ],
      "metadata": {
        "id": "q6FHrkfZ3SQg"
      }
    },
    {
      "cell_type": "code",
      "source": [
        "thistuple =(\"apple\",\"mango\",\"orange\")\n",
        "for x in thistuple:\n",
        "  print(x)\n",
        "  # looping through index number\n",
        "for i in range(len(thistuple)):\n",
        "  print(f\"index {i} : {thistuple[i]}\")\n",
        "# using while loop\n",
        "i = 0\n",
        "while i < len(thistuple):\n",
        "  print(thistuple[i])\n",
        "  i = i+1"
      ],
      "metadata": {
        "colab": {
          "base_uri": "https://localhost:8080/"
        },
        "id": "wxdLBtzK3VLK",
        "outputId": "cb5d2ef4-5807-454f-84fd-39ad81112539"
      },
      "execution_count": null,
      "outputs": [
        {
          "output_type": "stream",
          "name": "stdout",
          "text": [
            "apple\n",
            "mango\n",
            "orange\n",
            "index 0 : apple\n",
            "index 1 : mango\n",
            "index 2 : orange\n",
            "apple\n",
            "mango\n",
            "orange\n"
          ]
        }
      ]
    },
    {
      "cell_type": "markdown",
      "source": [
        "join two tuple"
      ],
      "metadata": {
        "id": "EVkZ-NhJ5PEr"
      }
    },
    {
      "cell_type": "code",
      "source": [
        "tuple1 = (\"a\",\"b\",\"c\")\n",
        "tuple2 = (1,2,3)\n",
        "x = tuple1 + tuple2\n",
        "print(x)\n",
        "y = tuple1*2\n",
        "print(y)\n"
      ],
      "metadata": {
        "colab": {
          "base_uri": "https://localhost:8080/"
        },
        "id": "RtLbH4Y75SLL",
        "outputId": "37ca94f0-a02e-4161-e946-b35cc2631984"
      },
      "execution_count": null,
      "outputs": [
        {
          "output_type": "stream",
          "name": "stdout",
          "text": [
            "('a', 'b', 'c', 1, 2, 3)\n",
            "('a', 'b', 'c', 'a', 'b', 'c')\n"
          ]
        }
      ]
    },
    {
      "cell_type": "markdown",
      "source": [
        "tuple method"
      ],
      "metadata": {
        "id": "0US9uNGq6GM7"
      }
    },
    {
      "cell_type": "markdown",
      "source": [
        "1.  count() = Returns the number of times a specified value occurs in a tuple"
      ],
      "metadata": {
        "id": "q4S_kM5s6K0F"
      }
    },
    {
      "cell_type": "code",
      "source": [
        "thistuple = (1, 3, 7, 8, 7, 5, 4, 6, 8, 5)\n",
        "\n",
        "x = thistuple.count(5)\n",
        "\n",
        "print(x)"
      ],
      "metadata": {
        "colab": {
          "base_uri": "https://localhost:8080/"
        },
        "id": "2Ufa0uXB6JLI",
        "outputId": "708739f5-a6af-43b5-eda6-6c40091c01fb"
      },
      "execution_count": null,
      "outputs": [
        {
          "output_type": "stream",
          "name": "stdout",
          "text": [
            "2\n"
          ]
        }
      ]
    },
    {
      "cell_type": "markdown",
      "source": [
        "2. index() = Searches the tuple for a specified value and returns the position of where it was found"
      ],
      "metadata": {
        "id": "cvUzERuC6Slr"
      }
    },
    {
      "cell_type": "code",
      "source": [
        "thistuple = (1, 3, 7, 8, 7, 5, 4, 6, 8, 5)\n",
        "\n",
        "x = thistuple.index(8)\n",
        "\n",
        "print(x)"
      ],
      "metadata": {
        "colab": {
          "base_uri": "https://localhost:8080/"
        },
        "id": "aKpF1oEz6bYL",
        "outputId": "c1e36bb3-c5ca-463b-9dec-0951b40e8fc2"
      },
      "execution_count": null,
      "outputs": [
        {
          "output_type": "stream",
          "name": "stdout",
          "text": [
            "3\n"
          ]
        }
      ]
    },
    {
      "cell_type": "markdown",
      "source": [
        "# set"
      ],
      "metadata": {
        "id": "AW-Q1N7F6qte"
      }
    },
    {
      "cell_type": "markdown",
      "source": [
        "\n",
        "\n",
        "*  Sets are used to store multiple items in a single variable.\n",
        "\n",
        "\n",
        "*   A set is a collection which is unordered, unchangeable*, and unindexed.\n",
        "\n",
        "     *   Unordered - Unordered means that the items in a set do not have a defined order.\n",
        "\n",
        "     Set items can appear in a different order every time you use them, and cannot be referred to by index or key.\n",
        "     * Unchangeable - Set items are unchangeable, meaning that we cannot change the items after the set has been created.\n",
        "\n",
        "     * Duplicates Not Allowed"
      ],
      "metadata": {
        "id": "C3j08qh16w2r"
      }
    },
    {
      "cell_type": "code",
      "source": [
        "# unorderd -\n",
        "my_set = {1, 2, 3, 4, 5, 6, 7, 8, 9}\n",
        "print(my_set)\n",
        "my_list = [10, 20, 30, 40, 50]\n",
        "my_set = {10, 20, 30, 40, 50}\n",
        "\n",
        "# Printing both\n",
        "print(\"List:\", my_list)  # Output: [10, 20, 30, 40, 50] (Order remains the same)\n",
        "print(\"Set:\", my_set)"
      ],
      "metadata": {
        "colab": {
          "base_uri": "https://localhost:8080/"
        },
        "id": "whK8WHKS8s3v",
        "outputId": "cc3e9fc4-efe1-4db2-e9f7-970776854038"
      },
      "execution_count": null,
      "outputs": [
        {
          "output_type": "stream",
          "name": "stdout",
          "text": [
            "{1, 2, 3, 4, 5, 6, 7, 8, 9}\n",
            "List: [10, 20, 30, 40, 50]\n",
            "Set: {50, 20, 40, 10, 30}\n"
          ]
        }
      ]
    },
    {
      "cell_type": "code",
      "source": [
        "# duplicates not allowed\n",
        "thisset = {1,2,3,3,3,4,5,5,5}\n",
        "print(thisset)"
      ],
      "metadata": {
        "colab": {
          "base_uri": "https://localhost:8080/"
        },
        "id": "i5oApBc99M-j",
        "outputId": "f926e1f9-639a-48da-b2ce-11f3f0ca3129"
      },
      "execution_count": null,
      "outputs": [
        {
          "output_type": "stream",
          "name": "stdout",
          "text": [
            "{1, 2, 3, 4, 5}\n"
          ]
        }
      ]
    },
    {
      "cell_type": "code",
      "source": [
        "#  The values True and 1 are considered the same value in sets, and are treated as duplicates and false as 0\n",
        "thisset = {1,2,3,4,5,True, 1,False,0}\n",
        "print(thisset)"
      ],
      "metadata": {
        "colab": {
          "base_uri": "https://localhost:8080/"
        },
        "id": "u1KlRkO39wKH",
        "outputId": "63f95238-83bc-4690-cbfe-cd2b4880fd90"
      },
      "execution_count": null,
      "outputs": [
        {
          "output_type": "stream",
          "name": "stdout",
          "text": [
            "{False, 1, 2, 3, 4, 5}\n"
          ]
        }
      ]
    },
    {
      "cell_type": "markdown",
      "source": [
        "creating set using set() constructor"
      ],
      "metadata": {
        "id": "htFvGEQo-J64"
      }
    },
    {
      "cell_type": "code",
      "source": [
        "thisset = set((\"apple\", \"banana\", \"cherry\")) # note the double round-brackets\n",
        "print(thisset)"
      ],
      "metadata": {
        "colab": {
          "base_uri": "https://localhost:8080/"
        },
        "id": "lhjUnO_j-QX9",
        "outputId": "8e0438ad-0432-46e4-e027-bdeac433812e"
      },
      "execution_count": null,
      "outputs": [
        {
          "output_type": "stream",
          "name": "stdout",
          "text": [
            "{'banana', 'apple', 'cherry'}\n"
          ]
        }
      ]
    },
    {
      "cell_type": "markdown",
      "source": [
        "access item - You cannot access items in a set by referring to an index or a key.\n",
        "\n",
        "But you can loop through the set items using a for loop, or ask if a specified value is present in a set, by using the in keyword"
      ],
      "metadata": {
        "id": "UJR79iYo--Fq"
      }
    },
    {
      "cell_type": "code",
      "source": [
        "thisset = {\"apple\", \"banana\", \"cherry\"}\n",
        "\n",
        "for x in thisset:\n",
        "  print(x)\n",
        "\n",
        "thisset = {\"apple\", \"banana\", \"cherry\"}\n",
        "\n",
        "print(\"banana\" in thisset)\n",
        "thisset = {\"apple\", \"banana\", \"cherry\"}\n",
        "\n",
        "print(\"banana\" not in thisset)"
      ],
      "metadata": {
        "colab": {
          "base_uri": "https://localhost:8080/"
        },
        "id": "FqEOdsRe-9xR",
        "outputId": "642227bc-7e53-4902-b622-8576561d22ba"
      },
      "execution_count": null,
      "outputs": [
        {
          "output_type": "stream",
          "name": "stdout",
          "text": [
            "banana\n",
            "apple\n",
            "cherry\n",
            "True\n",
            "False\n"
          ]
        }
      ]
    },
    {
      "cell_type": "markdown",
      "source": [
        "add items"
      ],
      "metadata": {
        "id": "eNm_WP7z_YlB"
      }
    },
    {
      "cell_type": "code",
      "source": [
        "thisset = {1,2,3,4,5,6}\n",
        "thisset.add(7) # using add\n",
        "print(thisset)\n",
        "thatset = {8,9,10}\n",
        "thisset.update(thatset) # using update - this update method can  add any list tuple set dictionary\n",
        "print(thisset)\n",
        "thisset = {\"apple\", \"banana\", \"cherry\"}\n",
        "mylist = [\"kiwi\", \"orange\"]\n",
        "\n",
        "thisset.update(mylist)\n",
        "\n",
        "print(thisset)"
      ],
      "metadata": {
        "colab": {
          "base_uri": "https://localhost:8080/"
        },
        "id": "jxJbzybg_rl4",
        "outputId": "dec2ba1c-632a-4d11-e040-6f434198be6a"
      },
      "execution_count": null,
      "outputs": [
        {
          "output_type": "stream",
          "name": "stdout",
          "text": [
            "{1, 2, 3, 4, 5, 6, 7}\n",
            "{1, 2, 3, 4, 5, 6, 7, 8, 9, 10}\n",
            "{'kiwi', 'orange', 'banana', 'cherry', 'apple'}\n"
          ]
        }
      ]
    },
    {
      "cell_type": "markdown",
      "source": [
        "remove items - it is same as list"
      ],
      "metadata": {
        "id": "7FQEle2wAchr"
      }
    },
    {
      "cell_type": "markdown",
      "source": [
        "loop using set"
      ],
      "metadata": {
        "id": "qx3T_IRbAhhD"
      }
    },
    {
      "cell_type": "code",
      "source": [
        "thisset = {\"apple\", \"banana\", \"cherry\"}\n",
        "\n",
        "for x in thisset:\n",
        "  print(x)"
      ],
      "metadata": {
        "colab": {
          "base_uri": "https://localhost:8080/"
        },
        "id": "rQB5CuvbAmJU",
        "outputId": "2c1764b9-32bc-459c-a414-9ba77715b621"
      },
      "execution_count": null,
      "outputs": [
        {
          "output_type": "stream",
          "name": "stdout",
          "text": [
            "banana\n",
            "apple\n",
            "cherry\n"
          ]
        }
      ]
    },
    {
      "cell_type": "markdown",
      "source": [
        "join two set - There are several ways to join two or more sets in Python.\n",
        "\n",
        "*  The union() and update() methods joins all items from both sets.\n",
        "\n",
        "* The intersection() method keeps ONLY the duplicates.\n",
        "\n",
        "* The difference() method keeps the items from the first set that are not in the other set(s).\n",
        "\n",
        "* The symmetric_difference() method keeps all items EXCEPT the duplicate\n"
      ],
      "metadata": {
        "id": "2JR6GJ84BFDb"
      }
    },
    {
      "cell_type": "markdown",
      "source": [
        "1. union() / |(operator)"
      ],
      "metadata": {
        "id": "u7Yn--lDLDFU"
      }
    },
    {
      "cell_type": "code",
      "source": [
        "set1 = {\"a\", \"b\", \"c\"}\n",
        "set2 = {1, 2, 3}\n",
        "\n",
        "set3 = set1 | set2 # joining by operator\n",
        "print(set3)\n",
        "\n",
        "\n",
        "set1 = {\"a\", \"b\", \"c\"}\n",
        "set2 = {1, 2, 3}\n",
        "\n",
        "set3 = set1.union(set2) # joining by union keyword\n",
        "print(set3)"
      ],
      "metadata": {
        "colab": {
          "base_uri": "https://localhost:8080/"
        },
        "id": "-nbtbxWLDsxs",
        "outputId": "3216ed4a-c39c-484a-c4db-14a07f8cca43"
      },
      "execution_count": null,
      "outputs": [
        {
          "output_type": "stream",
          "name": "stdout",
          "text": [
            "{1, 2, 3, 'a', 'b', 'c'}\n"
          ]
        }
      ]
    },
    {
      "cell_type": "code",
      "source": [
        "# joining multiple set\n",
        "set1 = {\"a\", \"b\", \"c\"}\n",
        "set2 = {1, 2, 3}\n",
        "set3 = {\"John\", \"Elena\"}\n",
        "set4 = {\"apple\", \"bananas\", \"cherry\"}\n",
        "\n",
        "myset = set1.union(set2, set3, set4)\n",
        "print(myset)"
      ],
      "metadata": {
        "colab": {
          "base_uri": "https://localhost:8080/"
        },
        "id": "WoqLek6uKPhN",
        "outputId": "b91f3134-f569-4311-f6ac-a37296bb841d"
      },
      "execution_count": null,
      "outputs": [
        {
          "output_type": "stream",
          "name": "stdout",
          "text": [
            "{1, 2, 3, 'c', 'bananas', 'a', 'apple', 'b', 'Elena', 'John', 'cherry'}\n"
          ]
        }
      ]
    },
    {
      "cell_type": "code",
      "source": [
        "# Join a Set and a Tuple\n",
        "tuple = (1,2,3,4,5,6)\n",
        "set = {7,8,9,10}\n",
        "z = set.union(tuple)\n",
        "print(z)"
      ],
      "metadata": {
        "colab": {
          "base_uri": "https://localhost:8080/"
        },
        "id": "ZBQCOCCwKobE",
        "outputId": "c5da51d9-937a-4dfe-c98b-0aab6cb9c38e"
      },
      "execution_count": null,
      "outputs": [
        {
          "output_type": "stream",
          "name": "stdout",
          "text": [
            "{1, 2, 3, 4, 5, 6, 7, 8, 9, 10}\n"
          ]
        }
      ]
    },
    {
      "cell_type": "markdown",
      "source": [
        "2. update()"
      ],
      "metadata": {
        "id": "3LeOV8eQLKba"
      }
    },
    {
      "cell_type": "code",
      "source": [
        "set1 = {\"a\", \"b\" , \"c\"}\n",
        "set2 = {1, 2, 3}\n",
        "\n",
        "set1.update(set2)\n",
        "print(set1)"
      ],
      "metadata": {
        "colab": {
          "base_uri": "https://localhost:8080/"
        },
        "id": "eh76LEfdLRXY",
        "outputId": "cf702071-ff09-46fe-c253-ea7dbbcb32ce"
      },
      "execution_count": null,
      "outputs": [
        {
          "output_type": "stream",
          "name": "stdout",
          "text": [
            "{1, 2, 3, 'a', 'b', 'c'}\n"
          ]
        }
      ]
    },
    {
      "cell_type": "markdown",
      "source": [
        "3. intersection - Keep ONLY the duplicates\n",
        "The intersection() method will return a new set, that only contains the items that are present in both sets."
      ],
      "metadata": {
        "id": "-qbxL-2iLZuX"
      }
    },
    {
      "cell_type": "code",
      "source": [
        "set1 = {\"apple\", \"banana\", \"cherry\"}\n",
        "set2 = {\"google\", \"microsoft\", \"apple\"}\n",
        "\n",
        "set3 = set1.intersection(set2)\n",
        "print(set3)"
      ],
      "metadata": {
        "colab": {
          "base_uri": "https://localhost:8080/"
        },
        "id": "y7vVWfVNLg5G",
        "outputId": "5834db67-00c7-4019-ee27-457a010a21de"
      },
      "execution_count": null,
      "outputs": [
        {
          "output_type": "stream",
          "name": "stdout",
          "text": [
            "{'apple'}\n"
          ]
        }
      ]
    },
    {
      "cell_type": "markdown",
      "source": [
        "You can use the & operator instead of the intersection() method, and you will get the same result."
      ],
      "metadata": {
        "id": "OYnA_wbsLvNH"
      }
    },
    {
      "cell_type": "code",
      "source": [
        "set1 = {\"apple\", \"banana\", \"cherry\"}\n",
        "set2 = {\"google\", \"microsoft\", \"apple\"}\n",
        "\n",
        "set3 = set1 & set2\n",
        "print(set3)"
      ],
      "metadata": {
        "colab": {
          "base_uri": "https://localhost:8080/"
        },
        "id": "zzg_39YdLv1-",
        "outputId": "902fda03-ebf2-409c-dffb-18c1887b66f5"
      },
      "execution_count": null,
      "outputs": [
        {
          "output_type": "stream",
          "name": "stdout",
          "text": [
            "{'apple'}\n"
          ]
        }
      ]
    },
    {
      "cell_type": "markdown",
      "source": [
        "Note: The & operator only allows you to join sets with sets, and not with other data types like you can with the intersection() method."
      ],
      "metadata": {
        "id": "-FUp93XEMSC7"
      }
    },
    {
      "cell_type": "markdown",
      "source": [
        "The intersection_update() method will also keep ONLY the duplicates, but it will change the original set instead of returning a new set."
      ],
      "metadata": {
        "id": "Eagm6l00MUbb"
      }
    },
    {
      "cell_type": "code",
      "source": [
        "set1 = {\"apple\", \"banana\", \"cherry\"}\n",
        "set2 = {\"google\", \"microsoft\", \"apple\"}\n",
        "\n",
        "set1.intersection_update(set2)\n",
        "\n",
        "print(set1)"
      ],
      "metadata": {
        "colab": {
          "base_uri": "https://localhost:8080/"
        },
        "id": "lmFUba9tMSpX",
        "outputId": "1edaa979-2ef0-4cf8-8fb7-dd9102acfe72"
      },
      "execution_count": null,
      "outputs": [
        {
          "output_type": "stream",
          "name": "stdout",
          "text": [
            "{'apple'}\n"
          ]
        }
      ]
    },
    {
      "cell_type": "markdown",
      "source": [
        "Join sets that contains the values True, False, 1, and 0, and see what is considered as duplicates:"
      ],
      "metadata": {
        "id": "C9AoSzccMZGg"
      }
    },
    {
      "cell_type": "markdown",
      "source": [
        "4. Difference - The difference() method will return a new set that will contain only the items from the first set that are not present in the other set."
      ],
      "metadata": {
        "id": "AVrPt8cEMn3j"
      }
    },
    {
      "cell_type": "code",
      "source": [
        "set1 = {\"apple\", \"banana\", \"cherry\"}\n",
        "set2 = {\"google\", \"microsoft\", \"apple\"}\n",
        "\n",
        "set3 = set1.difference(set2)\n",
        "\n",
        "print(set3)"
      ],
      "metadata": {
        "colab": {
          "base_uri": "https://localhost:8080/"
        },
        "id": "uZhn8457MuDV",
        "outputId": "b1fea5c1-b941-48b8-dbf9-103bfa011051"
      },
      "execution_count": null,
      "outputs": [
        {
          "output_type": "stream",
          "name": "stdout",
          "text": [
            "{'banana', 'cherry'}\n"
          ]
        }
      ]
    },
    {
      "cell_type": "markdown",
      "source": [
        "You can use the - operator instead of the difference() method, and you will get the same result."
      ],
      "metadata": {
        "id": "_bTwDstcM1_E"
      }
    },
    {
      "cell_type": "markdown",
      "source": [
        "Note: The - operator only allows you to join sets with sets, and not with other data types like you can with the difference() method."
      ],
      "metadata": {
        "id": "iHMIkMq7M5g_"
      }
    },
    {
      "cell_type": "markdown",
      "source": [
        "The difference_update() method will also keep the items from the first set that are not in the other set, but it will change the original set instead of returning a new set.\n",
        "\n"
      ],
      "metadata": {
        "id": "ehdJTOw3M6VL"
      }
    },
    {
      "cell_type": "code",
      "source": [
        "set1 = {\"apple\", \"banana\", \"cherry\"}\n",
        "set2 = {\"google\", \"microsoft\", \"apple\"}\n",
        "\n",
        "set1.difference_update(set2)\n",
        "\n",
        "print(set1)"
      ],
      "metadata": {
        "colab": {
          "base_uri": "https://localhost:8080/"
        },
        "id": "uhBX0HHlM3Nr",
        "outputId": "6c2dbc0b-35ee-4956-fcad-b2fa13ce5da5"
      },
      "execution_count": null,
      "outputs": [
        {
          "output_type": "stream",
          "name": "stdout",
          "text": [
            "{'banana', 'cherry'}\n"
          ]
        }
      ]
    },
    {
      "cell_type": "markdown",
      "source": [
        "5. Symmetric Differences -The symmetric_difference() method will keep only the elements that are NOT present in both sets."
      ],
      "metadata": {
        "id": "MJsP_5PgNCOl"
      }
    },
    {
      "cell_type": "code",
      "source": [
        "set1 = {\"apple\", \"banana\", \"cherry\"}\n",
        "set2 = {\"google\", \"microsoft\", \"apple\"}\n",
        "\n",
        "set3 = set1.symmetric_difference(set2)\n",
        "\n",
        "print(set3)"
      ],
      "metadata": {
        "colab": {
          "base_uri": "https://localhost:8080/"
        },
        "id": "wYTCL3rkNF27",
        "outputId": "6f39650d-b1a9-474d-c0f0-aae5a41d7a20"
      },
      "execution_count": null,
      "outputs": [
        {
          "output_type": "stream",
          "name": "stdout",
          "text": [
            "{'banana', 'google', 'microsoft', 'cherry'}\n"
          ]
        }
      ]
    },
    {
      "cell_type": "markdown",
      "source": [
        "You can use the ^ operator instead of the symmetric_difference() method, and you will get the same result.\n",
        "\n"
      ],
      "metadata": {
        "id": "4jRbU-eHNLr1"
      }
    },
    {
      "cell_type": "markdown",
      "source": [
        "Note: The ^ operator only allows you to join sets with sets, and not with other data types like you can with the symmetric_difference() method."
      ],
      "metadata": {
        "id": "K2CmRyZ9NNyv"
      }
    },
    {
      "cell_type": "markdown",
      "source": [
        "The symmetric_difference_update() method will also keep all but the duplicates, but it will change the original set instead of returning a new set."
      ],
      "metadata": {
        "id": "z8d3X7-YNOcC"
      }
    },
    {
      "cell_type": "code",
      "source": [
        "set1 = {\"apple\", \"banana\", \"cherry\"}\n",
        "set2 = {\"google\", \"microsoft\", \"apple\"}\n",
        "\n",
        "set1.symmetric_difference_update(set2)\n",
        "\n",
        "print(set1)"
      ],
      "metadata": {
        "colab": {
          "base_uri": "https://localhost:8080/"
        },
        "id": "XvjBH6qqNRi0",
        "outputId": "267c4c9b-0683-47c2-908a-3bff20e07c2c"
      },
      "execution_count": null,
      "outputs": [
        {
          "output_type": "stream",
          "name": "stdout",
          "text": [
            "{'banana', 'google', 'microsoft', 'cherry'}\n"
          ]
        }
      ]
    },
    {
      "cell_type": "markdown",
      "source": [
        "### set method"
      ],
      "metadata": {
        "id": "_BwidT1FVt-U"
      }
    },
    {
      "cell_type": "markdown",
      "source": [
        "add() - add element to the set"
      ],
      "metadata": {
        "id": "yxJuCRz5Vw-D"
      }
    },
    {
      "cell_type": "code",
      "source": [
        "fruits = {\"apple\", \"banana\", \"cherry\"}\n",
        "\n",
        "fruits.add(\"orange\")\n",
        "\n",
        "print(fruits)"
      ],
      "metadata": {
        "colab": {
          "base_uri": "https://localhost:8080/"
        },
        "id": "o_5_0Nbsbt0L",
        "outputId": "ef8b23d2-79d9-4fc2-8751-47c12c90757e"
      },
      "execution_count": null,
      "outputs": [
        {
          "output_type": "stream",
          "name": "stdout",
          "text": [
            "{'banana', 'orange', 'apple', 'cherry'}\n"
          ]
        }
      ]
    },
    {
      "cell_type": "markdown",
      "source": [
        "remove() - it remove all the element in set"
      ],
      "metadata": {
        "id": "6bIFOTY7bypq"
      }
    },
    {
      "cell_type": "markdown",
      "source": [
        "copy() - return the copy of a set"
      ],
      "metadata": {
        "id": "M7eCl7zcb5Zp"
      }
    },
    {
      "cell_type": "code",
      "source": [
        "fruits = {\"apple\", \"banana\", \"cherry\"}\n",
        "\n",
        "x = fruits.copy()\n",
        "\n",
        "print(x)"
      ],
      "metadata": {
        "colab": {
          "base_uri": "https://localhost:8080/"
        },
        "id": "kagDn2Exb-eI",
        "outputId": "30caf399-4616-41b7-9f74-99c0b8d8bcc5"
      },
      "execution_count": null,
      "outputs": [
        {
          "output_type": "stream",
          "name": "stdout",
          "text": [
            "{'banana', 'apple', 'cherry'}\n"
          ]
        }
      ]
    },
    {
      "cell_type": "markdown",
      "source": [
        "difference() - Returns a set containing the difference between two or more sets"
      ],
      "metadata": {
        "id": "2TF8A9h-cFJK"
      }
    },
    {
      "cell_type": "code",
      "source": [
        "x = {\"apple\", \"banana\", \"cherry\"}\n",
        "y = {\"google\", \"microsoft\", \"apple\"}\n",
        "\n",
        "z = x.difference(y)\n",
        "p = x - y\n",
        "print(p)\n",
        "print(z)"
      ],
      "metadata": {
        "colab": {
          "base_uri": "https://localhost:8080/"
        },
        "id": "3lRQt7H9cJt0",
        "outputId": "8deb55d4-ec3f-4bb8-a4e2-9d01d4985092"
      },
      "execution_count": null,
      "outputs": [
        {
          "output_type": "stream",
          "name": "stdout",
          "text": [
            "{'banana', 'cherry'}\n",
            "{'banana', 'cherry'}\n"
          ]
        }
      ]
    },
    {
      "cell_type": "markdown",
      "source": [
        "difference_update() - removes the items that exist in both sets.method is different from the difference() method, because the difference() method returns a new set, without the unwanted items, and the difference_update() method removes the unwanted items from the original set"
      ],
      "metadata": {
        "id": "lOgaa6D2cS2q"
      }
    },
    {
      "cell_type": "code",
      "source": [
        "x = {\"apple\", \"banana\", \"cherry\"}\n",
        "y = {\"google\", \"microsoft\", \"apple\"}\n",
        "\n",
        "x.difference_update(y)\n",
        "print(x)\n",
        "# Use -= as a shortcut instead of difference_update():\n",
        "a = {\"apple\", \"banana\", \"cherry\"}\n",
        "b = {\"google\", \"microsoft\", \"apple\"}\n",
        "\n",
        "a -= b\n",
        "\n",
        "print(a)\n"
      ],
      "metadata": {
        "colab": {
          "base_uri": "https://localhost:8080/"
        },
        "id": "FVDOV1UiclN_",
        "outputId": "a5c3aa0a-4d10-4a48-81df-0db1a4b8a836"
      },
      "execution_count": null,
      "outputs": [
        {
          "output_type": "stream",
          "name": "stdout",
          "text": [
            "{'banana', 'cherry'}\n",
            "{'banana', 'cherry'}\n"
          ]
        }
      ]
    },
    {
      "cell_type": "code",
      "source": [
        "# join more than two sets:\n",
        "a = {\"apple\", \"banana\", \"cherry\"}\n",
        "b = {\"google\", \"microsoft\", \"apple\"}\n",
        "c = {\"cherry\", \"micra\", \"bluebird\"}\n",
        "\n",
        "a.difference_update(b, c)\n",
        "\n",
        "print(a)\n",
        "# join more than two sets with the -= operator\n",
        "a = {\"apple\", \"banana\", \"cherry\"}\n",
        "b = {\"google\", \"microsoft\", \"apple\"}\n",
        "c = {\"cherry\", \"micra\", \"bluebird\"}\n",
        "\n",
        "a -= b | c\n",
        "\n",
        "print(a)\n"
      ],
      "metadata": {
        "colab": {
          "base_uri": "https://localhost:8080/"
        },
        "id": "AVIuQxmFe7v4",
        "outputId": "9e1ac3aa-41d4-4f57-ee2b-e1408c406530"
      },
      "execution_count": null,
      "outputs": [
        {
          "output_type": "stream",
          "name": "stdout",
          "text": [
            "{'banana'}\n",
            "{'banana'}\n"
          ]
        }
      ]
    },
    {
      "cell_type": "markdown",
      "source": [
        "discard() - remove the specified element in the set"
      ],
      "metadata": {
        "id": "oJBD_aTPctma"
      }
    },
    {
      "cell_type": "code",
      "source": [
        "fruits = {\"apple\", \"banana\", \"cherry\"}\n",
        "\n",
        "fruits.discard(\"banana\")\n",
        "\n",
        "print(fruits)"
      ],
      "metadata": {
        "id": "B6kRRaWIc2y3"
      },
      "execution_count": null,
      "outputs": []
    },
    {
      "cell_type": "markdown",
      "source": [
        "intersection() - Returns a set, that is the intersection of two other sets"
      ],
      "metadata": {
        "id": "RCzPrJMsc-Py"
      }
    },
    {
      "cell_type": "code",
      "source": [
        "x = {\"apple\", \"banana\", \"cherry\"}\n",
        "y = {\"google\", \"microsoft\", \"apple\"}\n",
        "\n",
        "z = x.intersection(y)\n",
        "p = x & y\n",
        "print(p)\n",
        "\n",
        "print(z)"
      ],
      "metadata": {
        "colab": {
          "base_uri": "https://localhost:8080/"
        },
        "id": "MFXiRupLdDuZ",
        "outputId": "22746709-e02f-4ee6-baae-76b14b75cf57"
      },
      "execution_count": null,
      "outputs": [
        {
          "output_type": "stream",
          "name": "stdout",
          "text": [
            "{'apple'}\n",
            "{'apple'}\n"
          ]
        }
      ]
    },
    {
      "cell_type": "markdown",
      "source": [
        "intersection_update() -Removes the items in this set that are not present in other, specified set(s)"
      ],
      "metadata": {
        "id": "i8W17otjdIvT"
      }
    },
    {
      "cell_type": "code",
      "source": [
        "x = {\"apple\", \"banana\", \"cherry\"}\n",
        "y = {\"google\", \"microsoft\", \"apple\"}\n",
        "\n",
        "x.intersection_update(y)\n",
        "\n",
        "print(x)\n",
        "# Use &= as a shortcut instead of intersection_update():\n",
        "x = {\"apple\", \"banana\", \"cherry\"}\n",
        "y = {\"google\", \"microsoft\", \"apple\"}\n",
        "\n",
        "x &= y\n",
        "\n",
        "print(x)\n"
      ],
      "metadata": {
        "colab": {
          "base_uri": "https://localhost:8080/"
        },
        "id": "6v4m4WuVdOD_",
        "outputId": "b6adb1ec-1ae3-4e6f-8ce2-16c5811bc3c9"
      },
      "execution_count": null,
      "outputs": [
        {
          "output_type": "stream",
          "name": "stdout",
          "text": [
            "{'apple'}\n"
          ]
        }
      ]
    },
    {
      "cell_type": "code",
      "source": [
        "# Compare 3 sets, and return a set with items that is present in all 3 sets:\n",
        "x = {\"a\", \"b\", \"c\"}\n",
        "y = {\"c\", \"d\", \"e\"}\n",
        "z = {\"f\", \"g\", \"c\"}\n",
        "\n",
        "x.intersection_update(y, z)\n",
        "\n",
        "print(x)\n",
        "# Join 3 sets with the &= operator:\n",
        "x = {\"a\", \"b\", \"c\"}\n",
        "y = {\"c\", \"d\", \"e\"}\n",
        "z = {\"f\", \"g\", \"c\"}\n",
        "\n",
        "x &= y & z\n",
        "\n",
        "print(result)"
      ],
      "metadata": {
        "id": "3QoK2hoJf2Mf"
      },
      "execution_count": null,
      "outputs": []
    },
    {
      "cell_type": "markdown",
      "source": [
        "isdisjoint() -Returns whether two sets have a intersection or not"
      ],
      "metadata": {
        "id": "WEflkfL5dUxs"
      }
    },
    {
      "cell_type": "code",
      "source": [
        "x = {\"apple\", \"banana\", \"cherry\"}\n",
        "y = {\"google\", \"microsoft\", \"facebook\"}\n",
        "\n",
        "z = x.isdisjoint(y)\n",
        "\n",
        "print(z)"
      ],
      "metadata": {
        "colab": {
          "base_uri": "https://localhost:8080/"
        },
        "id": "rxFYO15odZwb",
        "outputId": "cf92415f-22a4-429f-f6e3-ac54a7de2829"
      },
      "execution_count": null,
      "outputs": [
        {
          "output_type": "stream",
          "name": "stdout",
          "text": [
            "True\n"
          ]
        }
      ]
    },
    {
      "cell_type": "markdown",
      "source": [
        "issubset()-Returns whether another set contains this set or not\n",
        "- The issubset() method returns True if all items in the set exists in the specified set, otherwise it returns False."
      ],
      "metadata": {
        "id": "OyMSNo5bdgAv"
      }
    },
    {
      "cell_type": "code",
      "source": [
        "x = {\"a\", \"b\", \"c\"}\n",
        "y = {\"f\", \"e\", \"d\", \"c\", \"b\", \"a\"}\n",
        "\n",
        "z = x.issubset(y)\n",
        "p = x <= y\n",
        "print(p)\n",
        "print(z)"
      ],
      "metadata": {
        "colab": {
          "base_uri": "https://localhost:8080/"
        },
        "id": "B5kVRSPldj8-",
        "outputId": "20582064-80c4-48cb-8665-d57670825c8e"
      },
      "execution_count": null,
      "outputs": [
        {
          "output_type": "stream",
          "name": "stdout",
          "text": [
            "True\n",
            "True\n"
          ]
        }
      ]
    },
    {
      "cell_type": "code",
      "source": [
        "# What if not all items are present in the specified set?\n",
        "# Return False if not all items in set x are present in set y:\n",
        "x = {\"a\", \"b\", \"c\"}\n",
        "y = {\"f\", \"e\", \"d\", \"c\", \"b\"}\n",
        "\n",
        "z = x.issubset(y)\n",
        "\n",
        "print(z)"
      ],
      "metadata": {
        "id": "4MI4gIUklMa6"
      },
      "execution_count": null,
      "outputs": []
    },
    {
      "cell_type": "markdown",
      "source": [
        "issuperset() - method returns True if all items in the specified set exists in the original set, otherwise it returns False."
      ],
      "metadata": {
        "id": "PxmRH3aYlr0q"
      }
    },
    {
      "cell_type": "code",
      "source": [
        "x = {\"f\", \"e\", \"d\", \"c\", \"b\", \"a\"}\n",
        "y = {\"a\", \"b\", \"c\"}\n",
        "\n",
        "z = x.issuperset(y)\n",
        "\n",
        "print(z)\n",
        "# Use >= as a shortcut instead of issuperset():\n",
        "x = {\"f\", \"e\", \"d\", \"c\", \"b\", \"a\"}\n",
        "y = {\"a\", \"b\", \"c\"}\n",
        "\n",
        "z = x >= y\n",
        "\n",
        "print(z)"
      ],
      "metadata": {
        "colab": {
          "base_uri": "https://localhost:8080/"
        },
        "id": "ALA49PhzlktC",
        "outputId": "bf929751-b305-4493-f14b-626687ddf06c"
      },
      "execution_count": null,
      "outputs": [
        {
          "output_type": "stream",
          "name": "stdout",
          "text": [
            "True\n",
            "True\n"
          ]
        }
      ]
    },
    {
      "cell_type": "code",
      "source": [
        "# What if not all items are present in the specified set?\n",
        "\n",
        "# Return False if not all items in set y are present in set x:\n",
        "x = {\"f\", \"e\", \"d\", \"c\", \"b\"}\n",
        "y = {\"a\", \"b\", \"c\"}\n",
        "\n",
        "z = x.issuperset(y)\n",
        "\n",
        "print(z)"
      ],
      "metadata": {
        "id": "a8hh6taUl7OA"
      },
      "execution_count": null,
      "outputs": []
    },
    {
      "cell_type": "markdown",
      "source": [
        "pop() - remove an element from the set"
      ],
      "metadata": {
        "id": "K4V1OPgHmCls"
      }
    },
    {
      "cell_type": "code",
      "source": [
        "fruits = {\"apple\", \"banana\", \"cherry\"}\n",
        "\n",
        "fruits.pop()\n",
        "\n",
        "print(fruits)"
      ],
      "metadata": {
        "colab": {
          "base_uri": "https://localhost:8080/"
        },
        "id": "2PVW8DDemIla",
        "outputId": "207b681a-954c-4d69-c453-1ad24fa91539"
      },
      "execution_count": null,
      "outputs": [
        {
          "output_type": "stream",
          "name": "stdout",
          "text": [
            "{'apple', 'cherry'}\n"
          ]
        }
      ]
    },
    {
      "cell_type": "markdown",
      "source": [
        "remove() - it remove the specified element"
      ],
      "metadata": {
        "id": "7FEuH2qzmPY_"
      }
    },
    {
      "cell_type": "code",
      "source": [
        "fruits = {\"apple\", \"banana\", \"cherry\"}\n",
        "\n",
        "fruits.remove(\"banana\")\n",
        "\n",
        "print(fruits)"
      ],
      "metadata": {
        "colab": {
          "base_uri": "https://localhost:8080/"
        },
        "id": "zBLvqbXAmXZq",
        "outputId": "51ac5158-b0dc-4074-cf17-7b469db2cb69"
      },
      "execution_count": null,
      "outputs": [
        {
          "output_type": "stream",
          "name": "stdout",
          "text": [
            "{'apple', 'cherry'}\n"
          ]
        }
      ]
    },
    {
      "cell_type": "markdown",
      "source": [
        "# python dictiorary\n",
        "- Dictionaries are used to store data values in key:value pairs.\n",
        "- A dictionary is a collection which is ordered*, changeable and do not allow duplicates.\n",
        "- Dictionaries are written with curly brackets, and have keys and values:\n",
        "\n"
      ],
      "metadata": {
        "id": "JOjo65lMn0Rs"
      }
    },
    {
      "cell_type": "code",
      "source": [
        "thisdict = {\n",
        "  \"brand\": \"Ford\",\n",
        "  \"model\": \"Mustang\",\n",
        "  \"year\": 1964\n",
        "}\n",
        "print(thisdict)"
      ],
      "metadata": {
        "id": "4O58nxdUoHkq"
      },
      "execution_count": null,
      "outputs": []
    },
    {
      "cell_type": "markdown",
      "source": [
        "#### Dictionary Items\n",
        "- Dictionary items are ordered, changeable, and do not allow duplicates.\n",
        "- Dictionary items are presented in key:value pairs, and can be referred to by using the key name.\n",
        "\n"
      ],
      "metadata": {
        "id": "ownYgyU4n5lY"
      }
    },
    {
      "cell_type": "code",
      "source": [
        "thisdict = {\n",
        "  \"brand\": \"Ford\",\n",
        "  \"model\": \"Mustang\",\n",
        "  \"year\": 1964\n",
        "}\n",
        "print(thisdict[\"brand\"])"
      ],
      "metadata": {
        "colab": {
          "base_uri": "https://localhost:8080/"
        },
        "id": "mBiJrEljo4Ez",
        "outputId": "69fd712b-9de9-4cbb-8499-317bac827c3a"
      },
      "execution_count": null,
      "outputs": [
        {
          "output_type": "stream",
          "name": "stdout",
          "text": [
            "Ford\n"
          ]
        }
      ]
    },
    {
      "cell_type": "markdown",
      "source": [
        "dict() constructor - it is also possible to use dict() constructor to build a constructor"
      ],
      "metadata": {
        "id": "ts288cjuOW03"
      }
    },
    {
      "cell_type": "code",
      "source": [
        "thisdict = dict(name = \"John\", age = 36, country = \"Norway\")\n",
        "print(thisdict)"
      ],
      "metadata": {
        "colab": {
          "base_uri": "https://localhost:8080/"
        },
        "id": "9LseTCHLOkx_",
        "outputId": "bb64ac1b-ed09-45c3-96eb-231c3f59dc38"
      },
      "execution_count": null,
      "outputs": [
        {
          "output_type": "stream",
          "name": "stdout",
          "text": [
            "{'name': 'John', 'age': 36, 'country': 'Norway'}\n"
          ]
        }
      ]
    },
    {
      "cell_type": "markdown",
      "source": [
        "access items -"
      ],
      "metadata": {
        "id": "9GGC-m-uOtRX"
      }
    },
    {
      "cell_type": "code",
      "source": [
        "thisdict = {\n",
        "  \"brand\": \"Ford\",\n",
        "  \"model\": \"Mustang\",\n",
        "  \"year\": 1964\n",
        "}\n",
        "x = thisdict[\"model\"]"
      ],
      "metadata": {
        "id": "LPSIQoVGOxVC"
      },
      "execution_count": null,
      "outputs": []
    },
    {
      "cell_type": "markdown",
      "source": [
        "update dictionary\n",
        "\n",
        "- The update() method will update the dictionary with the items from the given argument.\n",
        "\n"
      ],
      "metadata": {
        "id": "MOtQ5I1RO_ms"
      }
    },
    {
      "cell_type": "code",
      "source": [
        "thisdict = {\n",
        "  \"brand\": \"Ford\",\n",
        "  \"model\": \"Mustang\",\n",
        "  \"year\": 1964\n",
        "}\n",
        "thisdict.update({\"year\": 2020})"
      ],
      "metadata": {
        "id": "zQmwdGFSPNXf"
      },
      "execution_count": null,
      "outputs": []
    },
    {
      "cell_type": "markdown",
      "source": [
        "removing items"
      ],
      "metadata": {
        "id": "Lu2MdxhjPXHq"
      }
    },
    {
      "cell_type": "markdown",
      "source": [
        "1. pop()"
      ],
      "metadata": {
        "id": "MoM5rgjSPfEQ"
      }
    },
    {
      "cell_type": "code",
      "source": [
        "thisdict = {\n",
        "  \"brand\": \"Ford\",\n",
        "  \"model\": \"Mustang\",\n",
        "  \"year\": 1964\n",
        "}\n",
        "thisdict.pop(\"model\")\n",
        "print(thisdict)"
      ],
      "metadata": {
        "colab": {
          "base_uri": "https://localhost:8080/"
        },
        "id": "gHjer0djPcno",
        "outputId": "581cde10-5410-4f80-c0f6-dc0d03a868dc"
      },
      "execution_count": null,
      "outputs": [
        {
          "output_type": "stream",
          "name": "stdout",
          "text": [
            "{'brand': 'Ford', 'year': 1964}\n"
          ]
        }
      ]
    },
    {
      "cell_type": "markdown",
      "source": [
        "2. popitem() - method removes the last inserted item"
      ],
      "metadata": {
        "id": "2B9LVgPFPm1V"
      }
    },
    {
      "cell_type": "code",
      "source": [
        "thisdict = {\n",
        "  \"brand\": \"Ford\",\n",
        "  \"model\": \"Mustang\",\n",
        "  \"year\": 1964\n",
        "}\n",
        "thisdict.popitem()\n",
        "print(thisdict)"
      ],
      "metadata": {
        "colab": {
          "base_uri": "https://localhost:8080/"
        },
        "id": "ZNYGMiE-Pp5R",
        "outputId": "3a89046d-8f3f-4423-d738-867bb5b5bc31"
      },
      "execution_count": null,
      "outputs": [
        {
          "output_type": "stream",
          "name": "stdout",
          "text": [
            "{'brand': 'Ford', 'model': 'Mustang'}\n"
          ]
        }
      ]
    },
    {
      "cell_type": "markdown",
      "source": [
        "3. del() - removes the item with the specified key name:"
      ],
      "metadata": {
        "id": "oL2ohes0Pxj_"
      }
    },
    {
      "cell_type": "code",
      "source": [
        "thisdict = {\n",
        "  \"brand\": \"Ford\",\n",
        "  \"model\": \"Mustang\",\n",
        "  \"year\": 1964\n",
        "}\n",
        "del thisdict[\"model\"]\n",
        "print(thisdict)\n",
        "del thisdict #  keyword can also delete the dictionary completely\n",
        "print(thisdict) #this will cause an error because \"thisdict\" no longer"
      ],
      "metadata": {
        "colab": {
          "base_uri": "https://localhost:8080/",
          "height": 202
        },
        "id": "pJuv4S4iP3Ry",
        "outputId": "e9b377c9-56bc-49ee-f8cf-b76a89b7c3c3"
      },
      "execution_count": null,
      "outputs": [
        {
          "output_type": "stream",
          "name": "stdout",
          "text": [
            "{'brand': 'Ford', 'year': 1964}\n"
          ]
        },
        {
          "output_type": "error",
          "ename": "NameError",
          "evalue": "name 'thisdict' is not defined",
          "traceback": [
            "\u001b[0;31m---------------------------------------------------------------------------\u001b[0m",
            "\u001b[0;31mNameError\u001b[0m                                 Traceback (most recent call last)",
            "\u001b[0;32m<ipython-input-7-8606cbf0d37a>\u001b[0m in \u001b[0;36m<cell line: 0>\u001b[0;34m()\u001b[0m\n\u001b[1;32m      7\u001b[0m \u001b[0mprint\u001b[0m\u001b[0;34m(\u001b[0m\u001b[0mthisdict\u001b[0m\u001b[0;34m)\u001b[0m\u001b[0;34m\u001b[0m\u001b[0;34m\u001b[0m\u001b[0m\n\u001b[1;32m      8\u001b[0m \u001b[0;32mdel\u001b[0m \u001b[0mthisdict\u001b[0m\u001b[0;34m\u001b[0m\u001b[0;34m\u001b[0m\u001b[0m\n\u001b[0;32m----> 9\u001b[0;31m \u001b[0mprint\u001b[0m\u001b[0;34m(\u001b[0m\u001b[0mthisdict\u001b[0m\u001b[0;34m)\u001b[0m\u001b[0;34m\u001b[0m\u001b[0;34m\u001b[0m\u001b[0m\n\u001b[0m",
            "\u001b[0;31mNameError\u001b[0m: name 'thisdict' is not defined"
          ]
        }
      ]
    },
    {
      "cell_type": "markdown",
      "source": [
        "4. clear() -  method empties the dictionary:"
      ],
      "metadata": {
        "id": "Jna_sQsrQL2g"
      }
    },
    {
      "cell_type": "code",
      "source": [
        "thisdict = {\n",
        "  \"brand\": \"Ford\",\n",
        "  \"model\": \"Mustang\",\n",
        "  \"year\": 1964\n",
        "}\n",
        "thisdict.clear()\n",
        "print(thisdict)"
      ],
      "metadata": {
        "id": "6G2heo5dQNtT"
      },
      "execution_count": null,
      "outputs": []
    },
    {
      "cell_type": "markdown",
      "source": [
        "looping through a dictionary"
      ],
      "metadata": {
        "id": "HGXjxlYJQfZX"
      }
    },
    {
      "cell_type": "markdown",
      "source": [
        "1. using for loop\n",
        "\n",
        "-When looping through a dictionary, the return value are the keys of the dictionary, but there are methods to return the values as well."
      ],
      "metadata": {
        "id": "2XykGrgqQl24"
      }
    },
    {
      "cell_type": "code",
      "source": [
        "thisdict = {\n",
        "  \"brand\": \"Ford\",\n",
        "  \"model\": \"Mustang\",\n",
        "  \"year\": 1964\n",
        "}\n",
        "for x in thisdict:\n",
        "  print(x)\n",
        "for x in thisdict:\n",
        "  print(thisdict[x]) #Print all values in the dictionary, one by one"
      ],
      "metadata": {
        "colab": {
          "base_uri": "https://localhost:8080/"
        },
        "id": "Eyrq7dqHQkLs",
        "outputId": "de116878-69d0-4966-e036-ae1fae402bc0"
      },
      "execution_count": null,
      "outputs": [
        {
          "output_type": "stream",
          "name": "stdout",
          "text": [
            "brand\n",
            "model\n",
            "year\n",
            "Ford\n",
            "Mustang\n",
            "1964\n"
          ]
        }
      ]
    },
    {
      "cell_type": "markdown",
      "source": [
        "2. using value() keyword"
      ],
      "metadata": {
        "id": "zWac3AcoRHJr"
      }
    },
    {
      "cell_type": "code",
      "source": [
        "thisdict = {\n",
        "  \"brand\": \"Ford\",\n",
        "  \"model\": \"Mustang\",\n",
        "  \"year\": 1964\n",
        "}\n",
        "for x in thisdict.values():\n",
        "  print(x)"
      ],
      "metadata": {
        "colab": {
          "base_uri": "https://localhost:8080/"
        },
        "id": "3T6ti3QTRLY0",
        "outputId": "a211e207-560b-492e-c68b-478c690a9c30"
      },
      "execution_count": null,
      "outputs": [
        {
          "output_type": "stream",
          "name": "stdout",
          "text": [
            "Ford\n",
            "Mustang\n",
            "1964\n"
          ]
        }
      ]
    },
    {
      "cell_type": "markdown",
      "source": [
        "3. usinng keys() keyword -"
      ],
      "metadata": {
        "id": "nY40xyJ1RSoo"
      }
    },
    {
      "cell_type": "code",
      "source": [
        "thisdict = {\n",
        "  \"brand\": \"Ford\",\n",
        "  \"model\": \"Mustang\",\n",
        "  \"year\": 1964\n",
        "}\n",
        "for x in thisdict.keys():\n",
        "  print(x)"
      ],
      "metadata": {
        "colab": {
          "base_uri": "https://localhost:8080/"
        },
        "id": "lYHxNtGQaaec",
        "outputId": "39612c73-021a-4250-a13e-5716fa3cc960"
      },
      "execution_count": null,
      "outputs": [
        {
          "output_type": "stream",
          "name": "stdout",
          "text": [
            "brand\n",
            "model\n",
            "year\n"
          ]
        }
      ]
    },
    {
      "cell_type": "markdown",
      "source": [
        "4. Loop through both keys and values, by using the items() method"
      ],
      "metadata": {
        "id": "oSZMWkJ1avgg"
      }
    },
    {
      "cell_type": "code",
      "source": [
        "thisdict = {\n",
        "  \"brand\": \"Ford\",\n",
        "  \"model\": \"Mustang\",\n",
        "  \"year\": 1964\n",
        "}\n",
        "for x, y in thisdict.items():\n",
        "  print(x, y)"
      ],
      "metadata": {
        "id": "7wiN_zW4axh2",
        "colab": {
          "base_uri": "https://localhost:8080/"
        },
        "outputId": "8f6c7908-af2d-4e7c-d3e6-5c4769b0efea"
      },
      "execution_count": null,
      "outputs": [
        {
          "output_type": "stream",
          "name": "stdout",
          "text": [
            "brand Ford\n",
            "model Mustang\n",
            "year 1964\n"
          ]
        }
      ]
    },
    {
      "cell_type": "markdown",
      "source": [
        "copy() dictionary"
      ],
      "metadata": {
        "id": "M8fgNH2Yc-av"
      }
    },
    {
      "cell_type": "code",
      "source": [
        "thisdict = {\n",
        "  \"brand\": \"Ford\",\n",
        "  \"model\": \"Mustang\",\n",
        "  \"year\": 1964\n",
        "}\n",
        "mydict = thisdict.copy()\n",
        "print(mydict)"
      ],
      "metadata": {
        "colab": {
          "base_uri": "https://localhost:8080/"
        },
        "id": "diX0FWxIdCBe",
        "outputId": "50f15201-a532-4a37-bd3e-c5f204de1edc"
      },
      "execution_count": null,
      "outputs": [
        {
          "output_type": "stream",
          "name": "stdout",
          "text": [
            "{'brand': 'Ford', 'model': 'Mustang', 'year': 1964}\n"
          ]
        }
      ]
    },
    {
      "cell_type": "markdown",
      "source": [
        "Nested Dictionaries"
      ],
      "metadata": {
        "id": "WPIJRyc4dK4Y"
      }
    },
    {
      "cell_type": "code",
      "source": [
        "# Create a dictionary that contain three dictionaries\n",
        "myfamily = {\n",
        "  \"child1\" : {\n",
        "    \"name\" : \"Emil\",\n",
        "    \"year\" : 2004\n",
        "  },\n",
        "  \"child2\" : {\n",
        "    \"name\" : \"Tobias\",\n",
        "    \"year\" : 2007\n",
        "  },\n",
        "  \"child3\" : {\n",
        "    \"name\" : \"Linus\",\n",
        "    \"year\" : 2011\n",
        "  }\n",
        "}\n",
        "# Create three dictionaries, then create one dictionary that will contain the other three dictionaries:\n",
        "child1 = {\n",
        "  \"name\" : \"Emil\",\n",
        "  \"year\" : 2004\n",
        "}\n",
        "child2 = {\n",
        "  \"name\" : \"Tobias\",\n",
        "  \"year\" : 2007\n",
        "}\n",
        "child3 = {\n",
        "  \"name\" : \"Linus\",\n",
        "  \"year\" : 2011\n",
        "}\n",
        "\n",
        "myfamily = {\n",
        "  \"child1\" : child1,\n",
        "  \"child2\" : child2,\n",
        "  \"child3\" : child3\n",
        "}\n",
        "print(myfamily[\"child2\"][\"name\"]) # acces item in nested dictionary"
      ],
      "metadata": {
        "colab": {
          "base_uri": "https://localhost:8080/"
        },
        "id": "sq1y-4wTdOtI",
        "outputId": "9e6f78ad-4236-4c40-c3d1-91928b8c6f9e"
      },
      "execution_count": null,
      "outputs": [
        {
          "output_type": "stream",
          "name": "stdout",
          "text": [
            "Tobias\n"
          ]
        }
      ]
    },
    {
      "cell_type": "markdown",
      "source": [
        "Loop Through Nested Dictionaries - You can loop through a dictionary by using the items() method like this:"
      ],
      "metadata": {
        "id": "cBeGi9gmdMr1"
      }
    },
    {
      "cell_type": "code",
      "source": [
        "for x, obj in myfamily.items():\n",
        "  print(x)\n",
        "\n",
        "  for y in obj:\n",
        "    print(y + ':', obj[y])"
      ],
      "metadata": {
        "colab": {
          "base_uri": "https://localhost:8080/"
        },
        "id": "q1sT4zEgdyO4",
        "outputId": "01e56a3d-bad7-406f-e232-00b3cf2add3f"
      },
      "execution_count": null,
      "outputs": [
        {
          "output_type": "stream",
          "name": "stdout",
          "text": [
            "child1\n",
            "name: Emil\n",
            "year: 2004\n",
            "child2\n",
            "name: Tobias\n",
            "year: 2007\n",
            "child3\n",
            "name: Linus\n",
            "year: 2011\n"
          ]
        }
      ]
    },
    {
      "cell_type": "markdown",
      "source": [
        "dictionary method -\n",
        "\n",
        "-1. fromkeys()"
      ],
      "metadata": {
        "id": "ZUZ2Tjz1d9bG"
      }
    },
    {
      "cell_type": "code",
      "source": [
        "x = ('key1', 'key2', 'key3')\n",
        "y = 0\n",
        "\n",
        "thisdict = dict.fromkeys(x, y)\n",
        "\n",
        "print(thisdict)"
      ],
      "metadata": {
        "colab": {
          "base_uri": "https://localhost:8080/"
        },
        "id": "pciHBFzNeD6J",
        "outputId": "6ab6b5e8-2d5f-4600-dfac-023b91654a8f"
      },
      "execution_count": null,
      "outputs": [
        {
          "output_type": "stream",
          "name": "stdout",
          "text": [
            "{'key1': 0, 'key2': 0, 'key3': 0}\n"
          ]
        }
      ]
    },
    {
      "cell_type": "markdown",
      "source": [
        "### control flow statements"
      ],
      "metadata": {
        "id": "U6ULXeTEe_9R"
      }
    },
    {
      "cell_type": "markdown",
      "source": [
        "python if- else statements"
      ],
      "metadata": {
        "id": "eY0Q38bIfGAZ"
      }
    },
    {
      "cell_type": "code",
      "source": [
        "a = 33\n",
        "b = 200\n",
        "if b > a:\n",
        "  print(\"b is greater than a\")"
      ],
      "metadata": {
        "colab": {
          "base_uri": "https://localhost:8080/"
        },
        "id": "DKpCbI_6hc2S",
        "outputId": "d2a4c68a-1306-4f04-c400-b1535532184e"
      },
      "execution_count": null,
      "outputs": [
        {
          "output_type": "stream",
          "name": "stdout",
          "text": [
            "b is greater than a\n"
          ]
        }
      ]
    },
    {
      "cell_type": "markdown",
      "source": [
        "elif - \"if the previous conditions were not true\""
      ],
      "metadata": {
        "id": "d91ZnZ4ahtZo"
      }
    },
    {
      "cell_type": "code",
      "source": [
        "a = 33\n",
        "b = 33\n",
        "if b > a:\n",
        "  print(\"b is greater than a\")\n",
        "elif a==b:\n",
        "  print(\"yes\")"
      ],
      "metadata": {
        "colab": {
          "base_uri": "https://localhost:8080/"
        },
        "id": "-r1uU-Kohu5Y",
        "outputId": "eb9f3407-cfbf-444f-f558-00f6bd0384ed"
      },
      "execution_count": null,
      "outputs": [
        {
          "output_type": "stream",
          "name": "stdout",
          "text": [
            "yes\n"
          ]
        }
      ]
    },
    {
      "cell_type": "markdown",
      "source": [
        "else - else keyword catches anything which isn't caught by the preceding conditions.\n",
        "\n"
      ],
      "metadata": {
        "id": "ZWgl3uj_h9Jr"
      }
    },
    {
      "cell_type": "code",
      "source": [
        "a = 200\n",
        "b = 33\n",
        "if b > a:\n",
        "  print(\"b is greater than a\")\n",
        "elif a == b:\n",
        "  print(\"a and b are equal\")\n",
        "else:\n",
        "  print(\"a is greater than b\")"
      ],
      "metadata": {
        "colab": {
          "base_uri": "https://localhost:8080/"
        },
        "id": "7iWPPDDKiEZz",
        "outputId": "84be671b-bfbb-4498-bfb6-6eaff5107239"
      },
      "execution_count": null,
      "outputs": [
        {
          "output_type": "stream",
          "name": "stdout",
          "text": [
            "a is greater than b\n"
          ]
        }
      ]
    },
    {
      "cell_type": "markdown",
      "source": [
        "short hand if - and short hand else"
      ],
      "metadata": {
        "id": "Q8TrBzJLiNT8"
      }
    },
    {
      "cell_type": "code",
      "source": [
        "if a > b: print(\"a is greater than b\")\n",
        "a = 2\n",
        "b = 330\n",
        "print(\"A\") if a > b else print(\"B\")\n",
        "# You can also have multiple else statements on the same line:\n",
        "a = 330\n",
        "b = 330\n",
        "print(\"A\") if a > b else print(\"=\") if a == b else print(\"B\")"
      ],
      "metadata": {
        "colab": {
          "base_uri": "https://localhost:8080/"
        },
        "id": "vyRYAHQ0iTfp",
        "outputId": "3ebf72a8-fb36-47b4-be05-6ed492100e8e"
      },
      "execution_count": null,
      "outputs": [
        {
          "output_type": "stream",
          "name": "stdout",
          "text": [
            "a is greater than b\n",
            "B\n"
          ]
        }
      ]
    },
    {
      "cell_type": "markdown",
      "source": [
        "AND , OR , NOT"
      ],
      "metadata": {
        "id": "eaZkNZGli55b"
      }
    },
    {
      "cell_type": "code",
      "source": [
        "a = 200\n",
        "b = 33\n",
        "c = 500\n",
        "if a > b and c > a:\n",
        "  print(\"Both conditions are True\")\n",
        "if a > b or a > c:\n",
        "  print(\"At least one of the conditions is True\")\n",
        "if not a == b:\n",
        "  print(\"a is NOT greater than b\")"
      ],
      "metadata": {
        "colab": {
          "base_uri": "https://localhost:8080/"
        },
        "id": "bGY_FDkli_ZB",
        "outputId": "ceeea356-a40c-46e2-cb68-c21c2cf8ced9"
      },
      "execution_count": null,
      "outputs": [
        {
          "output_type": "stream",
          "name": "stdout",
          "text": [
            "Both conditions are True\n",
            "At least one of the conditions is True\n",
            "a is NOT greater than b\n"
          ]
        }
      ]
    },
    {
      "cell_type": "markdown",
      "source": [
        "nested if"
      ],
      "metadata": {
        "id": "sNrqtr0UjU7K"
      }
    },
    {
      "cell_type": "code",
      "source": [
        "x = 41\n",
        "\n",
        "if x > 10:\n",
        "  print(\"Above ten,\")\n",
        "  if x > 20:\n",
        "    print(\"and also above 20!\")\n",
        "  else:\n",
        "    print(\"but not above 20.\")\n",
        "# if statements cannot be empty,\n",
        "# but if you for some reason have an if statement with no content, put in the pass statement to avoid getting an error.\n",
        "a = 33\n",
        "b = 200\n",
        "\n",
        "if b > a:\n",
        "  pass"
      ],
      "metadata": {
        "colab": {
          "base_uri": "https://localhost:8080/"
        },
        "id": "oMyBZLNRjYJ7",
        "outputId": "491fa24d-1571-40c1-83d5-5c9d2a63fe85"
      },
      "execution_count": null,
      "outputs": [
        {
          "output_type": "stream",
          "name": "stdout",
          "text": [
            "Above ten,\n",
            "and also above 20!\n"
          ]
        }
      ]
    },
    {
      "cell_type": "markdown",
      "source": [
        "match - it is used to perform different action based on different conditions\n",
        "\n",
        "- intead of writing many if..else you can use match\n",
        "- The match statement selects one of many code blocks to be executed.\n",
        "- syntax"
      ],
      "metadata": {
        "id": "R4L1nLJGtqhJ"
      }
    },
    {
      "cell_type": "code",
      "source": [
        "match expression:\n",
        "  case x:\n",
        "    code block\n",
        "  case y:\n",
        "    code block\n",
        "  case z:\n",
        "    code block"
      ],
      "metadata": {
        "colab": {
          "base_uri": "https://localhost:8080/",
          "height": 110
        },
        "id": "6nYiz91MkFd7",
        "outputId": "50948365-b8bf-44d7-f6b7-a9b6b992121d"
      },
      "execution_count": null,
      "outputs": [
        {
          "output_type": "error",
          "ename": "SyntaxError",
          "evalue": "invalid syntax (<ipython-input-29-3d5eb361ba5f>, line 3)",
          "traceback": [
            "\u001b[0;36m  File \u001b[0;32m\"<ipython-input-29-3d5eb361ba5f>\"\u001b[0;36m, line \u001b[0;32m3\u001b[0m\n\u001b[0;31m    code block\u001b[0m\n\u001b[0m         ^\u001b[0m\n\u001b[0;31mSyntaxError\u001b[0m\u001b[0;31m:\u001b[0m invalid syntax\n"
          ]
        }
      ]
    },
    {
      "cell_type": "markdown",
      "source": [
        "This is how it works:\n",
        "\n",
        "\n",
        "*   The match expression is evaluated once\n",
        "*  The value of the expression is compared with the values of each case.\n",
        "*   If there is a match, the associated block of code is executed.\n"
      ],
      "metadata": {
        "id": "Jm1VUYiYufqK"
      }
    },
    {
      "cell_type": "code",
      "source": [
        "day = int(input(\"enter the number between 1 to 7\"))\n",
        "match day:\n",
        "  case 1:\n",
        "    print(\"Monday\")\n",
        "  case 2:\n",
        "    print(\"Tuesday\")\n",
        "  case 3:\n",
        "    print(\"Wednesday\")\n",
        "  case 4:\n",
        "    print(\"Thursday\")\n",
        "  case 5:\n",
        "    print(\"Friday\")\n",
        "  case 6:\n",
        "    print(\"Saturday\")\n",
        "  case 7:\n",
        "    print(\"Sunday\")"
      ],
      "metadata": {
        "colab": {
          "base_uri": "https://localhost:8080/"
        },
        "id": "AANoSlgvusV8",
        "outputId": "f7bbd237-28d3-49f4-d97c-2904f3c7914b"
      },
      "execution_count": null,
      "outputs": [
        {
          "output_type": "stream",
          "name": "stdout",
          "text": [
            "enter the number between 1 to 76\n",
            "Saturday\n"
          ]
        }
      ]
    },
    {
      "cell_type": "markdown",
      "source": [
        "Use the underscore character _ as the last case value if you want a code block to execute when there are not other matches:"
      ],
      "metadata": {
        "id": "J33krdBou9C9"
      }
    },
    {
      "cell_type": "code",
      "source": [
        "day = 4\n",
        "match day:\n",
        "  case 6:\n",
        "    print(\"Today is Saturday\")\n",
        "  case 7:\n",
        "    print(\"Today is Sunday\")\n",
        "  case _:\n",
        "    print(\"Looking forward to the Weekend\")\n",
        "#The value _ will always match, so it is important to place it as the last case to make it beahave as a default case."
      ],
      "metadata": {
        "colab": {
          "base_uri": "https://localhost:8080/"
        },
        "id": "rJ5mjmZEu_Ka",
        "outputId": "c77b07d8-4cd0-464d-8da5-5d73a13eff55"
      },
      "execution_count": null,
      "outputs": [
        {
          "output_type": "stream",
          "name": "stdout",
          "text": [
            "Looking forward to the Weekend\n"
          ]
        }
      ]
    },
    {
      "cell_type": "markdown",
      "source": [
        "Combine Values - Use the pipe character | as an or operator in the case evaluation to check for more than one value match in one case:"
      ],
      "metadata": {
        "id": "NNTVB8vgvXOj"
      }
    },
    {
      "cell_type": "code",
      "source": [
        "day = int(input(\"enter the number 1 to 7\"))\n",
        "match day:\n",
        "  case 1 | 2 | 3 | 4 | 5:\n",
        "    print(\"Today is a weekday\")\n",
        "  case 6 | 7:\n",
        "    print(\"I love weekends!\")"
      ],
      "metadata": {
        "colab": {
          "base_uri": "https://localhost:8080/"
        },
        "id": "_dKQt3MpvYSy",
        "outputId": "00ce09e4-2ba6-414f-a4f8-602ab95b5576"
      },
      "execution_count": null,
      "outputs": [
        {
          "output_type": "stream",
          "name": "stdout",
          "text": [
            "enter the number 1 to 74\n",
            "Today is a weekday\n"
          ]
        }
      ]
    },
    {
      "cell_type": "markdown",
      "source": [
        "If Statements as Guards -You can add if statements in the case evaluation as an extra condition-check"
      ],
      "metadata": {
        "id": "lEteOpU4voy0"
      }
    },
    {
      "cell_type": "code",
      "source": [
        "month = 5\n",
        "day = 4\n",
        "match day:\n",
        "  case 1 | 2 | 3 | 4 | 5 if month == 4:\n",
        "    print(\"A weekday in April\")\n",
        "  case 1 | 2 | 3 | 4 | 5 if month == 5:\n",
        "    print(\"A weekday in May\")\n",
        "  case _:\n",
        "    print(\"No match\")"
      ],
      "metadata": {
        "colab": {
          "base_uri": "https://localhost:8080/"
        },
        "id": "9u-YESBovutP",
        "outputId": "2da1e381-7dee-4d8f-f390-dac5e77437af"
      },
      "execution_count": null,
      "outputs": [
        {
          "output_type": "stream",
          "name": "stdout",
          "text": [
            "A weekday in May\n"
          ]
        }
      ]
    },
    {
      "cell_type": "markdown",
      "source": [
        "### python loops"
      ],
      "metadata": {
        "id": "mYZQE95S0dXh"
      }
    },
    {
      "cell_type": "markdown",
      "source": [
        "#### while loops -\n",
        "With the while loop we can execute a set of statements as long as a condition is true."
      ],
      "metadata": {
        "id": "TInPjfg60gsD"
      }
    },
    {
      "cell_type": "code",
      "source": [
        "i = 1\n",
        "while i < 6:\n",
        "  print(i)\n",
        "  i += 1"
      ],
      "metadata": {
        "colab": {
          "base_uri": "https://localhost:8080/"
        },
        "id": "ruut-7mI0rak",
        "outputId": "5e396edd-a101-49e3-ecae-51ac92bad573"
      },
      "execution_count": null,
      "outputs": [
        {
          "output_type": "stream",
          "name": "stdout",
          "text": [
            "1\n",
            "2\n",
            "3\n",
            "4\n",
            "5\n"
          ]
        }
      ]
    },
    {
      "cell_type": "markdown",
      "source": [
        "break"
      ],
      "metadata": {
        "id": "WEWLtUw-1krA"
      }
    },
    {
      "cell_type": "code",
      "source": [
        "i = 1 # The while loop requires relevant variables to be ready, in this example we need to define an indexing variable, i, which we set to 1.\n",
        "while i < 6:\n",
        "  print(i)\n",
        "  if i == 3:\n",
        "    break\n",
        "  i += 1"
      ],
      "metadata": {
        "colab": {
          "base_uri": "https://localhost:8080/"
        },
        "id": "D9seow_h1b3b",
        "outputId": "9d916b79-f95c-49b3-9404-b4332452fd09"
      },
      "execution_count": null,
      "outputs": [
        {
          "output_type": "stream",
          "name": "stdout",
          "text": [
            "1\n",
            "2\n",
            "3\n"
          ]
        }
      ]
    },
    {
      "cell_type": "markdown",
      "source": [
        "continue - With the continue statement we can stop the current iteration, and continue with the next:"
      ],
      "metadata": {
        "id": "Tj2tXtY91nSK"
      }
    },
    {
      "cell_type": "code",
      "source": [
        "i = 0\n",
        "while i < 6:\n",
        "  i += 1\n",
        "  if i == 3:\n",
        "    continue\n",
        "  print(i)"
      ],
      "metadata": {
        "id": "VzcPlyXA1pFl"
      },
      "execution_count": null,
      "outputs": []
    },
    {
      "cell_type": "markdown",
      "source": [
        "else Statement in while loop\n"
      ],
      "metadata": {
        "id": "RMqgwseC1vx3"
      }
    },
    {
      "cell_type": "code",
      "source": [
        "i = 1\n",
        "while i < 6:\n",
        "  print(i)\n",
        "  i += 1\n",
        "else:\n",
        "  print(\"i is no longer less than 6\")"
      ],
      "metadata": {
        "id": "bup9ackC10Hd"
      },
      "execution_count": null,
      "outputs": []
    },
    {
      "cell_type": "markdown",
      "source": [
        "#### for loop -\n",
        "A for loop is used for iterating over a sequence (that is either a list, a tuple, a dictionary, a set, or a string).\n",
        "\n",
        "\n",
        "This is less like the for keyword in other programming languages, and works more like an iterator method as found in other object-orientated programming languages.\n",
        "\n",
        "With the for loop we can execute a set of statements, once for each item in a list, tuple, set etc.\n",
        "\n"
      ],
      "metadata": {
        "id": "yCWysyDU15iD"
      }
    },
    {
      "cell_type": "code",
      "source": [
        "fruits = [\"apple\", \"banana\", \"cherry\"]\n",
        "for x in fruits:\n",
        "  print(x)"
      ],
      "metadata": {
        "id": "Yg0QyNTi2W4t"
      },
      "execution_count": null,
      "outputs": []
    },
    {
      "cell_type": "markdown",
      "source": [
        "looping through a string"
      ],
      "metadata": {
        "id": "dOtAu97l2f3z"
      }
    },
    {
      "cell_type": "code",
      "source": [
        "for x in \"banana\":\n",
        "  print(x)\n",
        "# break\n",
        "fruits = [\"apple\", \"banana\", \"cherry\"]\n",
        "for x in fruits:\n",
        "  print(x)\n",
        "  if x == \"banana\":\n",
        "    break\n",
        "# continue\n",
        "fruits = [\"apple\", \"banana\", \"cherry\"]\n",
        "for x in fruits:\n",
        "  if x == \"banana\":\n",
        "    continue\n",
        "  print(x)"
      ],
      "metadata": {
        "colab": {
          "base_uri": "https://localhost:8080/"
        },
        "id": "EqIc2RIY23qt",
        "outputId": "bb026b30-1f2e-4af6-f2f0-59a42200cfd3"
      },
      "execution_count": null,
      "outputs": [
        {
          "output_type": "stream",
          "name": "stdout",
          "text": [
            "b\n",
            "a\n",
            "n\n",
            "a\n",
            "n\n",
            "a\n",
            "apple\n",
            "banana\n"
          ]
        }
      ]
    },
    {
      "cell_type": "markdown",
      "source": [
        "range() function - To loop through a set of code a specified number of times, we can use the range() function\n",
        "\n",
        "\n",
        "The range() function returns a sequence of numbers, starting from 0 by default, and increments by 1 (by default), and ends at a specified number"
      ],
      "metadata": {
        "id": "V6Ac7N0v3LBk"
      }
    },
    {
      "cell_type": "code",
      "source": [
        "for x in range(6):\n",
        "  print(x)"
      ],
      "metadata": {
        "colab": {
          "base_uri": "https://localhost:8080/"
        },
        "id": "SahP3qiX3YL-",
        "outputId": "2e9e33b6-2490-4e4a-88a7-c08bdbbef885"
      },
      "execution_count": null,
      "outputs": [
        {
          "output_type": "stream",
          "name": "stdout",
          "text": [
            "0\n",
            "1\n",
            "2\n",
            "3\n",
            "4\n",
            "5\n"
          ]
        }
      ]
    },
    {
      "cell_type": "markdown",
      "source": [
        "The range() function defaults to increment the sequence by 1, however it is possible to specify the increment value by adding a third parameter: range(2, 30, 3):"
      ],
      "metadata": {
        "id": "YGioLTdi4Q7W"
      }
    },
    {
      "cell_type": "code",
      "source": [
        "for x in range(2, 30, 3):\n",
        "  print(x)"
      ],
      "metadata": {
        "colab": {
          "base_uri": "https://localhost:8080/"
        },
        "id": "Lt5_uCiu4Rmk",
        "outputId": "6ea8aa81-e8fe-475d-b605-c380b553a8f6"
      },
      "execution_count": null,
      "outputs": [
        {
          "output_type": "stream",
          "name": "stdout",
          "text": [
            "2\n",
            "5\n",
            "8\n",
            "11\n",
            "14\n",
            "17\n",
            "20\n",
            "23\n",
            "26\n",
            "29\n"
          ]
        }
      ]
    },
    {
      "cell_type": "code",
      "source": [
        "for x in range(2, 35, 5):\n",
        "  print(x)\n",
        "\n"
      ],
      "metadata": {
        "colab": {
          "base_uri": "https://localhost:8080/"
        },
        "id": "giuys3DR4WO4",
        "outputId": "8625694b-00c5-4303-b9cf-e030f06ec18a"
      },
      "execution_count": null,
      "outputs": [
        {
          "output_type": "stream",
          "name": "stdout",
          "text": [
            "2\n",
            "7\n",
            "12\n",
            "17\n",
            "22\n",
            "27\n",
            "32\n"
          ]
        }
      ]
    },
    {
      "cell_type": "markdown",
      "source": [
        "else in for loop - The else keyword in a for loop specifies a block of code to be executed when the loop is finished:"
      ],
      "metadata": {
        "id": "8s2NIXM84gLw"
      }
    },
    {
      "cell_type": "code",
      "source": [
        "for x in range(6):\n",
        "  print(x)\n",
        "else:\n",
        "  print(\"Finally finished!\")"
      ],
      "metadata": {
        "colab": {
          "base_uri": "https://localhost:8080/"
        },
        "id": "Y5uLWrNB4qUW",
        "outputId": "0bb8e12f-e73a-47bc-e80a-31c20c307969"
      },
      "execution_count": null,
      "outputs": [
        {
          "output_type": "stream",
          "name": "stdout",
          "text": [
            "0\n",
            "1\n",
            "2\n",
            "3\n",
            "4\n",
            "5\n",
            "Finally finished!\n"
          ]
        }
      ]
    },
    {
      "cell_type": "markdown",
      "source": [
        "The else block will NOT be executed if the loop is stopped by a break stateme"
      ],
      "metadata": {
        "id": "yw6kXqsK5HMG"
      }
    },
    {
      "cell_type": "code",
      "source": [
        "for x in range(6):\n",
        "  if x == 3: break\n",
        "  print(x)\n",
        "else:\n",
        "  print(\"Finally finished!\")"
      ],
      "metadata": {
        "colab": {
          "base_uri": "https://localhost:8080/"
        },
        "id": "BO2-boiM5IEe",
        "outputId": "78a048e6-94b2-4dc9-c217-da10d25ffc3d"
      },
      "execution_count": null,
      "outputs": [
        {
          "output_type": "stream",
          "name": "stdout",
          "text": [
            "0\n",
            "1\n",
            "2\n"
          ]
        }
      ]
    },
    {
      "cell_type": "markdown",
      "source": [
        "Nested Loops - A nested loop is a loop inside a loop.\n",
        "\n",
        "The \"inner loop\" will be executed one time for each iteration of the \"outer loop\":"
      ],
      "metadata": {
        "id": "jOeZ9Boy5MWp"
      }
    },
    {
      "cell_type": "code",
      "source": [
        "adj = [\"red\", \"big\", \"tasty\"]\n",
        "fruits = [\"apple\", \"banana\", \"cherry\"]\n",
        "\n",
        "for x in adj:\n",
        "  for y in fruits:\n",
        "    print(x, y)"
      ],
      "metadata": {
        "colab": {
          "base_uri": "https://localhost:8080/"
        },
        "id": "oVkiLm4e5VCQ",
        "outputId": "ac02bd51-cac6-426c-96c9-669a7be21d39"
      },
      "execution_count": null,
      "outputs": [
        {
          "output_type": "stream",
          "name": "stdout",
          "text": [
            "red apple\n",
            "red banana\n",
            "red cherry\n",
            "big apple\n",
            "big banana\n",
            "big cherry\n",
            "tasty apple\n",
            "tasty banana\n",
            "tasty cherry\n"
          ]
        }
      ]
    },
    {
      "cell_type": "markdown",
      "source": [
        " pass Statement\n",
        "\n",
        " for loops cannot be empty, but if you for some reason have a for loop with no content, put in the pass statement to avoid getting an error.\n",
        "\n"
      ],
      "metadata": {
        "id": "4hWNSPMl5fT_"
      }
    },
    {
      "cell_type": "code",
      "source": [
        "for x in [0, 1, 2]:\n",
        "  pass\n",
        "  print(x)"
      ],
      "metadata": {
        "colab": {
          "base_uri": "https://localhost:8080/"
        },
        "id": "9MUlDBex5i0W",
        "outputId": "ad43884e-22bf-4359-f59f-4976cab3c84a"
      },
      "execution_count": null,
      "outputs": [
        {
          "output_type": "stream",
          "name": "stdout",
          "text": [
            "0\n",
            "1\n",
            "2\n"
          ]
        }
      ]
    },
    {
      "cell_type": "markdown",
      "source": [
        "### function -\n",
        " a function is a block of code which only runs when it is called\n",
        "\n",
        "you can pass data into a function called parameters  \n",
        "\n",
        "function can retrun data as a result"
      ],
      "metadata": {
        "id": "aE1znIe66GSq"
      }
    },
    {
      "cell_type": "code",
      "source": [
        "# creating a function\n",
        "def my_function():\n",
        "  print(\"hello from a function\") # no output"
      ],
      "metadata": {
        "id": "jSqSRUnNYHlU"
      },
      "execution_count": null,
      "outputs": []
    },
    {
      "cell_type": "markdown",
      "source": [
        "Calling a function is important because defining a function only tells Python what the function can do—it doesn't actually do anything until you call it"
      ],
      "metadata": {
        "id": "YHTfJjvsZDK0"
      }
    },
    {
      "cell_type": "code",
      "source": [
        "def my_function():\n",
        "  print(\"hello from a function\")\n",
        "my_function()"
      ],
      "metadata": {
        "colab": {
          "base_uri": "https://localhost:8080/"
        },
        "id": "VcfjDA10YMLy",
        "outputId": "368ac8da-a469-4f6e-f8a7-3ee0a2cbef6c"
      },
      "execution_count": null,
      "outputs": [
        {
          "output_type": "stream",
          "name": "stdout",
          "text": [
            "hello from a function\n"
          ]
        }
      ]
    },
    {
      "cell_type": "markdown",
      "source": [
        "arguments:\n",
        "\n",
        "Information can be passed into functions as arguments."
      ],
      "metadata": {
        "id": "k8ci1A1LZSCL"
      }
    },
    {
      "cell_type": "code",
      "source": [
        "def my_function(fname):\n",
        "  print(fname + \"refsnes\")\n",
        "my_function(\"email\")\n",
        "my_function(\"linus\")"
      ],
      "metadata": {
        "colab": {
          "base_uri": "https://localhost:8080/"
        },
        "id": "uAQoj4-cZTw9",
        "outputId": "a6881d2d-1300-41bb-82ac-cd8da64b0126"
      },
      "execution_count": null,
      "outputs": [
        {
          "output_type": "stream",
          "name": "stdout",
          "text": [
            "emailrefsnes\n",
            "linusrefsnes\n"
          ]
        }
      ]
    },
    {
      "cell_type": "markdown",
      "source": [
        "parameters and arguments"
      ],
      "metadata": {
        "id": "_3RmZDDubaiG"
      }
    },
    {
      "cell_type": "markdown",
      "source": [
        "A parameter is the variable listed inside the parentheses in the function definition.\n",
        "\n",
        "An argument is the value that is sent to the function when it is called"
      ],
      "metadata": {
        "id": "hJy-mbiUbeZl"
      }
    },
    {
      "cell_type": "markdown",
      "source": [
        "number of arguments -By default, a function must be called with the correct number of arguments. Meaning that if your function expects 2 arguments, you have to call the function with 2 arguments, not more, and not less."
      ],
      "metadata": {
        "id": "ZSDw6_LObjl5"
      }
    },
    {
      "cell_type": "code",
      "source": [
        "def my_function(fname, lname):\n",
        "  print(fname + \" \" + lname)\n",
        "\n",
        "my_function(\"Emil\", \"Refsnes\")\n",
        "# If you try to call the function with 1 or 3 arguments, you will get an error:\n"
      ],
      "metadata": {
        "id": "2lKy20BebtqU"
      },
      "execution_count": null,
      "outputs": []
    },
    {
      "cell_type": "markdown",
      "source": [
        "Arbitrary Arguments, *args :    \n",
        "\n",
        "If you do not know how many arguments that will be passed into your function, add a * before the parameter name in the function definition."
      ],
      "metadata": {
        "id": "b77j48H_cfGL"
      }
    },
    {
      "cell_type": "code",
      "source": [
        "def my_function(*kids):\n",
        "  print(\"The youngest child is \" + kids[2])\n",
        "\n",
        "my_function(\"Emil\", \"Tobias\", \"Linus\")"
      ],
      "metadata": {
        "colab": {
          "base_uri": "https://localhost:8080/"
        },
        "id": "VVSJoXm7csmC",
        "outputId": "ffeb9e24-78bd-490f-c53e-1028f72706c3"
      },
      "execution_count": null,
      "outputs": [
        {
          "output_type": "stream",
          "name": "stdout",
          "text": [
            "The youngest child is Linus\n"
          ]
        }
      ]
    },
    {
      "cell_type": "markdown",
      "source": [
        "keyword arguments -\n",
        "\n",
        "You can also send arguments with the key = value syntax.\n",
        "\n",
        "This way the order of the arguments does not matter."
      ],
      "metadata": {
        "id": "kjdSssLrc7aO"
      }
    },
    {
      "cell_type": "code",
      "source": [
        "def my_function(child3, child2, child1):\n",
        "  print(\"The youngest child is \" + child3)\n",
        "\n",
        "my_function(child1 = \"Emil\", child2 = \"Tobias\", child3 = \"Linus\")"
      ],
      "metadata": {
        "id": "hWdnodsFdB-R"
      },
      "execution_count": null,
      "outputs": []
    },
    {
      "cell_type": "markdown",
      "source": [
        "Arbitrary Keyword Arguments, **kwargs:\n",
        "\n",
        "If you do not know how many keyword arguments that will be passed into your function, add two asterisk: ** before the parameter name in the function definition.\n",
        "\n",
        "This way the function will receive a dictionary of arguments, and can access the items accordingly:"
      ],
      "metadata": {
        "id": "Sn55AOWsdKD3"
      }
    },
    {
      "cell_type": "code",
      "source": [
        "def my_function(**kid):\n",
        "  print(\"His last name is \" + kid[\"lname\"])\n",
        "\n",
        "my_function(fname = \"Tobias\", lname = \"Refsnes\")"
      ],
      "metadata": {
        "colab": {
          "base_uri": "https://localhost:8080/"
        },
        "id": "vpblILTNdP-M",
        "outputId": "cfd8c13a-48c2-4fa6-9b6c-86c5581e6345"
      },
      "execution_count": null,
      "outputs": [
        {
          "output_type": "stream",
          "name": "stdout",
          "text": [
            "His last name is Refsnes\n"
          ]
        }
      ]
    },
    {
      "cell_type": "markdown",
      "source": [
        "default parameter value\n",
        "\n",
        "The following example shows how to use a default parameter value.\n",
        "\n",
        "If we call the function without argument, it uses the default value:"
      ],
      "metadata": {
        "id": "AqdfpgX5d1AR"
      }
    },
    {
      "cell_type": "code",
      "source": [
        "def my_function(country = \"Norway\"):\n",
        "  print(\"I am from \" + country)\n",
        "\n",
        "my_function(\"Sweden\")\n",
        "my_function(\"India\")\n",
        "my_function()\n",
        "my_function(\"Brazil\")"
      ],
      "metadata": {
        "colab": {
          "base_uri": "https://localhost:8080/"
        },
        "id": "B9M7ZXwTd8QT",
        "outputId": "851985d7-ab07-47cd-dc2d-ca5aff1d6d37"
      },
      "execution_count": null,
      "outputs": [
        {
          "output_type": "stream",
          "name": "stdout",
          "text": [
            "I am from Sweden\n",
            "I am from India\n",
            "I am from Norway\n",
            "I am from Brazil\n"
          ]
        }
      ]
    },
    {
      "cell_type": "markdown",
      "source": [
        "passing a list in a function as an argument\n",
        "\n",
        "You can send any data types of argument to a function (string, number, list, dictionary etc.), and it will be treated as the same data type inside the function."
      ],
      "metadata": {
        "id": "rmp0g8iMePNG"
      }
    },
    {
      "cell_type": "code",
      "source": [
        "def my_function(food):\n",
        "  for x in food:\n",
        "    print(x)\n",
        "\n",
        "fruits = [\"apple\", \"banana\", \"cherry\"]\n",
        "\n",
        "my_function(fruits)"
      ],
      "metadata": {
        "colab": {
          "base_uri": "https://localhost:8080/"
        },
        "id": "BLg4bh75eYHO",
        "outputId": "eec24ce1-c5d0-497c-b6ca-9b3005526734"
      },
      "execution_count": null,
      "outputs": [
        {
          "output_type": "stream",
          "name": "stdout",
          "text": [
            "apple\n",
            "banana\n",
            "cherry\n"
          ]
        }
      ]
    },
    {
      "cell_type": "markdown",
      "source": [
        "return value - To let a function return a value, use the return statement:\n",
        "\n"
      ],
      "metadata": {
        "id": "KVCgV0tkeig9"
      }
    },
    {
      "cell_type": "code",
      "source": [
        "def my_function(x):\n",
        "  return 5 * x\n",
        "\n",
        "print(my_function(3))\n",
        "print(my_function(5))\n",
        "print(my_function(9))"
      ],
      "metadata": {
        "id": "SiTXvMwjeqGi"
      },
      "execution_count": null,
      "outputs": []
    },
    {
      "cell_type": "markdown",
      "source": [
        "the pass statement :    \n",
        "\n",
        "function definitions cannot be empty, but if you for some reason have a function definition with no content, put in the pass statement to avoid getting an error."
      ],
      "metadata": {
        "id": "GPhgwlqfes0Z"
      }
    },
    {
      "cell_type": "code",
      "source": [
        "def myfunction():\n",
        "  pass"
      ],
      "metadata": {
        "id": "JyfBCMtLe4Yx"
      },
      "execution_count": null,
      "outputs": []
    },
    {
      "cell_type": "markdown",
      "source": [
        "positional-only arguments\n",
        "\n",
        "\n",
        "You can specify that a function can have ONLY positional arguments, or ONLY keyword arguments.\n",
        "\n",
        "To specify that a function can have only positional arguments, add , / after the arguments:\n",
        "\n"
      ],
      "metadata": {
        "id": "vEg2ZJpnfUsi"
      }
    },
    {
      "cell_type": "code",
      "source": [
        "def my_function(x, /):\n",
        "  print(x)\n",
        "\n",
        "my_function(3)"
      ],
      "metadata": {
        "colab": {
          "base_uri": "https://localhost:8080/"
        },
        "id": "ZaRxAOM9fcpz",
        "outputId": "d669c72a-b46c-457b-f1db-d31d9b0a24ad"
      },
      "execution_count": null,
      "outputs": [
        {
          "output_type": "stream",
          "name": "stdout",
          "text": [
            "3\n"
          ]
        }
      ]
    },
    {
      "cell_type": "markdown",
      "source": [
        "Without the , / you are actually allowed to use keyword arguments even if the function expects positional arguments"
      ],
      "metadata": {
        "id": "cDLajP5bfjTN"
      }
    },
    {
      "cell_type": "code",
      "source": [
        "def my_function(x):\n",
        "  print(x)\n",
        "\n",
        "my_function(x = 3)"
      ],
      "metadata": {
        "colab": {
          "base_uri": "https://localhost:8080/"
        },
        "id": "gOX6fGc1fk2e",
        "outputId": "a8ce0d26-db0e-4ed7-d928-fc1fd0e2cbf7"
      },
      "execution_count": null,
      "outputs": [
        {
          "output_type": "stream",
          "name": "stdout",
          "text": [
            "3\n"
          ]
        }
      ]
    },
    {
      "cell_type": "markdown",
      "source": [
        "But when adding the , / you will get an error if you try to send a keyword argument:\n",
        "\n"
      ],
      "metadata": {
        "id": "4DEvQnxNfkKb"
      }
    },
    {
      "cell_type": "code",
      "source": [
        "def my_function(x, /):\n",
        "  print(x)\n",
        "\n",
        "my_function(x = 3)"
      ],
      "metadata": {
        "colab": {
          "base_uri": "https://localhost:8080/",
          "height": 184
        },
        "id": "9sO1k5rmfqPM",
        "outputId": "2c3b59da-4da7-4b64-8ec1-91073c89e682"
      },
      "execution_count": null,
      "outputs": [
        {
          "output_type": "error",
          "ename": "TypeError",
          "evalue": "my_function() got some positional-only arguments passed as keyword arguments: 'x'",
          "traceback": [
            "\u001b[0;31m---------------------------------------------------------------------------\u001b[0m",
            "\u001b[0;31mTypeError\u001b[0m                                 Traceback (most recent call last)",
            "\u001b[0;32m<ipython-input-17-403196941e2c>\u001b[0m in \u001b[0;36m<cell line: 0>\u001b[0;34m()\u001b[0m\n\u001b[1;32m      2\u001b[0m   \u001b[0mprint\u001b[0m\u001b[0;34m(\u001b[0m\u001b[0mx\u001b[0m\u001b[0;34m)\u001b[0m\u001b[0;34m\u001b[0m\u001b[0;34m\u001b[0m\u001b[0m\n\u001b[1;32m      3\u001b[0m \u001b[0;34m\u001b[0m\u001b[0m\n\u001b[0;32m----> 4\u001b[0;31m \u001b[0mmy_function\u001b[0m\u001b[0;34m(\u001b[0m\u001b[0mx\u001b[0m \u001b[0;34m=\u001b[0m \u001b[0;36m3\u001b[0m\u001b[0;34m)\u001b[0m\u001b[0;34m\u001b[0m\u001b[0;34m\u001b[0m\u001b[0m\n\u001b[0m",
            "\u001b[0;31mTypeError\u001b[0m: my_function() got some positional-only arguments passed as keyword arguments: 'x'"
          ]
        }
      ]
    },
    {
      "cell_type": "markdown",
      "source": [
        "keyword-only arguments\n",
        "\n",
        "To specify that a function can have only keyword arguments, add *, before the arguments:"
      ],
      "metadata": {
        "id": "CzTFgjCtf3Ma"
      }
    },
    {
      "cell_type": "code",
      "source": [
        "def my_function(*, x):\n",
        "  print(x)\n",
        "\n",
        "my_function(x = 3)"
      ],
      "metadata": {
        "id": "wGuMi_vHgAf7"
      },
      "execution_count": null,
      "outputs": []
    },
    {
      "cell_type": "markdown",
      "source": [
        "Without the *, you are allowed to use positionale arguments even if the function expects keyword arguments:"
      ],
      "metadata": {
        "id": "L3-CCtqLgEXj"
      }
    },
    {
      "cell_type": "code",
      "source": [
        "def my_function(x):\n",
        "  print(x)\n",
        "\n",
        "my_function(3)"
      ],
      "metadata": {
        "id": "rJEmg78AgF8G"
      },
      "execution_count": null,
      "outputs": []
    },
    {
      "cell_type": "markdown",
      "source": [
        "But with the *, you will get an error if you try to send a positional argument:"
      ],
      "metadata": {
        "id": "Dp9Ogu0DgH74"
      }
    },
    {
      "cell_type": "code",
      "source": [
        "def my_function(*, x):\n",
        "  print(x)\n",
        "\n",
        "my_function(3)"
      ],
      "metadata": {
        "id": "qLncnYJigJsk"
      },
      "execution_count": null,
      "outputs": []
    },
    {
      "cell_type": "markdown",
      "source": [
        "combine positonal-only and keyword-only\n",
        "\n",
        "You can combine the two argument types in the same function.\n",
        "\n",
        "Any argument before the / , are positional-only, and any argument after the *, are keyword-only."
      ],
      "metadata": {
        "id": "9MZ2tpwNgMI_"
      }
    },
    {
      "cell_type": "code",
      "source": [
        "def my_function(a, b, /, *, c, d):\n",
        "  print(a + b + c + d)\n",
        "\n",
        "my_function(5, 6, c = 7, d = 8)"
      ],
      "metadata": {
        "id": "FYdoaq1pga2A",
        "outputId": "6fc9e8cf-d12a-4f59-d8bb-1524267df820",
        "colab": {
          "base_uri": "https://localhost:8080/"
        }
      },
      "execution_count": null,
      "outputs": [
        {
          "output_type": "stream",
          "name": "stdout",
          "text": [
            "26\n"
          ]
        }
      ]
    },
    {
      "cell_type": "markdown",
      "source": [
        "### lambda function -\n",
        "\n",
        "A lambda function is a small anonymous function.\n",
        "\n",
        "A lambda function can take any number of arguments, but can only have one expression."
      ],
      "metadata": {
        "id": "KjjLYpugSJ9V"
      }
    },
    {
      "cell_type": "code",
      "source": [
        "x = lambda a : a + 10 # Add 10 to argument a, and return the result:\n",
        "print(x(5))"
      ],
      "metadata": {
        "colab": {
          "base_uri": "https://localhost:8080/"
        },
        "id": "I9XbVAAwVLRi",
        "outputId": "91c0bfc6-3d76-48b8-93c0-5fdbb75f9087"
      },
      "execution_count": 1,
      "outputs": [
        {
          "output_type": "stream",
          "name": "stdout",
          "text": [
            "15\n"
          ]
        }
      ]
    },
    {
      "cell_type": "markdown",
      "source": [
        "Lambda functions can take any number of arguments:"
      ],
      "metadata": {
        "id": "7f8zdAESVXsC"
      }
    },
    {
      "cell_type": "code",
      "source": [
        "# Multiply argument a with argument b and return the result:\n",
        "x = lambda a, b : a * b\n",
        "print(x(5, 6))\n",
        "y = lambda p , q , r : p+q+r\n",
        "print(y(5,6,7))"
      ],
      "metadata": {
        "colab": {
          "base_uri": "https://localhost:8080/"
        },
        "id": "TKpKhO4xVmeK",
        "outputId": "5e198d00-301d-4451-af42-c591b07956d2"
      },
      "execution_count": 3,
      "outputs": [
        {
          "output_type": "stream",
          "name": "stdout",
          "text": [
            "30\n",
            "18\n"
          ]
        }
      ]
    },
    {
      "cell_type": "markdown",
      "source": [
        "### why we use function ?"
      ],
      "metadata": {
        "id": "D-eyRUkDWty4"
      }
    },
    {
      "cell_type": "markdown",
      "source": [
        "The power of lambda is better shown when you use them as an anonymous function inside another function.\n",
        "\n",
        "anonymous function - An anonymous function is a function without a name. In Python, these are typically created using the lambda keyword."
      ],
      "metadata": {
        "id": "31F-4VnLWyzk"
      }
    },
    {
      "cell_type": "code",
      "source": [
        "def myfunc(n):\n",
        "  return lambda a : a * n\n",
        "# Use that function definition to make a function that always doubles the number you send in:\n",
        "mydoubler = myfunc(2)\n",
        "print(mydoubler(22))"
      ],
      "metadata": {
        "colab": {
          "base_uri": "https://localhost:8080/"
        },
        "id": "iqWWaz8FYw46",
        "outputId": "231a33f4-aba6-4a67-ec7c-6e8b9a2eed49"
      },
      "execution_count": 5,
      "outputs": [
        {
          "output_type": "stream",
          "name": "stdout",
          "text": [
            "44\n"
          ]
        }
      ]
    },
    {
      "cell_type": "code",
      "source": [
        "def myfunc(n):\n",
        "  return lambda a : a * n\n",
        "mydoubler = myfunc(2)\n",
        "mytripler = myfunc(3)\n",
        "print(mydoubler(22))\n",
        "print(mytripler(22))"
      ],
      "metadata": {
        "colab": {
          "base_uri": "https://localhost:8080/"
        },
        "id": "9S8bJ0rPZK4O",
        "outputId": "bd2ced91-1b5c-4bdf-97fd-969a4ceb068e"
      },
      "execution_count": 6,
      "outputs": [
        {
          "output_type": "stream",
          "name": "stdout",
          "text": [
            "44\n",
            "66\n"
          ]
        }
      ]
    },
    {
      "cell_type": "markdown",
      "source": [
        "common used cases of lambda function"
      ],
      "metadata": {
        "id": "fD3A_ZAqaica"
      }
    },
    {
      "cell_type": "markdown",
      "source": [
        "map() - apply a function to all items in a list"
      ],
      "metadata": {
        "id": "xmUhooALd-L8"
      }
    },
    {
      "cell_type": "code",
      "source": [
        "nums = [1, 2, 3, 4]\n",
        "squared = list(map(lambda x: x ** 2, nums))\n",
        "print(squared)  # Output: [1, 4, 9, 16]\n"
      ],
      "metadata": {
        "id": "rCdcal4GeH9V"
      },
      "execution_count": null,
      "outputs": []
    },
    {
      "cell_type": "code",
      "source": [
        "for i in range(99):\n",
        "  print(i)\n",
        "square = list(map(lambda x:x **2 , range(99)))\n",
        "print(square)\n"
      ],
      "metadata": {
        "colab": {
          "base_uri": "https://localhost:8080/"
        },
        "id": "ttVGJsRpeLHZ",
        "outputId": "b6c67da7-bb76-4a0a-8c67-8941b8274d94"
      },
      "execution_count": 8,
      "outputs": [
        {
          "output_type": "stream",
          "name": "stdout",
          "text": [
            "0\n",
            "1\n",
            "2\n",
            "3\n",
            "4\n",
            "5\n",
            "6\n",
            "7\n",
            "8\n",
            "9\n",
            "10\n",
            "11\n",
            "12\n",
            "13\n",
            "14\n",
            "15\n",
            "16\n",
            "17\n",
            "18\n",
            "19\n",
            "20\n",
            "21\n",
            "22\n",
            "23\n",
            "24\n",
            "25\n",
            "26\n",
            "27\n",
            "28\n",
            "29\n",
            "30\n",
            "31\n",
            "32\n",
            "33\n",
            "34\n",
            "35\n",
            "36\n",
            "37\n",
            "38\n",
            "39\n",
            "40\n",
            "41\n",
            "42\n",
            "43\n",
            "44\n",
            "45\n",
            "46\n",
            "47\n",
            "48\n",
            "49\n",
            "50\n",
            "51\n",
            "52\n",
            "53\n",
            "54\n",
            "55\n",
            "56\n",
            "57\n",
            "58\n",
            "59\n",
            "60\n",
            "61\n",
            "62\n",
            "63\n",
            "64\n",
            "65\n",
            "66\n",
            "67\n",
            "68\n",
            "69\n",
            "70\n",
            "71\n",
            "72\n",
            "73\n",
            "74\n",
            "75\n",
            "76\n",
            "77\n",
            "78\n",
            "79\n",
            "80\n",
            "81\n",
            "82\n",
            "83\n",
            "84\n",
            "85\n",
            "86\n",
            "87\n",
            "88\n",
            "89\n",
            "90\n",
            "91\n",
            "92\n",
            "93\n",
            "94\n",
            "95\n",
            "96\n",
            "97\n",
            "98\n",
            "[0, 1, 4, 9, 16, 25, 36, 49, 64, 81, 100, 121, 144, 169, 196, 225, 256, 289, 324, 361, 400, 441, 484, 529, 576, 625, 676, 729, 784, 841, 900, 961, 1024, 1089, 1156, 1225, 1296, 1369, 1444, 1521, 1600, 1681, 1764, 1849, 1936, 2025, 2116, 2209, 2304, 2401, 2500, 2601, 2704, 2809, 2916, 3025, 3136, 3249, 3364, 3481, 3600, 3721, 3844, 3969, 4096, 4225, 4356, 4489, 4624, 4761, 4900, 5041, 5184, 5329, 5476, 5625, 5776, 5929, 6084, 6241, 6400, 6561, 6724, 6889, 7056, 7225, 7396, 7569, 7744, 7921, 8100, 8281, 8464, 8649, 8836, 9025, 9216, 9409, 9604]\n"
          ]
        }
      ]
    },
    {
      "cell_type": "markdown",
      "source": [
        "filter() : filter element based on a condition"
      ],
      "metadata": {
        "id": "J2xAk18Ze6Kc"
      }
    },
    {
      "cell_type": "code",
      "source": [
        "nums = [1, 2, 3, 4, 5, 6]\n",
        "even = list(filter(lambda x: x % 2 == 0, nums))\n",
        "print(even)  # Output: [2, 4, 6]"
      ],
      "metadata": {
        "colab": {
          "base_uri": "https://localhost:8080/"
        },
        "id": "V-M6luoMfBGa",
        "outputId": "0aa16cb7-3d43-49ab-e3e7-9a4065e86509"
      },
      "execution_count": 9,
      "outputs": [
        {
          "output_type": "stream",
          "name": "stdout",
          "text": [
            "[2, 4, 6]\n"
          ]
        }
      ]
    },
    {
      "cell_type": "code",
      "source": [
        "for i in range(99):\n",
        "  print(i)\n",
        "square = list(filter(lambda x:x % 11 == 0, range(99)))\n",
        "print(square)"
      ],
      "metadata": {
        "colab": {
          "base_uri": "https://localhost:8080/"
        },
        "id": "yUjqx09dfNbO",
        "outputId": "0ef28384-3800-461e-ee61-a06fddd98d02"
      },
      "execution_count": 13,
      "outputs": [
        {
          "output_type": "stream",
          "name": "stdout",
          "text": [
            "0\n",
            "1\n",
            "2\n",
            "3\n",
            "4\n",
            "5\n",
            "6\n",
            "7\n",
            "8\n",
            "9\n",
            "10\n",
            "11\n",
            "12\n",
            "13\n",
            "14\n",
            "15\n",
            "16\n",
            "17\n",
            "18\n",
            "19\n",
            "20\n",
            "21\n",
            "22\n",
            "23\n",
            "24\n",
            "25\n",
            "26\n",
            "27\n",
            "28\n",
            "29\n",
            "30\n",
            "31\n",
            "32\n",
            "33\n",
            "34\n",
            "35\n",
            "36\n",
            "37\n",
            "38\n",
            "39\n",
            "40\n",
            "41\n",
            "42\n",
            "43\n",
            "44\n",
            "45\n",
            "46\n",
            "47\n",
            "48\n",
            "49\n",
            "50\n",
            "51\n",
            "52\n",
            "53\n",
            "54\n",
            "55\n",
            "56\n",
            "57\n",
            "58\n",
            "59\n",
            "60\n",
            "61\n",
            "62\n",
            "63\n",
            "64\n",
            "65\n",
            "66\n",
            "67\n",
            "68\n",
            "69\n",
            "70\n",
            "71\n",
            "72\n",
            "73\n",
            "74\n",
            "75\n",
            "76\n",
            "77\n",
            "78\n",
            "79\n",
            "80\n",
            "81\n",
            "82\n",
            "83\n",
            "84\n",
            "85\n",
            "86\n",
            "87\n",
            "88\n",
            "89\n",
            "90\n",
            "91\n",
            "92\n",
            "93\n",
            "94\n",
            "95\n",
            "96\n",
            "97\n",
            "98\n",
            "[0, 11, 22, 33, 44, 55, 66, 77, 88]\n"
          ]
        }
      ]
    },
    {
      "cell_type": "markdown",
      "source": [
        "sorted(): with custom key"
      ],
      "metadata": {
        "id": "a4__CrmpfnfE"
      }
    },
    {
      "cell_type": "code",
      "source": [
        "names = [\"apple\", \"banana\", \"kiwi\", \"mango\"]\n",
        "sorted_names = sorted(names, key=lambda x: len(x)) # len(x) means sorted according to length of element of the list\n",
        "print(sorted_names)  # Output: ['kiwi', 'mango', 'apple', 'banana']\n"
      ],
      "metadata": {
        "id": "VKjsX16eogC5"
      },
      "execution_count": null,
      "outputs": []
    },
    {
      "cell_type": "code",
      "source": [
        "names = [\"apple\", \"banana\", \"kiwi\", \"mango\"]\n",
        "sorted_names = sorted(names, key=lambda x: x.lower()) # sorted accroding alphabet\n",
        "print(sorted_names)  # Output: ['kiwi', 'mango', 'apple', 'banana']\n"
      ],
      "metadata": {
        "colab": {
          "base_uri": "https://localhost:8080/"
        },
        "id": "8EUmMFjKo5kh",
        "outputId": "b4bad87d-7bad-4166-d340-f5f35d81fb6b"
      },
      "execution_count": 14,
      "outputs": [
        {
          "output_type": "stream",
          "name": "stdout",
          "text": [
            "['apple', 'banana', 'kiwi', 'mango']\n"
          ]
        }
      ]
    },
    {
      "cell_type": "markdown",
      "source": [
        "### Array -\n"
      ],
      "metadata": {
        "id": "ZU_OGz6bqezJ"
      }
    },
    {
      "cell_type": "code",
      "source": [
        "cars = [\"Ford\", \"Volvo\", \"BMW\"]\n",
        "print(cars)\n",
        "cars[0] = \"toyota\" # updating element\n",
        "print(cars)\n",
        "print(len(cars))\n",
        "cars.pop(1)\n",
        "cars.remove(\"toyota\")\n",
        "print(cars)"
      ],
      "metadata": {
        "colab": {
          "base_uri": "https://localhost:8080/"
        },
        "id": "GzVpHar0rXmX",
        "outputId": "bb329a67-d6be-4204-9654-32a48a57205d"
      },
      "execution_count": 18,
      "outputs": [
        {
          "output_type": "stream",
          "name": "stdout",
          "text": [
            "['Ford', 'Volvo', 'BMW']\n",
            "['toyota', 'Volvo', 'BMW']\n",
            "3\n",
            "['BMW']\n"
          ]
        }
      ]
    }
  ]
}