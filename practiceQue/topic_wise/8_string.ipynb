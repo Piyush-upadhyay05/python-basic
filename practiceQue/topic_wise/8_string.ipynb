{
 "cells": [
  {
   "cell_type": "markdown",
   "metadata": {},
   "source": [
    "### 🔹 **Basic Level**\n",
    "\n",
    "1. Take a string input and print its length.\n",
    "2. Print the first and last character of a string.\n",
    "3. Convert a string to uppercase and lowercase.\n",
    "4. Check if a substring exists in a given string.\n",
    "5. Reverse a string and print it.\n",
    "6. Print each character of a string on a new line using a loop.\n",
    "7. Count the number of vowels in a string.\n",
    "8. Remove leading and trailing spaces from a string.\n",
    "9. Replace all occurrences of a substring with another substring.\n",
    "10. Concatenate two strings and print the result.\n",
    "\n",
    "---\n",
    "\n",
    "### 🔹 **Intermediate Level**\n",
    "\n",
    "11. Count the frequency of each character in a string.\n",
    "12. Check if a string is a palindrome.\n",
    "13. Find the index of the first occurrence of a substring.\n",
    "14. Split a string into a list of words.\n",
    "15. Join a list of words into a single string with spaces.\n",
    "16. Remove all vowels from a string.\n",
    "17. Capitalize the first letter of each word in a string.\n",
    "18. Find and print all the substrings of a string.\n",
    "19. Extract digits from a string and convert them into an integer.\n",
    "20. Format a string using f-strings with variables (e.g., name, age).\n",
    "\n"
   ]
  }
 ],
 "metadata": {
  "kernelspec": {
   "display_name": "Python 3",
   "language": "python",
   "name": "python3"
  },
  "language_info": {
   "name": "python",
   "version": "3.13.3"
  }
 },
 "nbformat": 4,
 "nbformat_minor": 2
}
