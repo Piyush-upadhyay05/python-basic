{
 "cells": [
  {
   "cell_type": "markdown",
   "metadata": {},
   "source": [
    "### 🔹 **Basic Level**\n",
    "\n",
    "1. Print numbers from 1 to 10 using a `for` loop.\n",
    "2. Print numbers from 10 to 1 using a `while` loop.\n",
    "3. Print all even numbers between 1 and 50 using a loop.\n",
    "4. Calculate the sum of the first 20 natural numbers using a loop.\n",
    "5. Print the multiplication table of a given number using a loop.\n",
    "6. Take a number as input and print its factorial using a loop.\n",
    "7. Print the characters of a string one by one using a loop.\n",
    "8. Print all the elements of a list using a loop.\n",
    "9. Calculate the sum of all elements in a list using a loop.\n",
    "10. Print the first 10 Fibonacci numbers using a loop.\n",
    "\n",
    "---\n",
    "\n",
    "### 🔹 **Intermediate Level**\n",
    "\n",
    "11. Print all prime numbers between 1 and 100 using loops.\n",
    "12. Write a program to check if a number is a palindrome using loops.\n",
    "13. Count the number of vowels in a given string using a loop.\n",
    "14. Print a pattern of stars (`*`) in the shape of a triangle using nested loops.\n",
    "15. Write a program to find the greatest common divisor (GCD) of two numbers using loops.\n",
    "16. Take input of a list of numbers and print the second largest number.\n",
    "17. Write a program to remove duplicate elements from a list using loops.\n",
    "18. Print the reverse of a given list without using built-in reverse functions.\n",
    "19. Calculate the sum of digits of a number using a loop.\n",
    "20. Write a program to print the Pascal’s Triangle up to `n` rows using nested loops.\n"
   ]
  }
 ],
 "metadata": {
  "kernelspec": {
   "display_name": "Python 3",
   "language": "python",
   "name": "python3"
  },
  "language_info": {
   "name": "python",
   "version": "3.13.3"
  }
 },
 "nbformat": 4,
 "nbformat_minor": 2
}
