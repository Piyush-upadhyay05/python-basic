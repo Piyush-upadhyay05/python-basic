{
 "cells": [
  {
   "cell_type": "markdown",
   "metadata": {},
   "source": [
    "### 🔹 **Basic Level**\n",
    "\n",
    "\n",
    "\n"
   ]
  },
  {
   "cell_type": "markdown",
   "metadata": {},
   "source": [
    "1. Declare variables of these data types and print their values and types:\n",
    "   * `int`, `float`, `str`, `bool`, `NoneType`"
   ]
  },
  {
   "cell_type": "code",
   "execution_count": 8,
   "metadata": {},
   "outputs": [
    {
     "name": "stdout",
     "output_type": "stream",
     "text": [
      "<class 'int'>\n",
      "2\n",
      "2.09\n",
      "<class 'float'>\n",
      "string\n",
      "<class 'str'>\n",
      "True\n",
      "<class 'bool'>\n",
      "None\n",
      "<class 'NoneType'>\n"
     ]
    }
   ],
   "source": [
    "x = 2\n",
    "y = 2.09\n",
    "z = \"string\"\n",
    "p = True\n",
    "q = None\n",
    "print(type(x))\n",
    "print(x)\n",
    "print(y)\n",
    "print(type(y))\n",
    "print(z)\n",
    "print(type(z))\n",
    "print(p)\n",
    "print(type(p))\n",
    "print(q)\n",
    "print(type(q))\n"
   ]
  },
  {
   "cell_type": "markdown",
   "metadata": {},
   "source": [
    "2. Convert a string to an integer using `int()`."
   ]
  },
  {
   "cell_type": "code",
   "execution_count": 13,
   "metadata": {},
   "outputs": [
    {
     "name": "stdout",
     "output_type": "stream",
     "text": [
      "3\n",
      "<class 'int'>\n"
     ]
    }
   ],
   "source": [
    "x = \"3\"\n",
    "convert = int(x)\n",
    "print(convert)\n",
    "print(type(convert))"
   ]
  },
  {
   "cell_type": "markdown",
   "metadata": {},
   "source": [
    "3. Convert an integer to a string using `str()`."
   ]
  },
  {
   "cell_type": "code",
   "execution_count": null,
   "metadata": {},
   "outputs": [],
   "source": [
    "x = 3 \n",
    "convert = str(x)\n",
    "print(convert)\n",
    "print(type(convert))"
   ]
  },
  {
   "cell_type": "markdown",
   "metadata": {},
   "source": [
    "4. Convert a float to an integer using `int()` (observe what happens)."
   ]
  },
  {
   "cell_type": "code",
   "execution_count": 14,
   "metadata": {},
   "outputs": [
    {
     "name": "stdout",
     "output_type": "stream",
     "text": [
      "3\n",
      "<class 'int'>\n"
     ]
    }
   ],
   "source": [
    "x = 3.14\n",
    "convert = int(x)\n",
    "print(convert)\n",
    "print(type(convert))"
   ]
  },
  {
   "cell_type": "markdown",
   "metadata": {},
   "source": [
    "5. Create a boolean variable and print its value and type."
   ]
  },
  {
   "cell_type": "code",
   "execution_count": 15,
   "metadata": {},
   "outputs": [
    {
     "name": "stdout",
     "output_type": "stream",
     "text": [
      "True\n",
      "<class 'bool'>\n"
     ]
    }
   ],
   "source": [
    "x = True\n",
    "print(x)\n",
    "print(type(x))"
   ]
  },
  {
   "cell_type": "markdown",
   "metadata": {},
   "source": [
    "6. Create a variable with value `None` and print its type."
   ]
  },
  {
   "cell_type": "code",
   "execution_count": 16,
   "metadata": {},
   "outputs": [
    {
     "name": "stdout",
     "output_type": "stream",
     "text": [
      "None\n",
      "<class 'NoneType'>\n"
     ]
    }
   ],
   "source": [
    "x = None\n",
    "print(x)\n",
    "print(type(x))"
   ]
  },
  {
   "cell_type": "markdown",
   "metadata": {},
   "source": [
    "7. Demonstrate implicit type conversion in Python (e.g., `a = 10 + 3.5`)."
   ]
  },
  {
   "cell_type": "code",
   "execution_count": 17,
   "metadata": {},
   "outputs": [
    {
     "name": "stdout",
     "output_type": "stream",
     "text": [
      "<class 'int'>\n",
      "<class 'float'>\n",
      "13.5\n"
     ]
    }
   ],
   "source": [
    "x = 10\n",
    "y = 3.5\n",
    "print(type(x))\n",
    "print(type(y))\n",
    "print(x+y)"
   ]
  },
  {
   "cell_type": "markdown",
   "metadata": {},
   "source": [
    "8. Get input from user and convert:\n",
    "\n",
    "   * to int using `int()`\n",
    "   * to float using `float()`\n",
    "   * to bool using `bool()`"
   ]
  },
  {
   "cell_type": "code",
   "execution_count": 20,
   "metadata": {},
   "outputs": [
    {
     "name": "stdout",
     "output_type": "stream",
     "text": [
      "45\n",
      "45.0\n",
      "True\n"
     ]
    }
   ],
   "source": [
    "x = input(\"enter something\")\n",
    "convert1 = int(x)\n",
    "convert2 = float(x)\n",
    "convert3 = bool(x)\n",
    "print(convert1)\n",
    "print(convert2)\n",
    "print(convert3)\n"
   ]
  },
  {
   "cell_type": "markdown",
   "metadata": {},
   "source": [
    "9. Add an integer and float and print the result and its type."
   ]
  },
  {
   "cell_type": "code",
   "execution_count": 24,
   "metadata": {},
   "outputs": [
    {
     "name": "stdout",
     "output_type": "stream",
     "text": [
      "36.9\n",
      "<class 'float'>\n"
     ]
    }
   ],
   "source": [
    "x = 34\n",
    "y = 2.9\n",
    "result = x + y\n",
    "print(result)\n",
    "print(type(result))"
   ]
  },
  {
   "cell_type": "markdown",
   "metadata": {},
   "source": [
    "10. Multiply a string with an integer and print the result."
   ]
  },
  {
   "cell_type": "code",
   "execution_count": 33,
   "metadata": {},
   "outputs": [
    {
     "name": "stdout",
     "output_type": "stream",
     "text": [
      "<class 'int'>\n",
      "45\n"
     ]
    }
   ],
   "source": [
    "x = \"9\"\n",
    "con = int(x)\n",
    "print(type(con))\n",
    "y = 5\n",
    "print(con * y)"
   ]
  },
  {
   "cell_type": "markdown",
   "metadata": {},
   "source": [
    "### 🔹 **Intermediate Level**\n",
    "\n",
    "11. Take two inputs and print whether they are of the same data type.\n",
    "12. Perform addition of two numbers only if both are of type `int` (use `type()`).\n",
    "13. Write a program to check whether a given input is numeric (`int` or `float`) using `isinstance()`.\n",
    "14. Convert a number to binary, octal, and hexadecimal using `bin()`, `oct()`, `hex()`.\n",
    "15. Take user input and detect whether it’s a string, int, float, or bool using `eval()` and `type()`.\n",
    "16. Create a list of variables with different data types and print their types using a loop.\n",
    "17. Use `type()` to create a function that tells the data type of any variable.\n",
    "18. Write a program to compare float precision using different values (`0.1 + 0.2 == 0.3`).\n",
    "19. Write a calculator that performs different operations based on the type of input (string for concat, int/float for arithmetic).\n",
    "20. Create a small quiz where user inputs are compared with correct answers and appropriate type conversions are applied for checking."
   ]
  },
  {
   "cell_type": "markdown",
   "metadata": {},
   "source": [
    "11. Take two inputs and print whether they are of the same data type."
   ]
  },
  {
   "cell_type": "markdown",
   "metadata": {},
   "source": [
    "12. Perform addition of two numbers only if both are of type `int` (use `type()`)."
   ]
  },
  {
   "cell_type": "markdown",
   "metadata": {},
   "source": [
    "13. Write a program to check whether a given input is numeric (`int` or `float`) using `isinstance()`."
   ]
  },
  {
   "cell_type": "markdown",
   "metadata": {},
   "source": [
    "14. Convert a number to binary, octal, and hexadecimal using `bin()`, `oct()`, `hex()`."
   ]
  },
  {
   "cell_type": "markdown",
   "metadata": {},
   "source": [
    "15. Take user input and detect whether it’s a string, int, float, or bool using `eval()` and `type()`."
   ]
  },
  {
   "cell_type": "markdown",
   "metadata": {},
   "source": [
    "16. Create a list of variables with different data types and print their types using a loop."
   ]
  },
  {
   "cell_type": "markdown",
   "metadata": {},
   "source": [
    "17. Use `type()` to create a function that tells the data type of any variable."
   ]
  },
  {
   "cell_type": "markdown",
   "metadata": {},
   "source": [
    "18. Write a program to compare float precision using different values (`0.1 + 0.2 == 0.3`)."
   ]
  },
  {
   "cell_type": "markdown",
   "metadata": {},
   "source": [
    "19. Write a calculator that performs different operations based on the type of input (string for concat, int/float for arithmetic)."
   ]
  },
  {
   "cell_type": "markdown",
   "metadata": {},
   "source": [
    "20. Create a small quiz where user inputs are compared with correct answers and appropriate type conversions are applied for checking."
   ]
  }
 ],
 "metadata": {
  "kernelspec": {
   "display_name": "Python 3",
   "language": "python",
   "name": "python3"
  },
  "language_info": {
   "codemirror_mode": {
    "name": "ipython",
    "version": 3
   },
   "file_extension": ".py",
   "mimetype": "text/x-python",
   "name": "python",
   "nbconvert_exporter": "python",
   "pygments_lexer": "ipython3",
   "version": "3.13.3"
  }
 },
 "nbformat": 4,
 "nbformat_minor": 2
}
