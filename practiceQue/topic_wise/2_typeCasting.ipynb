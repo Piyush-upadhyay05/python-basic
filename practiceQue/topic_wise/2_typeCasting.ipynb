{
 "cells": [
  {
   "cell_type": "markdown",
   "metadata": {},
   "source": [
    "### 🔹 **Basic Level**\n",
    "\n",
    "1. Convert a string `\"123\"` to an integer and add 10 to it.\n",
    "2. Convert an integer `456` to a string and concatenate it with another string `\"789\"`.\n",
    "3. Convert a float `12.34` to an integer and print the result.\n",
    "4. Convert an integer `100` to a float and print the result.\n",
    "5. Convert a boolean `True` to an integer and a float.\n",
    "6. Convert an integer to a boolean and print the result.\n",
    "7. Use `str()`, `int()`, `float()`, and `bool()` to convert user input from string to respective types.\n",
    "8. Convert a string `\"45.67\"` to a float.\n",
    "9. Convert a float to a string and concatenate it with another string.\n",
    "10. Convert an integer to a complex number.\n",
    "\n",
    "---\n",
    "\n",
    "### 🔹 **Intermediate Level**\n",
    "\n",
    "11. Write a program to safely convert a string to an integer using exception handling (handle `ValueError`).\n",
    "12. Take user input as a string and convert it to an integer only if it contains digits.\n",
    "13. Convert a list of string numbers `[\"1\", \"2\", \"3\"]` to a list of integers using list comprehension.\n",
    "14. Convert a tuple of strings to a tuple of integers.\n",
    "15. Write a function that takes any data type and converts it to a string representation.\n",
    "16. Write a program to convert a string representing a number in hexadecimal (e.g., `\"1A\"`) to decimal integer.\n",
    "17. Convert a string with spaces `\"  123  \"` to an integer after stripping the spaces.\n",
    "18. Write a program to convert a float input to an integer using rounding (`round()`) before type casting.\n",
    "19. Convert a string representing a binary number (e.g., `\"1010\"`) to an integer.\n",
    "20. Convert user input to an appropriate data type based on content (e.g., `int` if digits, `float` if decimal point, else `string`).\n",
    "\n"
   ]
  }
 ],
 "metadata": {
  "kernelspec": {
   "display_name": "Python 3",
   "language": "python",
   "name": "python3"
  },
  "language_info": {
   "name": "python",
   "version": "3.13.3"
  }
 },
 "nbformat": 4,
 "nbformat_minor": 2
}
