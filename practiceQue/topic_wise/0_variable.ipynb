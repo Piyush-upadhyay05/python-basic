{
 "cells": [
  {
   "cell_type": "markdown",
   "metadata": {},
   "source": [
    "### 🔹 **Basic Level**\n",
    "\n",
    "1. Declare variables of different data types (`int`, `float`, `str`, `bool`) and print them.\n",
    "2. Take a user's name and age as input and print a greeting message.\n",
    "3. Swap two numbers using a temporary variable.\n",
    "4. Swap two numbers without using a temporary variable.\n",
    "5. Assign multiple variables in a single line (e.g., `a, b, c = 5, 10, 15`) and print their values.\n",
    "6. Use `type()` function to print the data type of each variable.\n",
    "7. Use `id()` function to print the memory address of a variable.\n",
    "8. Assign the same value to multiple variables (e.g., `x = y = z = 100`) and print them.\n",
    "9. Concatenate two string variables and display the result.\n",
    "10. Store a float value in a variable and print its rounded version.\n",
    "\n",
    "---\n",
    "\n",
    "### 🔹 **Intermediate Level**\n",
    "\n",
    "11. Take input for two numbers and perform all arithmetic operations (`+`, `-`, `*`, `/`, `//`, `%`, `**`).\n",
    "12. Take input for two strings and check whether they are identical using `is` and `==`.\n",
    "13. Use `in` and `not in` operators to check membership in string variables.\n",
    "14. Demonstrate the use of `+=`, `-=`, `*=`, `/=` with a single variable.\n",
    "15. Take name, age, and grade from user and display a formatted string using f-strings.\n",
    "16. Use `int()`, `float()`, and `str()` to convert between variable types and print results.\n",
    "17. Take a number as string input, convert it to integer, and perform addition.\n",
    "18. Swap values of three variables in a cyclic way (e.g., A→B, B→C, C→A).\n",
    "19. Create a variable for marks in 5 subjects, calculate total and average.\n",
    "20. Assign values from a list to multiple variables using unpacking and print them.\n",
    "\n"
   ]
  },
  {
   "cell_type": "code",
   "execution_count": null,
   "metadata": {},
   "outputs": [],
   "source": []
  }
 ],
 "metadata": {
  "kernelspec": {
   "display_name": "Python 3",
   "language": "python",
   "name": "python3"
  },
  "language_info": {
   "name": "python",
   "version": "3.13.3"
  }
 },
 "nbformat": 4,
 "nbformat_minor": 2
}
