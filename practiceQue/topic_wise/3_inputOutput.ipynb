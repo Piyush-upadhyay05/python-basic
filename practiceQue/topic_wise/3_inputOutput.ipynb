{
 "cells": [
  {
   "cell_type": "markdown",
   "metadata": {},
   "source": [
    "### 🔹 **Basic Level**\n",
    "\n",
    "\n",
    "\n"
   ]
  },
  {
   "cell_type": "markdown",
   "metadata": {},
   "source": [
    "1. Take input from the user and print it."
   ]
  },
  {
   "cell_type": "code",
   "execution_count": 2,
   "metadata": {},
   "outputs": [
    {
     "name": "stdout",
     "output_type": "stream",
     "text": [
      "deewf\n"
     ]
    }
   ],
   "source": [
    "x = input(\"enter something\")\n",
    "print(x)"
   ]
  },
  {
   "cell_type": "markdown",
   "metadata": {},
   "source": [
    "2. Take two numbers as input and print their sum."
   ]
  },
  {
   "cell_type": "code",
   "execution_count": 7,
   "metadata": {},
   "outputs": [
    {
     "name": "stdout",
     "output_type": "stream",
     "text": [
      "13\n"
     ]
    }
   ],
   "source": [
    "x = int(input(\"enter the first number\"))\n",
    "y = int(input(\"enter secind value\"))\n",
    "\n",
    "print(x + y)"
   ]
  },
  {
   "cell_type": "markdown",
   "metadata": {},
   "source": [
    "3. Take a user's name as input and greet them with “Hello, \\[name]!”."
   ]
  },
  {
   "cell_type": "code",
   "execution_count": 9,
   "metadata": {},
   "outputs": [
    {
     "name": "stdout",
     "output_type": "stream",
     "text": [
      "hello yash\n"
     ]
    }
   ],
   "source": [
    "x = input(\"enter your name\")\n",
    "print(f\"hello {x}\")"
   ]
  },
  {
   "cell_type": "markdown",
   "metadata": {},
   "source": [
    "4. Take three inputs from the user and print them on separate lines."
   ]
  },
  {
   "cell_type": "code",
   "execution_count": 10,
   "metadata": {},
   "outputs": [
    {
     "name": "stdout",
     "output_type": "stream",
     "text": [
      "yash\n",
      "is\n",
      "hero\n"
     ]
    }
   ],
   "source": [
    "x = input(\"enter first inpuit\")\n",
    "y = input(\"enter first inpuit\")\n",
    "z = input(\"enter first inpuit\")\n",
    "print(x)\n",
    "print(y)\n",
    "print(z)"
   ]
  },
  {
   "cell_type": "markdown",
   "metadata": {},
   "source": [
    "5. Take input for two numbers and print the result of multiplication."
   ]
  },
  {
   "cell_type": "code",
   "execution_count": 11,
   "metadata": {},
   "outputs": [
    {
     "name": "stdout",
     "output_type": "stream",
     "text": [
      "35\n"
     ]
    }
   ],
   "source": [
    "x = int(input(\"enter the first number\"))\n",
    "y = int(input(\"enter secind value\"))\n",
    "\n",
    "print(x * y)"
   ]
  },
  {
   "cell_type": "markdown",
   "metadata": {},
   "source": [
    "6. Take a float input and print it with 2 decimal places."
   ]
  },
  {
   "cell_type": "code",
   "execution_count": null,
   "metadata": {},
   "outputs": [
    {
     "name": "stdout",
     "output_type": "stream",
     "text": [
      "here decimal is 45.00\n"
     ]
    }
   ],
   "source": [
    "x = float(input(\"enter the first number\"))\n",
    "print(f\"here decimal is {x:.2f}\")"
   ]
  },
  {
   "cell_type": "markdown",
   "metadata": {},
   "source": [
    "7. Take input as a string and print its length."
   ]
  },
  {
   "cell_type": "code",
   "execution_count": 14,
   "metadata": {},
   "outputs": [
    {
     "name": "stdout",
     "output_type": "stream",
     "text": [
      "fwfgewrg\n",
      "8\n"
     ]
    }
   ],
   "source": [
    "x = input(\"enter the string\")\n",
    "print(x)\n",
    "print(len(x))"
   ]
  },
  {
   "cell_type": "markdown",
   "metadata": {},
   "source": [
    "8. Take input from the user and print it in uppercase."
   ]
  },
  {
   "cell_type": "code",
   "execution_count": 15,
   "metadata": {},
   "outputs": [
    {
     "name": "stdout",
     "output_type": "stream",
     "text": [
      "RGERGRE\n"
     ]
    }
   ],
   "source": [
    "x = input(\"enter the string\")\n",
    "print(x.upper())"
   ]
  },
  {
   "cell_type": "markdown",
   "metadata": {},
   "source": [
    "9. Take input for hours and minutes and print the time in “HH\\:MM” format."
   ]
  },
  {
   "cell_type": "code",
   "execution_count": 19,
   "metadata": {},
   "outputs": [
    {
     "name": "stdout",
     "output_type": "stream",
     "text": [
      "05:51\n"
     ]
    }
   ],
   "source": [
    "hours = int(input(\"Enter hours (0-23): \"))\n",
    "minutes = int(input(\"Enter minutes (0-59): \"))\n",
    "\n",
    "# Print in HH:MM format\n",
    "print(f\"{hours:02d}:{minutes:02d}\")\n"
   ]
  },
  {
   "cell_type": "markdown",
   "metadata": {},
   "source": [
    "10. Take multiple inputs in a single line separated by space and print them individually."
   ]
  },
  {
   "cell_type": "code",
   "execution_count": null,
   "metadata": {},
   "outputs": [
    {
     "name": "stdout",
     "output_type": "stream",
     "text": [
      "a = 45\n",
      "b = 56\n"
     ]
    }
   ],
   "source": [
    "# using split\n",
    "a, b = input(\"Enter two numbers: \").split()\n",
    "print(\"a =\", a)\n",
    "print(\"b =\", b)\n"
   ]
  },
  {
   "cell_type": "code",
   "execution_count": 22,
   "metadata": {},
   "outputs": [
    {
     "name": "stdout",
     "output_type": "stream",
     "text": [
      "Sum: 127\n"
     ]
    }
   ],
   "source": [
    "# using type conversion\n",
    "a, b = map(int, input(\"Enter two integers: \").split())\n",
    "print(\"Sum:\", a + b)\n"
   ]
  },
  {
   "cell_type": "markdown",
   "metadata": {},
   "source": [
    "### 🔹 **Intermediate Level**\n"
   ]
  },
  {
   "cell_type": "markdown",
   "metadata": {},
   "source": [
    "11. Take a string input and print it in reverse."
   ]
  },
  {
   "cell_type": "code",
   "execution_count": 24,
   "metadata": {},
   "outputs": [
    {
     "name": "stdout",
     "output_type": "stream",
     "text": [
      "hsay\n"
     ]
    }
   ],
   "source": [
    "x = input(\"enter string\")\n",
    "reverse = x[::-1]\n",
    "print(reverse)"
   ]
  },
  {
   "cell_type": "markdown",
   "metadata": {},
   "source": [
    "12. Take multiple integers as input in a single line and print their sum."
   ]
  },
  {
   "cell_type": "code",
   "execution_count": 27,
   "metadata": {},
   "outputs": [
    {
     "name": "stdout",
     "output_type": "stream",
     "text": [
      "sum 18\n"
     ]
    }
   ],
   "source": [
    "a , b , c = map(int, input(\"enter three integers\").split())\n",
    "print(\"sum\" , a + b + c)"
   ]
  },
  {
   "cell_type": "markdown",
   "metadata": {},
   "source": [
    "13. Take input of a list of numbers (space separated) and print the maximum and minimum."
   ]
  },
  {
   "cell_type": "code",
   "execution_count": 32,
   "metadata": {},
   "outputs": [
    {
     "name": "stdout",
     "output_type": "stream",
     "text": [
      "Maximum: 56\n",
      "Minimum: 5\n"
     ]
    }
   ],
   "source": [
    "del list  # Only needed if 'list' was overwritten\n",
    "numbers = list(map(int, input(\"Enter numbers (space-separated): \").split()))\n",
    "print(\"Maximum:\", max(numbers))\n",
    "print(\"Minimum:\", min(numbers))\n"
   ]
  },
  {
   "cell_type": "markdown",
   "metadata": {},
   "source": [
    "##### avoid naming\n",
    "| ❌ Don't use | ✅ Use instead    |\n",
    "| ----------- | ---------------- |\n",
    "| `list`      | `my_list`        |\n",
    "| `str`       | `text`, `string` |\n",
    "| `input`     | `user_input`     |\n",
    "| `int`       | `number`         |\n"
   ]
  },
  {
   "cell_type": "markdown",
   "metadata": {},
   "source": [
    "14. Take comma-separated input and convert it to a list."
   ]
  },
  {
   "cell_type": "code",
   "execution_count": 1,
   "metadata": {},
   "outputs": [
    {
     "name": "stdout",
     "output_type": "stream",
     "text": [
      "List: ['regre', 'ergre', 'gree']\n"
     ]
    }
   ],
   "source": [
    "# Taking comma-separated input and converting it to a list\n",
    "user_input = input(\"Enter comma-separated values: \")\n",
    "result_list = user_input.split(\",\")\n",
    "print(\"List:\", result_list)\n"
   ]
  },
  {
   "cell_type": "markdown",
   "metadata": {},
   "source": [
    "15. Take multiple inputs for name, age, and city and print them in a formatted sentence."
   ]
  },
  {
   "cell_type": "code",
   "execution_count": null,
   "metadata": {},
   "outputs": [],
   "source": []
  },
  {
   "cell_type": "markdown",
   "metadata": {},
   "source": [
    "16. Take input of a date in `DD/MM/YYYY` format and print day, month, and year separately."
   ]
  },
  {
   "cell_type": "markdown",
   "metadata": {},
   "source": [
    "17. Take a multiline input (3 lines) and print it as a paragraph."
   ]
  },
  {
   "cell_type": "markdown",
   "metadata": {},
   "source": [
    "18. Take a string input and print all vowels present in it."
   ]
  },
  {
   "cell_type": "markdown",
   "metadata": {},
   "source": [
    "19. Take input of grades for 5 subjects and calculate the average."
   ]
  },
  {
   "cell_type": "markdown",
   "metadata": {},
   "source": [
    "20. Write a program to format a floating-point number to 3 decimal places using user input."
   ]
  }
 ],
 "metadata": {
  "kernelspec": {
   "display_name": "Python 3",
   "language": "python",
   "name": "python3"
  },
  "language_info": {
   "codemirror_mode": {
    "name": "ipython",
    "version": 3
   },
   "file_extension": ".py",
   "mimetype": "text/x-python",
   "name": "python",
   "nbconvert_exporter": "python",
   "pygments_lexer": "ipython3",
   "version": "3.13.3"
  }
 },
 "nbformat": 4,
 "nbformat_minor": 2
}
