{
 "cells": [
  {
   "cell_type": "markdown",
   "metadata": {},
   "source": [
    "### 🔹 **Basic Level**\n",
    "\n",
    "1. Write a program to print numbers from 1 to 10 but stop printing when you reach 5 (use `break`).\n",
    "2. Print all numbers from 1 to 10 except 5 (use `continue`).\n",
    "3. Use `pass` inside a loop that iterates from 1 to 5 without performing any action.\n",
    "4. Write a program that takes user input repeatedly until the user enters \"exit\" (use `break`).\n",
    "5. Print all even numbers from 1 to 20, skip numbers divisible by 4 (use `continue`).\n",
    "\n",
    "---\n",
    "\n",
    "### 🔹 **Intermediate Level**\n",
    "\n",
    "6. Write a program to find the first prime number between 10 and 50 (use `break`).\n",
    "\n",
    "7. Iterate over a list of numbers, skip negative numbers and print only positive numbers (use `continue`).\n",
    "\n",
    "8. Write a program that checks a list for any zero values and breaks the loop if found.\n",
    "\n",
    "9. Use `pass` as a placeholder in a loop where the implementation will be added later.\n",
    "\n",
    "10. Write a program that takes multiple user inputs and stops if the input is a palindrome (use `break`).\n",
    "\n",
    "11. Print numbers from 1 to 20, but skip numbers divisible by 3 or 5 (use `continue`).\n",
    "\n",
    "12. Iterate over a string and print all characters until a vowel is encountered (use `break`).\n",
    "\n",
    "13. Use nested loops with `break` to exit both loops when a condition is met.\n",
    "\n",
    "14. Write a program using `continue` to skip printing spaces in a given string.\n",
    "\n",
    "15. Use `pass` in an `if` condition inside a loop to handle a specific case without any action.\n"
   ]
  }
 ],
 "metadata": {
  "kernelspec": {
   "display_name": "Python 3",
   "language": "python",
   "name": "python3"
  },
  "language_info": {
   "name": "python",
   "version": "3.13.3"
  }
 },
 "nbformat": 4,
 "nbformat_minor": 2
}
