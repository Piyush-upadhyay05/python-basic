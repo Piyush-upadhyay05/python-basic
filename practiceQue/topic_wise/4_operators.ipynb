{
 "cells": [
  {
   "cell_type": "markdown",
   "metadata": {},
   "source": [
    "### 🔹 **Basic Level**\n",
    "\n",
    "1. Take two numbers and perform addition, subtraction, multiplication, and division.\n",
    "2. Calculate the remainder when one number is divided by another using the modulus operator `%`.\n",
    "3. Perform floor division (`//`) on two numbers.\n",
    "4. Use the exponent operator `**` to calculate the power of a number.\n",
    "5. Compare two numbers using comparison operators (`==`, `!=`, `<`, `>`, `<=`, `>=`) and print the results.\n",
    "6. Use logical operators `and`, `or`, `not` on boolean variables and print the results.\n",
    "7. Use assignment operators (`+=`, `-=`, `*=`, `/=`, `%=`, `**=`) to update a variable and print its value after each operation.\n",
    "8. Use identity operators (`is`, `is not`) to compare two variables.\n",
    "9. Use membership operators (`in`, `not in`) to check if a character exists in a string.\n",
    "10. Write a program to check if a number is divisible by both 3 and 5 using logical operators.\n",
    "\n",
    "---\n",
    "\n",
    "### 🔹 **Intermediate Level**\n",
    "\n",
    "11. Write a program to swap two numbers using bitwise XOR operator.\n",
    "12. Use bitwise AND (`&`), OR (`|`), XOR (`^`), and NOT (`~`) on two integer variables and print results.\n",
    "13. Shift bits of an integer to the left and right using bitwise shift operators (`<<`, `>>`).\n",
    "14. Write a program that uses nested logical operators to check if a number lies within a range and is even.\n",
    "15. Create a program to check if a given character is a vowel or consonant using membership operators.\n",
    "16. Use assignment operators to increment a variable inside a loop and print each value.\n",
    "17. Use the ternary operator (conditional expression) to assign a value based on a condition.\n",
    "18. Write a program to count the number of set bits (1s) in the binary representation of a number using bitwise operators.\n",
    "19. Use identity operators to compare two lists and two variables pointing to the same list.\n",
    "20. Use logical and comparison operators together to validate user input within multiple conditions.\n",
    "\n"
   ]
  },
  {
   "cell_type": "markdown",
   "metadata": {},
   "source": []
  }
 ],
 "metadata": {
  "kernelspec": {
   "display_name": "Python 3",
   "language": "python",
   "name": "python3"
  },
  "language_info": {
   "name": "python",
   "version": "3.13.3"
  }
 },
 "nbformat": 4,
 "nbformat_minor": 2
}
