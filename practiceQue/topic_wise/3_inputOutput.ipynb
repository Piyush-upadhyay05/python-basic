{
 "cells": [
  {
   "cell_type": "markdown",
   "metadata": {},
   "source": [
    "### 🔹 **Basic Level**\n",
    "\n",
    "1. Take input from the user and print it.\n",
    "2. Take two numbers as input and print their sum.\n",
    "3. Take a user's name as input and greet them with “Hello, \\[name]!”.\n",
    "4. Take three inputs from the user and print them on separate lines.\n",
    "5. Take input for two numbers and print the result of multiplication.\n",
    "6. Take a float input and print it with 2 decimal places.\n",
    "7. Take input as a string and print its length.\n",
    "8. Take input from the user and print it in uppercase.\n",
    "9. Take input for hours and minutes and print the time in “HH\\:MM” format.\n",
    "10. Take multiple inputs in a single line separated by space and print them individually.\n",
    "\n",
    "---\n",
    "\n",
    "### 🔹 **Intermediate Level**\n",
    "\n",
    "11. Take a string input and print it in reverse.\n",
    "12. Take multiple integers as input in a single line and print their sum.\n",
    "13. Take input of a list of numbers (space separated) and print the maximum and minimum.\n",
    "14. Take comma-separated input and convert it to a list.\n",
    "15. Take multiple inputs for name, age, and city and print them in a formatted sentence.\n",
    "16. Take input of a date in `DD/MM/YYYY` format and print day, month, and year separately.\n",
    "17. Take a multiline input (3 lines) and print it as a paragraph.\n",
    "18. Take a string input and print all vowels present in it.\n",
    "19. Take input of grades for 5 subjects and calculate the average.\n",
    "20. Write a program to format a floating-point number to 3 decimal places using user input.\n"
   ]
  }
 ],
 "metadata": {
  "kernelspec": {
   "display_name": "Python 3",
   "language": "python",
   "name": "python3"
  },
  "language_info": {
   "name": "python",
   "version": "3.13.3"
  }
 },
 "nbformat": 4,
 "nbformat_minor": 2
}
