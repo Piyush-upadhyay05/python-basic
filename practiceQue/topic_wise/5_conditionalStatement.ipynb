{
 "cells": [
  {
   "cell_type": "markdown",
   "metadata": {},
   "source": [
    "### 🔹 **Basic Level**\n",
    "\n",
    "1. Write a program to check if a number is positive, negative, or zero.\n",
    "2. Check if a given number is even or odd.\n",
    "3. Take age as input and print if a person is eligible to vote (age ≥ 18).\n",
    "4. Check whether a character is a vowel or consonant.\n",
    "5. Compare two numbers and print the larger one.\n",
    "6. Take three numbers as input and print the greatest.\n",
    "7. Write a program to check if a year is a leap year or not.\n",
    "8. Take input of marks and print grade based on marks:\n",
    "\n",
    "   * `>= 90`: A\n",
    "   * `>= 80`: B\n",
    "   * `>= 70`: C\n",
    "   * `>= 60`: D\n",
    "   * `< 60`: F\n",
    "9. Check if a given string is empty or not.\n",
    "10. Write a program to print “Yes” if a number is divisible by 5, else print “No”.\n",
    "\n",
    "---\n",
    "\n",
    "### 🔹 **Intermediate Level**\n",
    "\n",
    "11. Write a program that takes three sides of a triangle and checks if the triangle is equilateral, isosceles, or scalene.\n",
    "12. Write a program to check if a character is an uppercase letter, lowercase letter, digit, or special character.\n",
    "13. Take input of a year and print if it is a century year and if it is a leap year.\n",
    "14. Take input of temperature and print appropriate messages based on temperature ranges (e.g., cold, warm, hot).\n",
    "15. Write a program to check whether a number is divisible by 3 or 7 but not both.\n",
    "16. Take input of time (in 24-hour format) and print greetings accordingly:\n",
    "\n",
    "    * `0-11`: Good Morning\n",
    "    * `12-16`: Good Afternoon\n",
    "    * `17-20`: Good Evening\n",
    "    * `21-23`: Good Night\n",
    "17. Write a program to calculate the discount based on purchase amount:\n",
    "\n",
    "    * > 1000: 10% discount\n",
    "    * 500-1000: 5% discount\n",
    "    * < 500: No discount\n",
    "18. Write a program to check if a password meets conditions:\n",
    "\n",
    "    * Minimum 8 characters\n",
    "    * Contains uppercase and lowercase letters\n",
    "    * Contains digits\n",
    "19. Write a program to check eligibility for a loan based on income and credit score.\n",
    "20. Take input of day number (1-7) and print corresponding day name.\n",
    "\n"
   ]
  }
 ],
 "metadata": {
  "kernelspec": {
   "display_name": "Python 3",
   "language": "python",
   "name": "python3"
  },
  "language_info": {
   "name": "python",
   "version": "3.13.3"
  }
 },
 "nbformat": 4,
 "nbformat_minor": 2
}
