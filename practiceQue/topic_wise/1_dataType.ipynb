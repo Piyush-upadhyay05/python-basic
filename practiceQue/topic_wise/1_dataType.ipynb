{
 "cells": [
  {
   "cell_type": "markdown",
   "metadata": {},
   "source": [
    "### 🔹 **Basic Level**\n",
    "\n",
    "1. Declare variables of these data types and print their values and types:\n",
    "\n",
    "   * `int`, `float`, `str`, `bool`, `NoneType`\n",
    "2. Convert a string to an integer using `int()`.\n",
    "3. Convert an integer to a string using `str()`.\n",
    "4. Convert a float to an integer using `int()` (observe what happens).\n",
    "5. Create a boolean variable and print its value and type.\n",
    "6. Create a variable with value `None` and print its type.\n",
    "7. Demonstrate implicit type conversion in Python (e.g., `a = 10 + 3.5`).\n",
    "8. Get input from user and convert:\n",
    "\n",
    "   * to int using `int()`\n",
    "   * to float using `float()`\n",
    "   * to bool using `bool()`\n",
    "9. Add an integer and float and print the result and its type.\n",
    "10. Multiply a string with an integer and print the result.\n",
    "\n",
    "---\n",
    "\n",
    "### 🔹 **Intermediate Level**\n",
    "\n",
    "11. Take two inputs and print whether they are of the same data type.\n",
    "12. Perform addition of two numbers only if both are of type `int` (use `type()`).\n",
    "13. Write a program to check whether a given input is numeric (`int` or `float`) using `isinstance()`.\n",
    "14. Convert a number to binary, octal, and hexadecimal using `bin()`, `oct()`, `hex()`.\n",
    "15. Take user input and detect whether it’s a string, int, float, or bool using `eval()` and `type()`.\n",
    "16. Create a list of variables with different data types and print their types using a loop.\n",
    "17. Use `type()` to create a function that tells the data type of any variable.\n",
    "18. Write a program to compare float precision using different values (`0.1 + 0.2 == 0.3`).\n",
    "19. Write a calculator that performs different operations based on the type of input (string for concat, int/float for arithmetic).\n",
    "20. Create a small quiz where user inputs are compared with correct answers and appropriate type conversions are applied for checking.\n",
    "\n"
   ]
  },
  {
   "cell_type": "markdown",
   "metadata": {},
   "source": [
    "1. Declare variables of these data types and print their values and types:\n",
    "   * `int`, `float`, `str`, `bool`, `NoneType`"
   ]
  },
  {
   "cell_type": "markdown",
   "metadata": {},
   "source": [
    "2. Convert a string to an integer using `int()`."
   ]
  },
  {
   "cell_type": "markdown",
   "metadata": {},
   "source": [
    "3. Convert an integer to a string using `str()`."
   ]
  },
  {
   "cell_type": "markdown",
   "metadata": {},
   "source": [
    "4. Convert a float to an integer using `int()` (observe what happens)."
   ]
  },
  {
   "cell_type": "markdown",
   "metadata": {},
   "source": [
    "5. Create a boolean variable and print its value and type."
   ]
  },
  {
   "cell_type": "markdown",
   "metadata": {},
   "source": []
  }
 ],
 "metadata": {
  "language_info": {
   "name": "python"
  }
 },
 "nbformat": 4,
 "nbformat_minor": 2
}
