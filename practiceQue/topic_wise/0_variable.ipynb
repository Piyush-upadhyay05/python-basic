{
 "cells": [
  {
   "cell_type": "markdown",
   "metadata": {},
   "source": [
    "### 🔹 **Basic Level**"
   ]
  },
  {
   "cell_type": "markdown",
   "metadata": {},
   "source": [
    "1. Declare variables of different data types (`int`, `float`, `str`, `bool`) and print them."
   ]
  },
  {
   "cell_type": "code",
   "execution_count": 1,
   "metadata": {},
   "outputs": [
    {
     "name": "stdout",
     "output_type": "stream",
     "text": [
      "24 string 2.99 True\n"
     ]
    }
   ],
   "source": [
    "x = int(24)\n",
    "y = str(\"string\")\n",
    "z = float(2.99)\n",
    "a = bool(True)\n",
    "print(x,y,z,a)"
   ]
  },
  {
   "cell_type": "markdown",
   "metadata": {},
   "source": [
    "2.  Take a user's name and age as input and print a greeting message."
   ]
  },
  {
   "cell_type": "code",
   "execution_count": 3,
   "metadata": {},
   "outputs": [
    {
     "name": "stdout",
     "output_type": "stream",
     "text": [
      "my name is yash and my age is 21\n"
     ]
    }
   ],
   "source": [
    "name = input(str(\"enter the name\"))\n",
    "age = input(\"enter the age\")\n",
    "greeting_message = print(f\"my name is {name} and my age is {age}\")"
   ]
  },
  {
   "cell_type": "markdown",
   "metadata": {},
   "source": [
    "3.  Swap two numbers using a temporary variable."
   ]
  },
  {
   "cell_type": "code",
   "execution_count": 10,
   "metadata": {},
   "outputs": [
    {
     "name": "stdout",
     "output_type": "stream",
     "text": [
      "2 3 2\n",
      "3 2\n"
     ]
    }
   ],
   "source": [
    "a = 2\n",
    "b = 3\n",
    "c = a\n",
    "print(a,b,c)\n",
    "a = b\n",
    "b = c \n",
    "c = a \n",
    "print(a,b)"
   ]
  },
  {
   "cell_type": "markdown",
   "metadata": {},
   "source": [
    "4.  Swap two numbers without using a temporary variable."
   ]
  },
  {
   "cell_type": "code",
   "execution_count": 14,
   "metadata": {},
   "outputs": [
    {
     "name": "stdout",
     "output_type": "stream",
     "text": [
      "2 3\n",
      "3 2\n"
     ]
    }
   ],
   "source": [
    "a = 2\n",
    "b = 3\n",
    "print(a,b)\n",
    "a,b = b,a\n",
    "print(a,b)"
   ]
  },
  {
   "cell_type": "markdown",
   "metadata": {},
   "source": [
    "5. Assign multiple variables in a single line (e.g., `a, b, c = 5, 10, 15`) and print their values."
   ]
  },
  {
   "cell_type": "code",
   "execution_count": 15,
   "metadata": {},
   "outputs": [
    {
     "name": "stdout",
     "output_type": "stream",
     "text": [
      "5 10 15\n"
     ]
    }
   ],
   "source": [
    "a, b , c = 5,10,15\n",
    "print(a,b,c)"
   ]
  },
  {
   "cell_type": "markdown",
   "metadata": {},
   "source": [
    "6. Use `type()` function to print the data type of each variable."
   ]
  },
  {
   "cell_type": "code",
   "execution_count": 18,
   "metadata": {},
   "outputs": [
    {
     "name": "stdout",
     "output_type": "stream",
     "text": [
      "<class 'int'>\n",
      "<class 'str'>\n",
      "<class 'float'>\n",
      "<class 'bool'>\n"
     ]
    }
   ],
   "source": [
    "x = 34\n",
    "y = \"hello\"\n",
    "z = 3.00\n",
    "t = True\n",
    "print(type(x))\n",
    "print(type(y))\n",
    "print(type(z))\n",
    "print(type(t))"
   ]
  },
  {
   "cell_type": "markdown",
   "metadata": {},
   "source": [
    "7. Use `id()` function to print the memory address of a variable."
   ]
  },
  {
   "cell_type": "code",
   "execution_count": 20,
   "metadata": {},
   "outputs": [
    {
     "name": "stdout",
     "output_type": "stream",
     "text": [
      "140238276993520\n",
      "140238276936720\n"
     ]
    }
   ],
   "source": [
    "x = \"string\"\n",
    "print(id(x))\n",
    "y = 3\n",
    "print(id(y))"
   ]
  },
  {
   "cell_type": "markdown",
   "metadata": {},
   "source": [
    "8. Assign the same value to multiple variables (e.g., `x = y = z = 100`) and print them."
   ]
  },
  {
   "cell_type": "code",
   "execution_count": 21,
   "metadata": {},
   "outputs": [
    {
     "name": "stdout",
     "output_type": "stream",
     "text": [
      "100 100 100\n"
     ]
    }
   ],
   "source": [
    "x = y = z = 100\n",
    "print(x,y,z)"
   ]
  },
  {
   "cell_type": "markdown",
   "metadata": {},
   "source": [
    "9. Concatenate two string variables and display the result."
   ]
  },
  {
   "cell_type": "code",
   "execution_count": 23,
   "metadata": {},
   "outputs": [
    {
     "name": "stdout",
     "output_type": "stream",
     "text": [
      "hello yash\n"
     ]
    }
   ],
   "source": [
    "x = \"hello\"\n",
    "y = \"yash\"\n",
    "print(x +\" \" + y)"
   ]
  },
  {
   "cell_type": "markdown",
   "metadata": {},
   "source": [
    "10 . Store a float value in a variable and print its rounded version."
   ]
  },
  {
   "cell_type": "code",
   "execution_count": 28,
   "metadata": {},
   "outputs": [
    {
     "name": "stdout",
     "output_type": "stream",
     "text": [
      "3\n",
      "5\n"
     ]
    }
   ],
   "source": [
    "x = 3.47\n",
    "print(round(x))\n",
    "y = 4.6\n",
    "print(round(y))"
   ]
  },
  {
   "cell_type": "markdown",
   "metadata": {},
   "source": [
    "### 🔹 **Intermediate Level**\n"
   ]
  },
  {
   "cell_type": "markdown",
   "metadata": {},
   "source": [
    "11. Take input for two numbers and perform all arithmetic operations (`+`, `-`, `*`, `/`, `//`, `%`, `**`)."
   ]
  },
  {
   "cell_type": "code",
   "execution_count": 33,
   "metadata": {},
   "outputs": [
    {
     "name": "stdout",
     "output_type": "stream",
     "text": [
      "93\n",
      "87\n",
      "270\n",
      "30.0\n",
      "0\n",
      "729000\n"
     ]
    }
   ],
   "source": [
    "x = int(input(\"enter the number\"))\n",
    "y = int(input(\"enter second number\"))\n",
    "print(x+y)\n",
    "print(x - y)\n",
    "print(x*y)\n",
    "print(x/y)\n",
    "print(x%y)\n",
    "print(x**y)"
   ]
  },
  {
   "cell_type": "markdown",
   "metadata": {},
   "source": [
    "12. Take input for two strings and check whether they are identical using `is` and `==`."
   ]
  },
  {
   "cell_type": "code",
   "execution_count": 38,
   "metadata": {},
   "outputs": [
    {
     "name": "stdout",
     "output_type": "stream",
     "text": [
      "not identical\n"
     ]
    }
   ],
   "source": [
    "x = str(input(\"enter the string first\"))\n",
    "y = str(input(\"enter the string second\"))\n",
    "if x is y:\n",
    "    print(\"yes it is identical\")\n",
    "else:\n",
    "    print(\"not identical\")"
   ]
  },
  {
   "cell_type": "markdown",
   "metadata": {},
   "source": [
    "Use == when comparing contents\n",
    "\n",
    "Use is when checking memory identity (usually used with None, True, etc.)"
   ]
  },
  {
   "cell_type": "code",
   "execution_count": 37,
   "metadata": {},
   "outputs": [
    {
     "name": "stdout",
     "output_type": "stream",
     "text": [
      "yes it is identical\n"
     ]
    }
   ],
   "source": [
    "x = str(input(\"enter the string first\"))\n",
    "y = str(input(\"enter the string second\"))\n",
    "if x == y:\n",
    "    print(\"yes it is identical\")\n",
    "else:\n",
    "    print(\"not identical\")"
   ]
  },
  {
   "cell_type": "markdown",
   "metadata": {},
   "source": [
    "13. Use `in` and `not in` operators to check membership in string variables."
   ]
  },
  {
   "cell_type": "code",
   "execution_count": 40,
   "metadata": {},
   "outputs": [
    {
     "name": "stdout",
     "output_type": "stream",
     "text": [
      "it is present\n",
      "not present\n"
     ]
    }
   ],
   "source": [
    "x = \"this is a good boy\"\n",
    "y = \"this is a bad boy\"\n",
    "if \"good\" in x:\n",
    "    print(\"it is present\")\n",
    "else:\n",
    "    print(\"not present\")\n",
    "\n",
    "if \"bad\" not in x:\n",
    "    print(\"not present\")\n",
    "else:\n",
    "    print(\"it is present\")"
   ]
  },
  {
   "cell_type": "markdown",
   "metadata": {},
   "source": [
    "14. Demonstrate the use of `+=`, `-=`, `*=`, `/=` with a single variable."
   ]
  },
  {
   "cell_type": "code",
   "execution_count": 45,
   "metadata": {},
   "outputs": [
    {
     "name": "stdout",
     "output_type": "stream",
     "text": [
      "4\n",
      "7\n",
      "5\n",
      "20\n",
      "10.0\n"
     ]
    }
   ],
   "source": [
    "x = 4\n",
    "print(x)\n",
    "x += 3\n",
    "print(x)\n",
    "x -=2\n",
    "print(x)\n",
    "x *= 4\n",
    "print(x)\n",
    "x /= 2\n",
    "print(x)\n"
   ]
  },
  {
   "cell_type": "markdown",
   "metadata": {},
   "source": [
    "15. Take name, age, and grade from user and display a formatted string using f-strings."
   ]
  },
  {
   "cell_type": "markdown",
   "metadata": {},
   "source": [
    "16. Use `int()`, `float()`, and `str()` to convert between variable types and print results."
   ]
  },
  {
   "cell_type": "markdown",
   "metadata": {},
   "source": [
    "17. Take a number as string input, convert it to integer, and perform addition."
   ]
  },
  {
   "cell_type": "markdown",
   "metadata": {},
   "source": [
    "18. Swap values of three variables in a cyclic way (e.g., A→B, B→C, C→A)."
   ]
  },
  {
   "cell_type": "markdown",
   "metadata": {},
   "source": [
    "19. Create a variable for marks in 5 subjects, calculate total and average."
   ]
  },
  {
   "cell_type": "markdown",
   "metadata": {},
   "source": [
    "20. Assign values from a list to multiple variables using unpacking and print them."
   ]
  }
 ],
 "metadata": {
  "kernelspec": {
   "display_name": "Python 3",
   "language": "python",
   "name": "python3"
  },
  "language_info": {
   "codemirror_mode": {
    "name": "ipython",
    "version": 3
   },
   "file_extension": ".py",
   "mimetype": "text/x-python",
   "name": "python",
   "nbconvert_exporter": "python",
   "pygments_lexer": "ipython3",
   "version": "3.13.3"
  }
 },
 "nbformat": 4,
 "nbformat_minor": 2
}
